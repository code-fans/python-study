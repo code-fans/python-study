{
 "cells": [
  {
   "cell_type": "code",
   "execution_count": 1,
   "metadata": {},
   "outputs": [],
   "source": [
    "import tensorflow as tf\n",
    "import matplotlib.pyplot as plt\n",
    "from tensorflow.examples.tutorials.mnist import input_data\n",
    "import numpy as np\n",
    "import os\n",
    "from PIL import Image"
   ]
  },
  {
   "cell_type": "code",
   "execution_count": 2,
   "metadata": {},
   "outputs": [
    {
     "name": "stdout",
     "output_type": "stream",
     "text": [
      "WARNING:tensorflow:From <ipython-input-2-86f6a6078d05>:2: read_data_sets (from tensorflow.contrib.learn.python.learn.datasets.mnist) is deprecated and will be removed in a future version.\n",
      "Instructions for updating:\n",
      "Please use alternatives such as official/mnist/dataset.py from tensorflow/models.\n",
      "WARNING:tensorflow:From /opt/AI/anaconda3/lib/python3.6/site-packages/tensorflow/contrib/learn/python/learn/datasets/mnist.py:260: maybe_download (from tensorflow.contrib.learn.python.learn.datasets.base) is deprecated and will be removed in a future version.\n",
      "Instructions for updating:\n",
      "Please write your own downloading logic.\n",
      "WARNING:tensorflow:From /opt/AI/anaconda3/lib/python3.6/site-packages/tensorflow/contrib/learn/python/learn/datasets/mnist.py:262: extract_images (from tensorflow.contrib.learn.python.learn.datasets.mnist) is deprecated and will be removed in a future version.\n",
      "Instructions for updating:\n",
      "Please use tf.data to implement this functionality.\n",
      "Extracting ../../deepLearning/dataset/train-images-idx3-ubyte.gz\n",
      "WARNING:tensorflow:From /opt/AI/anaconda3/lib/python3.6/site-packages/tensorflow/contrib/learn/python/learn/datasets/mnist.py:267: extract_labels (from tensorflow.contrib.learn.python.learn.datasets.mnist) is deprecated and will be removed in a future version.\n",
      "Instructions for updating:\n",
      "Please use tf.data to implement this functionality.\n",
      "Extracting ../../deepLearning/dataset/train-labels-idx1-ubyte.gz\n",
      "WARNING:tensorflow:From /opt/AI/anaconda3/lib/python3.6/site-packages/tensorflow/contrib/learn/python/learn/datasets/mnist.py:110: dense_to_one_hot (from tensorflow.contrib.learn.python.learn.datasets.mnist) is deprecated and will be removed in a future version.\n",
      "Instructions for updating:\n",
      "Please use tf.one_hot on tensors.\n",
      "Extracting ../../deepLearning/dataset/t10k-images-idx3-ubyte.gz\n",
      "Extracting ../../deepLearning/dataset/t10k-labels-idx1-ubyte.gz\n",
      "WARNING:tensorflow:From /opt/AI/anaconda3/lib/python3.6/site-packages/tensorflow/contrib/learn/python/learn/datasets/mnist.py:290: DataSet.__init__ (from tensorflow.contrib.learn.python.learn.datasets.mnist) is deprecated and will be removed in a future version.\n",
      "Instructions for updating:\n",
      "Please use alternatives such as official/mnist/dataset.py from tensorflow/models.\n",
      "(55000, 784)\n",
      "(55000, 10)\n",
      "(5000, 784)\n",
      "(5000, 10)\n",
      "(10000, 784)\n",
      "(10000, 10)\n"
     ]
    }
   ],
   "source": [
    "# 从MNIST_data/中读取MNIST数据。这条语句在数据不存在时，会自动执行下载\n",
    "mnist = input_data.read_data_sets(\"../../deepLearning/dataset/\", one_hot=True)\n",
    "\n",
    "# 查看训练数据的大小\n",
    "print(mnist.train.images.shape)  # (55000, 784)\n",
    "print(mnist.train.labels.shape)  # (55000, 10)\n",
    "\n",
    "# 查看验证数据的大小\n",
    "print(mnist.validation.images.shape)  # (5000, 784)\n",
    "print(mnist.validation.labels.shape)  # (5000, 10)\n",
    "\n",
    "# 查看测试数据的大小\n",
    "print(mnist.test.images.shape)  # (10000, 784)\n",
    "print(mnist.test.labels.shape)  # (10000, 10)\n",
    "\n",
    "# 打印出第0幅图片的向量表示\n",
    "#print(mnist.train.images[0, :])\n",
    "# 打印出第0幅图片的标签\n",
    "#print(mnist.train.labels[0, :])"
   ]
  },
  {
   "cell_type": "code",
   "execution_count": 3,
   "metadata": {},
   "outputs": [
    {
     "name": "stdout",
     "output_type": "stream",
     "text": [
      "[7, 3, 4, 6, 1, 8, 1, 0, 9, 8, 0, 3, 1, 2, 7, 0, 2, 9, 6, 0]\n"
     ]
    },
    {
     "data": {
      "image/png": "[encoded data removed]",
      "text/plain": [
       "<Figure size 360x288 with 20 Axes>"
      ]
     },
     "metadata": {},
     "output_type": "display_data"
    }
   ],
   "source": [
    "# 如果没有这个文件夹会自动创建\n",
    "fig = plt.figure(figsize=(5, 4))\n",
    "fig.subplots_adjust(left=0, right=1, bottom=0, top=1, hspace=0.2, wspace=0.2)\n",
    "# 保存前20张图片\n",
    "image_labels = []\n",
    "\n",
    "for i in range(20):\n",
    "    # 请注意，mnist.train.images[i, :]就表示第i张图片（序号从0开始）\n",
    "    image_array = mnist.train.images[i, :]\n",
    "    image_labels.append(np.argmax(mnist.train.labels[i, :]))\n",
    "    ax = fig.add_subplot(4, 5, i+1, xticks=[], yticks=[])\n",
    "    ax.imshow(image_array.reshape(28, 28), cmap=plt.cm.gray_r, interpolation='nearest')\n",
    "\n",
    "print(image_labels)\n",
    "plt.show()\n"
   ]
  },
  {
   "cell_type": "code",
   "execution_count": 4,
   "metadata": {},
   "outputs": [
    {
     "name": "stdout",
     "output_type": "stream",
     "text": [
      "start training...\n",
      "0.6573\n"
     ]
    }
   ],
   "source": [
    "\n",
    "# 创建x，x是一个占位符（placeholder），代表待识别的图片\n",
    "x = tf.placeholder(tf.float32, [None, 784])\n",
    "\n",
    "# W是Softmax模型的参数，将一个784维的输入转换为一个10维的输出\n",
    "# 在TensorFlow中，变量的参数用tf.Variable表示\n",
    "W = tf.Variable(tf.zeros([784, 100]))\n",
    "# b是又一个Softmax模型的参数，我们一般叫做“偏置项”（bias）。\n",
    "b = tf.Variable(tf.zeros([100]))\n",
    "#sigmoid relu\n",
    "# 添加了一层 好像很失败，怎么都不能提高效果\n",
    "a = tf.nn.sigmoid(tf.matmul(x, W) + b)\n",
    "W2 = tf.Variable(tf.zeros([100, 10]))\n",
    "# b是又一个Softmax模型的参数，我们一般叫做“偏置项”（bias）。\n",
    "b2 = tf.Variable(tf.zeros([10]))\n",
    "\n",
    "# y=softmax(Wx + b)，y表示模型的输出\n",
    "y = tf.nn.softmax(tf.matmul(a, W2) + b2)\n",
    "\n",
    "# y_是实际的图像标签，同样以占位符表示。\n",
    "y_ = tf.placeholder(tf.float32, [None, 10])\n",
    "\n",
    "# 至此，我们得到了两个重要的Tensor：y和y_。\n",
    "# y是模型的输出，y_是实际的图像标签，不要忘了y_是独热表示的\n",
    "# 下面我们就会根据y和y_构造损失\n",
    "\n",
    "# 根据y, y_构造交叉熵损失\n",
    "cross_entropy = tf.reduce_mean(-tf.reduce_sum(y_ * tf.log(y)))\n",
    "\n",
    "# 有了损失，我们就可以用随机梯度下降针对模型的参数（W和b）进行优化\n",
    "#  .GradientDescentOptimizer AdagradOptimizer\n",
    "train_step = tf.train.GradientDescentOptimizer(0.005).minimize(cross_entropy)\n",
    "\n",
    "# 创建一个Session。只有在Session中才能运行优化步骤train_step。\n",
    "sess = tf.InteractiveSession()\n",
    "# 运行之前必须要初始化所有变量，分配内存。\n",
    "tf.global_variables_initializer().run()\n",
    "print('start training...')\n",
    "\n",
    "# 进行1000步梯度下降\n",
    "for _ in range(10000):\n",
    "    # 在mnist.train中取100个训练数据\n",
    "    # batch_xs是形状为(100, 784)的图像数据，batch_ys是形如(100, 10)的实际标签\n",
    "    # batch_xs, batch_ys对应着两个占位符x和y_\n",
    "    batch_xs, batch_ys = mnist.train.next_batch(100)\n",
    "    # 在Session中运行train_step，运行时要传入占位符的值\n",
    "    sess.run(train_step, feed_dict={x: batch_xs, y_: batch_ys})\n",
    "\n",
    "# 正确的预测结果\n",
    "correct_prediction = tf.equal(tf.argmax(y, 1), tf.argmax(y_, 1))\n",
    "# 计算预测准确率，它们都是Tensor\n",
    "accuracy = tf.reduce_mean(tf.cast(correct_prediction, tf.float32))\n",
    "# 在Session中运行Tensor可以得到Tensor的值\n",
    "# 这里是获取最终模型的正确率\n",
    "print(sess.run(accuracy, feed_dict={x: mnist.test.images, y_: mnist.test.labels}))  # 0.9185\n",
    "\n",
    "sess.close()"
   ]
  },
  {
   "cell_type": "code",
   "execution_count": 5,
   "metadata": {},
   "outputs": [],
   "source": [
    "def weight_variable(shape):\n",
    "    initial = tf.truncated_normal(shape, stddev=0.1)\n",
    "    return tf.Variable(initial)\n",
    "\n",
    "\n",
    "def bias_variable(shape):\n",
    "    initial = tf.constant(0.1, shape=shape)\n",
    "    return tf.Variable(initial)\n",
    "\n",
    "\n",
    "def conv2d(x, W):\n",
    "    return tf.nn.conv2d(x, W, strides=[1, 1, 1, 1], padding='SAME')\n",
    "\n",
    "\n",
    "def max_pool_2x2(x):\n",
    "    return tf.nn.max_pool(x, ksize=[1, 2, 2, 1],\n",
    "                          strides=[1, 2, 2, 1], padding='SAME')"
   ]
  },
  {
   "cell_type": "code",
   "execution_count": 6,
   "metadata": {},
   "outputs": [
    {
     "name": "stdout",
     "output_type": "stream",
     "text": [
      "WARNING:tensorflow:From <ipython-input-6-fd6fcee14b75>:36: softmax_cross_entropy_with_logits (from tensorflow.python.ops.nn_ops) is deprecated and will be removed in a future version.\n",
      "Instructions for updating:\n",
      "\n",
      "Future major versions of TensorFlow will allow gradients to flow\n",
      "into the labels input on backprop by default.\n",
      "\n",
      "See @{tf.nn.softmax_cross_entropy_with_logits_v2}.\n",
      "\n",
      "step 0, training accuracy 0.06\n",
      "test accuracy 0.8121\n"
     ]
    }
   ],
   "source": [
    "# x为训练图像的占位符、y_为训练图像标签的占位符\n",
    "x = tf.placeholder(tf.float32, [None, 784])\n",
    "y_ = tf.placeholder(tf.float32, [None, 10])\n",
    "\n",
    "# 将单张图片从784维向量重新还原为28x28的矩阵图片\n",
    "x_image = tf.reshape(x, [-1, 28, 28, 1])\n",
    "\n",
    "# 第一层卷积层\n",
    "W_conv1 = weight_variable([5, 5, 1, 32])\n",
    "b_conv1 = bias_variable([32])\n",
    "h_conv1 = tf.nn.relu(conv2d(x_image, W_conv1) + b_conv1)\n",
    "h_pool1 = max_pool_2x2(h_conv1)\n",
    "\n",
    "# 第二层卷积层\n",
    "W_conv2 = weight_variable([5, 5, 32, 64])\n",
    "b_conv2 = bias_variable([64])\n",
    "h_conv2 = tf.nn.relu(conv2d(h_pool1, W_conv2) + b_conv2)\n",
    "h_pool2 = max_pool_2x2(h_conv2)\n",
    "\n",
    "# 全连接层，输出为1024维的向量\n",
    "W_fc1 = weight_variable([7 * 7 * 64, 1024])\n",
    "b_fc1 = bias_variable([1024])\n",
    "h_pool2_flat = tf.reshape(h_pool2, [-1, 7 * 7 * 64])\n",
    "h_fc1 = tf.nn.relu(tf.matmul(h_pool2_flat, W_fc1) + b_fc1)\n",
    "# 使用Dropout，keep_prob是一个占位符，训练时为0.5，测试时为1\n",
    "keep_prob = tf.placeholder(tf.float32)\n",
    "h_fc1_drop = tf.nn.dropout(h_fc1, keep_prob)\n",
    "\n",
    "# 把1024维的向量转换成10维，对应10个类别\n",
    "W_fc2 = weight_variable([1024, 10])\n",
    "b_fc2 = bias_variable([10])\n",
    "y_conv = tf.matmul(h_fc1_drop, W_fc2) + b_fc2\n",
    "\n",
    "# 我们不采用先Softmax再计算交叉熵的方法，而是直接用tf.nn.softmax_cross_entropy_with_logits直接计算\n",
    "cross_entropy = tf.reduce_mean(\n",
    "    tf.nn.softmax_cross_entropy_with_logits(labels=y_, logits=y_conv))\n",
    "# 同样定义train_step\n",
    "train_step = tf.train.AdamOptimizer(1e-4).minimize(cross_entropy)\n",
    "\n",
    "# 定义测试的准确率\n",
    "correct_prediction = tf.equal(tf.argmax(y_conv, 1), tf.argmax(y_, 1))\n",
    "accuracy = tf.reduce_mean(tf.cast(correct_prediction, tf.float32))\n",
    "\n",
    "# 创建Session和变量初始化\n",
    "sess = tf.InteractiveSession()\n",
    "sess.run(tf.global_variables_initializer())\n",
    "\n",
    "# 训练20000步\n",
    "for i in range(100):\n",
    "    batch = mnist.train.next_batch(50)\n",
    "    # 每100步报告一次在验证集上的准确度\n",
    "    if i % 100 == 0:\n",
    "        train_accuracy = accuracy.eval(feed_dict={\n",
    "            x: batch[0], y_: batch[1], keep_prob: 1.0})\n",
    "        print(\"step %d, training accuracy %g\" % (i, train_accuracy))\n",
    "    train_step.run(feed_dict={x: batch[0], y_: batch[1], keep_prob: 0.5})\n",
    "\n",
    "# 训练结束后报告在测试集上的准确度\n",
    "print(\"test accuracy %g\" % accuracy.eval(feed_dict={\n",
    "    x: mnist.test.images, y_: mnist.test.labels, keep_prob: 1.0}))\n",
    "sess.close()"
   ]
  },
  {
   "cell_type": "code",
   "execution_count": 7,
   "metadata": {},
   "outputs": [
    {
     "name": "stdout",
     "output_type": "stream",
     "text": [
      "Please check: MNIST_data/ \n"
     ]
    }
   ],
   "source": [
    "# 我们把原始图片保存在MNIST_data/raw/文件夹下\n",
    "# 如果没有这个文件夹会自动创建\n",
    "save_dir = 'MNIST_data/'\n",
    "if os.path.exists(save_dir) is False:\n",
    "    os.makedirs(save_dir)\n",
    "\n",
    "# 保存前20张图片\n",
    "for i in range(20):\n",
    "    # 请注意，mnist.train.images[i, :]就表示第i张图片（序号从0开始）\n",
    "    image_array = mnist.train.images[i, :]\n",
    "    # TensorFlow中的MNIST图片是一个784维的向量，我们重新把它还原为28x28维的图像。\n",
    "    image_data = image_array.copy()\n",
    "    image_data = image_data.reshape(28, 28)\n",
    "    image_data = (255 - image_data * 255)\n",
    "    # 保存文件的格式为 mnist_train_0.jpg, mnist_train_1.jpg, ... ,mnist_train_19.jpg\n",
    "    filename = save_dir + 'mnist_train_%d.jpg' % i\n",
    "    # 将image_array保存为图片\n",
    "    # 先用scipy.misc.toimage转换为图像，再调用save直接保存。\n",
    "    image = Image.fromarray(image_data)\n",
    "    image = image.convert('RGB')\n",
    "    image.save(filename)\n",
    "\n",
    "print('Please check: %s ' % save_dir)\n"
   ]
  }
 ],
 "metadata": {
  "kernelspec": {
   "display_name": "Python 3",
   "language": "python",
   "name": "python3"
  },
  "language_info": {
   "codemirror_mode": {
    "name": "ipython",
    "version": 3
   },
   "file_extension": ".py",
   "mimetype": "text/x-python",
   "name": "python",
   "nbconvert_exporter": "python",
   "pygments_lexer": "ipython3",
   "version": "3.6.5"
  }
 },
 "nbformat": 4,
 "nbformat_minor": 2
}
