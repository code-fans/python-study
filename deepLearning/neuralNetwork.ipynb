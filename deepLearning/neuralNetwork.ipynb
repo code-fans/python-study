{
 "cells": [
  {
   "cell_type": "code",
   "execution_count": 1,
   "metadata": {},
   "outputs": [],
   "source": [
    "import numpy as np\n",
    "import matplotlib.pyplot as plt\n",
    "from dataset.mnist import load_mnist\n",
    "from PIL import Image\n",
    "import pickle as pickle "
   ]
  },
  {
   "cell_type": "code",
   "execution_count": 2,
   "metadata": {},
   "outputs": [],
   "source": [
    "def stepFunc(x):\n",
    "    return np.array(x>0, dtype=np.int)"
   ]
  },
  {
   "cell_type": "code",
   "execution_count": 3,
   "metadata": {},
   "outputs": [],
   "source": [
    "def sigmoid(x):\n",
    "    return 1 / (1 + np.exp(-x))"
   ]
  },
  {
   "cell_type": "code",
   "execution_count": 4,
   "metadata": {},
   "outputs": [],
   "source": [
    "def reLU(x):\n",
    "    return np.maximum(0,x)"
   ]
  },
  {
   "cell_type": "code",
   "execution_count": 5,
   "metadata": {},
   "outputs": [],
   "source": [
    "# tanh = sinh(x)/cosh(x)\n",
    "def tanh(x):\n",
    "    # tanh\n",
    "    #return (np.exp(x) - np.exp(-x))/(np.exp(x)+np.exp(-x))\n",
    "    # (tanh + 1) / 2 这样结果区间 就在0～1之间了，和其他函数一致 （*eLU 除外）\n",
    "    # return np.exp(x)/(np.exp(x)+np.exp(-x))\n",
    "    # (tanh + 1) / 2 化简一下 就和  sigmoid \n",
    "    # 1 / (1 + np.exp(-x)) = 1 / (1 + np.exp(-x))\n",
    "    return 1 / (1 + np.exp( - 2 * x))"
   ]
  },
  {
   "cell_type": "code",
   "execution_count": 6,
   "metadata": {},
   "outputs": [],
   "source": [
    "def eLU(x, a = 1):\n",
    "    return [x1 if x1>0 else a *(np.exp(x1)-1) for x1 in x ]\n",
    "    #y = x.copy()\n",
    "    #y[x<0] = a *(np.exp(y[x<0])-1)\n",
    "    #return y"
   ]
  },
  {
   "cell_type": "code",
   "execution_count": 7,
   "metadata": {},
   "outputs": [],
   "source": [
    "def pReLU(x, a=0.1):\n",
    "    return np.maximum(a*x, x)"
   ]
  },
  {
   "cell_type": "code",
   "execution_count": 8,
   "metadata": {},
   "outputs": [],
   "source": [
    "def plotFunc():\n",
    "    x = np.arange(-5.0, 5.0, 0.5)\n",
    "    fig = plt.figure()\n",
    "    ax = fig.add_subplot(321)\n",
    "    ax.plot(x,stepFunc(x))\n",
    "    ax.text(-4.9,0.7,'step function')\n",
    "    ax = fig.add_subplot(322)\n",
    "    ax.plot(x,sigmoid(x), c='red')\n",
    "    ax.text(-4.9,0.7,'sigmoid')\n",
    "    ax = fig.add_subplot(323)\n",
    "    ax.plot(x,eLU(x), c='black')\n",
    "    ax.text(-4.9,4,'ELU')\n",
    "    ax = fig.add_subplot(324)\n",
    "    ax.plot(x,reLU(x), c='green')\n",
    "    ax.text(-4.9,4,'ReLU')\n",
    "    ax = fig.add_subplot(325)\n",
    "    ax.plot(x,tanh(x), c='blue')\n",
    "    ax.text(-4.9,0.7,'tanh')\n",
    "    ax = fig.add_subplot(326)\n",
    "    ax.plot(x,pReLU(x), c='pink')\n",
    "    ax.text(-4.9,4,'PReLU')\n",
    "    plt.show()"
   ]
  },
  {
   "cell_type": "code",
   "execution_count": 9,
   "metadata": {},
   "outputs": [
    {
     "data": {
      "image/png": "[encoded data removed]",
      "text/plain": [
       "<Figure size 432x288 with 6 Axes>"
      ]
     },
     "metadata": {},
     "output_type": "display_data"
    }
   ],
   "source": [
    "plotFunc()"
   ]
  },
  {
   "cell_type": "code",
   "execution_count": 10,
   "metadata": {},
   "outputs": [],
   "source": [
    "#恒等函数\n",
    "def identifyFunc(x):\n",
    "    return x"
   ]
  },
  {
   "cell_type": "code",
   "execution_count": 11,
   "metadata": {},
   "outputs": [],
   "source": [
    "def initNetwork():\n",
    "    W = []; B = []\n",
    "    W.append(np.array([[0.1,0.3,0.5],[0.2,0.4,0.6]]))\n",
    "    B.append(np.array([0.1,0.2,0.3]))\n",
    "    W.append(np.array([[0.1,0.4],[0.2,0.5],[0.3,0.6]]))\n",
    "    B.append(np.array([0.1,0.2]))\n",
    "    W.append(np.array([[0.1,0.3],[0.2,0.4]]))\n",
    "    B.append(np.array([0.1,0.2]))\n",
    "    return W, B, 3"
   ]
  },
  {
   "cell_type": "code",
   "execution_count": 12,
   "metadata": {},
   "outputs": [],
   "source": [
    "def calcLayer(A, w, b, h=sigmoid):\n",
    "    return h(np.dot(A,w) + b)"
   ]
  },
  {
   "cell_type": "code",
   "execution_count": 13,
   "metadata": {},
   "outputs": [],
   "source": [
    "def forward(network, x, h=sigmoid, sigma = identifyFunc ):\n",
    "    W, B, l = network\n",
    "    A = x\n",
    "    for i in range(l-1):\n",
    "        A = calcLayer(A, W[i], B[i], h)\n",
    "    return calcLayer(A, W[l-1], B[l-1], sigma)"
   ]
  },
  {
   "cell_type": "code",
   "execution_count": 14,
   "metadata": {},
   "outputs": [
    {
     "data": {
      "text/plain": [
       "array([0.31682708, 0.69627909])"
      ]
     },
     "execution_count": 14,
     "metadata": {},
     "output_type": "execute_result"
    }
   ],
   "source": [
    "network = initNetwork()\n",
    "x = np.array([1.0,0.5])\n",
    "forward(network,x)"
   ]
  },
  {
   "cell_type": "code",
   "execution_count": 15,
   "metadata": {},
   "outputs": [],
   "source": [
    "def softmax(x):\n",
    "    c = np.max(x)\n",
    "    expA = np.exp(x - c)\n",
    "    return expA / np.sum(expA)"
   ]
  },
  {
   "cell_type": "code",
   "execution_count": 16,
   "metadata": {},
   "outputs": [
    {
     "data": {
      "text/plain": [
       "array([0.40625907, 0.59374093])"
      ]
     },
     "execution_count": 16,
     "metadata": {},
     "output_type": "execute_result"
    }
   ],
   "source": [
    "forward(network,x,sigma = softmax)"
   ]
  },
  {
   "cell_type": "code",
   "execution_count": 17,
   "metadata": {},
   "outputs": [],
   "source": [
    "def img_show(img):\n",
    "    pil_img = Image.fromarray(np.uint8(img))\n",
    "    pil_img.show()"
   ]
  },
  {
   "cell_type": "code",
   "execution_count": 18,
   "metadata": {},
   "outputs": [],
   "source": [
    "(x_train, t_train), (x_test, t_test) = load_mnist(flatten=True, normalize=False)"
   ]
  },
  {
   "cell_type": "code",
   "execution_count": 19,
   "metadata": {},
   "outputs": [],
   "source": [
    "img = x_train[0]\n",
    "img = img.reshape(28, 28)  # 把图像的形状变为原来的尺寸\n",
    "img_show(img)"
   ]
  },
  {
   "cell_type": "code",
   "execution_count": 20,
   "metadata": {},
   "outputs": [
    {
     "data": {
      "image/png": "[encoded data removed]",
      "text/plain": [
       "<Figure size 432x288 with 1 Axes>"
      ]
     },
     "metadata": {},
     "output_type": "display_data"
    }
   ],
   "source": [
    "plt.imshow(img)\n",
    "plt.show()"
   ]
  },
  {
   "cell_type": "code",
   "execution_count": 21,
   "metadata": {},
   "outputs": [],
   "source": [
    "def get_data(zgh = True):\n",
    "    (x_train, t_train), (x_test, t_test) = load_mnist(normalize = zgh, flatten=True, one_hot_label=False)\n",
    "    return x_test, t_test"
   ]
  },
  {
   "cell_type": "code",
   "execution_count": 22,
   "metadata": {},
   "outputs": [],
   "source": [
    "def load_network():\n",
    "    with open(\"ch03_weight.obj\", 'rb') as f:\n",
    "        network = pickle.load(f)\n",
    "    return network"
   ]
  },
  {
   "cell_type": "code",
   "execution_count": 23,
   "metadata": {},
   "outputs": [],
   "source": [
    "def predict(network, x , h = sigmoid, sigma = identifyFunc ):\n",
    "    W1, W2, W3 = network['W1'], network['W2'], network['W3']\n",
    "    b1, b2, b3 = network['b1'], network['b2'], network['b3']\n",
    "\n",
    "    a1 = calcLayer(x, W1, b1, h)\n",
    "    a2 = calcLayer(a1, W2, b2, h )\n",
    "    y  = calcLayer(a2, W3, b3, sigma )\n",
    "    \n",
    "    return y"
   ]
  },
  {
   "cell_type": "code",
   "execution_count": 24,
   "metadata": {},
   "outputs": [],
   "source": [
    "x, t = get_data(True)\n",
    "network = load_network()"
   ]
  },
  {
   "cell_type": "code",
   "execution_count": 25,
   "metadata": {},
   "outputs": [
    {
     "name": "stdout",
     "output_type": "stream",
     "text": [
      "Accuracy: 93.52%\n"
     ]
    }
   ],
   "source": [
    "accuracy_cnt = 0\n",
    "for i in range(len(x)):\n",
    "    y = predict(network, x[i], h = sigmoid , sigma = identifyFunc  )\n",
    "    p = np.argmax(y) # 获取概率最高的元素的索引\n",
    "    if p == t[i]:\n",
    "        accuracy_cnt += 1\n",
    "\n",
    "print(\"Accuracy: %.2f%%\" %(float(accuracy_cnt) / len(x) * 100))"
   ]
  },
  {
   "cell_type": "code",
   "execution_count": 26,
   "metadata": {},
   "outputs": [],
   "source": [
    "# 这个式common 中的代码， 在批处理中  y_batch.ndim == 2\n",
    "# 但是这个是否不影响 运行的结果\n",
    "def softmax2dim(x):\n",
    "    if x.ndim == 2:\n",
    "        x = x.T\n",
    "        x = x - np.max(x, axis=0)\n",
    "        expX = np.exp(x)\n",
    "        y = expX / np.sum(expX, axis=0)\n",
    "        return y.T \n",
    "\n",
    "    x = x - np.max(x) # 溢出对策\n",
    "    expX = np.exp(x)\n",
    "    return expX / np.sum(expX)"
   ]
  },
  {
   "cell_type": "code",
   "execution_count": 27,
   "metadata": {},
   "outputs": [
    {
     "name": "stdout",
     "output_type": "stream",
     "text": [
      "Accuracy: 93.52%\n"
     ]
    }
   ],
   "source": [
    "batch_size = 100 # 批数量\n",
    "accuracy_cnt = 0\n",
    "\n",
    "for i in range(0, len(x), batch_size):\n",
    "    x_batch = x[i:i+batch_size]\n",
    "    y_batch = predict(network, x_batch, sigma = softmax2dim )\n",
    "    p = np.argmax(y_batch, axis=1)\n",
    "    accuracy_cnt += np.sum(p == t[i:i+batch_size])\n",
    "\n",
    "print(\"Accuracy: %.2f%%\" %(float(accuracy_cnt) / len(x) * 100))\n"
   ]
  },
  {
   "cell_type": "code",
   "execution_count": 28,
   "metadata": {},
   "outputs": [
    {
     "name": "stdout",
     "output_type": "stream",
     "text": [
      "Accuracy: 93.58%\n"
     ]
    }
   ],
   "source": [
    "#  针对训练数据测试一下，看看有什么差别\n",
    "(x, t), _ = load_mnist(normalize = True, flatten=True, one_hot_label=False)\n",
    "batch_size = 100 # 批数量\n",
    "accuracy_cnt = 0\n",
    "\n",
    "for i in range(0, len(x), batch_size):\n",
    "    x_batch = x[i:i+batch_size]\n",
    "    y_batch = predict(network, x_batch, sigma = softmax2dim )\n",
    "    p = np.argmax(y_batch, axis=1)\n",
    "    accuracy_cnt += np.sum(p == t[i:i+batch_size])\n",
    "\n",
    "print(\"Accuracy: %.2f%%\" %(float(accuracy_cnt) / len(x) * 100))"
   ]
  }
 ],
 "metadata": {
  "kernelspec": {
   "display_name": "Python 3",
   "language": "python",
   "name": "python3"
  },
  "language_info": {
   "codemirror_mode": {
    "name": "ipython",
    "version": 3
   },
   "file_extension": ".py",
   "mimetype": "text/x-python",
   "name": "python",
   "nbconvert_exporter": "python",
   "pygments_lexer": "ipython3",
   "version": "3.6.5"
  }
 },
 "nbformat": 4,
 "nbformat_minor": 2
}
