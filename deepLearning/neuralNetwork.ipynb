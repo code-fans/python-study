{
 "cells": [
  {
   "cell_type": "code",
   "execution_count": 1,
   "metadata": {},
   "outputs": [],
   "source": [
    "import numpy as np\n",
    "import matplotlib.pyplot as plt"
   ]
  },
  {
   "cell_type": "code",
   "execution_count": 2,
   "metadata": {},
   "outputs": [],
   "source": [
    "def stepFunc(x):\n",
    "    return np.array(x>0, dtype=np.int)"
   ]
  },
  {
   "cell_type": "code",
   "execution_count": 3,
   "metadata": {},
   "outputs": [],
   "source": [
    "def sigmoid(x):\n",
    "    return 1 / (1 + np.exp(-x))"
   ]
  },
  {
   "cell_type": "code",
   "execution_count": 4,
   "metadata": {},
   "outputs": [],
   "source": [
    "def reLU(x):\n",
    "    return np.maximum(0,x)"
   ]
  },
  {
   "cell_type": "code",
   "execution_count": 5,
   "metadata": {},
   "outputs": [],
   "source": [
    "# tanh = sinh(x)/cosh(x)\n",
    "def tanh(x):\n",
    "    return (np.exp(x) - np.exp(-x))/(np.exp(x)+np.exp(-x))"
   ]
  },
  {
   "cell_type": "code",
   "execution_count": 6,
   "metadata": {},
   "outputs": [],
   "source": [
    "def eLU(x, a = 1):\n",
    "    return [x1 if x1>0 else a *(np.exp(x1)-1) for x1 in x ]\n",
    "    #y = x.copy()\n",
    "    #y[x<0] = a *(np.exp(y[x<0])-1)\n",
    "    #return y"
   ]
  },
  {
   "cell_type": "code",
   "execution_count": 7,
   "metadata": {},
   "outputs": [],
   "source": [
    "def pReLU(x, a=0.1):\n",
    "    return np.maximum(a*x, x)"
   ]
  },
  {
   "cell_type": "code",
   "execution_count": 8,
   "metadata": {},
   "outputs": [],
   "source": [
    "def plotFunc():\n",
    "    x = np.arange(-5.0, 5.0, 0.05)\n",
    "    fig = plt.figure()\n",
    "    ax = fig.add_subplot(321)\n",
    "    ax.plot(x,stepFunc(x))\n",
    "    ax.text(-4.9,0.7,'step function')\n",
    "    ax = fig.add_subplot(322)\n",
    "    ax.plot(x,sigmoid(x), c='red')\n",
    "    ax.text(-4.9,0.7,'sigmoid')\n",
    "    ax = fig.add_subplot(323)\n",
    "    ax.plot(x,eLU(x), c='black')\n",
    "    ax.text(-4.9,4,'ELU')\n",
    "    ax = fig.add_subplot(324)\n",
    "    ax.plot(x,reLU(x), c='green')\n",
    "    ax.text(-4.9,4,'ReLU')\n",
    "    ax = fig.add_subplot(325)\n",
    "    ax.plot(x,tanh(x), c='blue')\n",
    "    ax.text(-4.9,0.7,'tanh')\n",
    "    ax = fig.add_subplot(326)\n",
    "    ax.plot(x,pReLU(x), c='pink')\n",
    "    ax.text(-4.9,4,'PReLU')\n",
    "    plt.show()"
   ]
  },
  {
   "cell_type": "code",
   "execution_count": 9,
   "metadata": {},
   "outputs": [
    {
     "data": {
      "image/png": "[encoded data removed]",
      "text/plain": [
       "<Figure size 432x288 with 6 Axes>"
      ]
     },
     "metadata": {},
     "output_type": "display_data"
    }
   ],
   "source": [
    "plotFunc()"
   ]
  },
  {
   "cell_type": "code",
   "execution_count": 10,
   "metadata": {},
   "outputs": [],
   "source": [
    "#恒等函数\n",
    "def identifyFunc(x):\n",
    "    return x"
   ]
  },
  {
   "cell_type": "code",
   "execution_count": 11,
   "metadata": {},
   "outputs": [],
   "source": [
    "def initNetwork():\n",
    "    W = []; B = []\n",
    "    W.append(np.array([[0.1,0.3,0.5],[0.2,0.4,0.6]]))\n",
    "    B.append(np.array([0.1,0.2,0.3]))\n",
    "    W.append(np.array([[0.1,0.4],[0.2,0.5],[0.3,0.6]]))\n",
    "    B.append(np.array([0.1,0.2]))\n",
    "    W.append(np.array([[0.1,0.3],[0.2,0.4]]))\n",
    "    B.append(np.array([0.1,0.2]))\n",
    "    return W, B, 3"
   ]
  },
  {
   "cell_type": "code",
   "execution_count": 12,
   "metadata": {},
   "outputs": [],
   "source": [
    "def calcLayer(A, w, b, h=sigmoid):\n",
    "    return h(np.dot(A,w) + b)"
   ]
  },
  {
   "cell_type": "code",
   "execution_count": 13,
   "metadata": {},
   "outputs": [],
   "source": [
    "def forward(network, x, h=sigmoid, sigma = identifyFunc ):\n",
    "    W, B, l = network\n",
    "    A = x\n",
    "    for i in range(l-1):\n",
    "        A = calcLayer(A, W[i], B[i], h)\n",
    "    return calcLayer(A, W[l-1], B[l-1], sigma)"
   ]
  },
  {
   "cell_type": "code",
   "execution_count": 14,
   "metadata": {},
   "outputs": [
    {
     "data": {
      "text/plain": [
       "array([0.31682708, 0.69627909])"
      ]
     },
     "execution_count": 14,
     "metadata": {},
     "output_type": "execute_result"
    }
   ],
   "source": [
    "network = initNetwork()\n",
    "x = np.array([1.0,0.5])\n",
    "forward(network,x)"
   ]
  },
  {
   "cell_type": "code",
   "execution_count": 18,
   "metadata": {},
   "outputs": [],
   "source": [
    "def softmax(x):\n",
    "    c = np.max(x)\n",
    "    expA = np.exp(x - c)\n",
    "    return expA / np.sum(expA)"
   ]
  },
  {
   "cell_type": "code",
   "execution_count": 21,
   "metadata": {},
   "outputs": [
    {
     "data": {
      "text/plain": [
       "array([0.40625907, 0.59374093])"
      ]
     },
     "execution_count": 21,
     "metadata": {},
     "output_type": "execute_result"
    }
   ],
   "source": [
    "forward(network,x,sigma = softmax)"
   ]
  },
  {
   "cell_type": "code",
   "execution_count": null,
   "metadata": {},
   "outputs": [],
   "source": []
  }
 ],
 "metadata": {
  "kernelspec": {
   "display_name": "Python 3",
   "language": "python",
   "name": "python3"
  },
  "language_info": {
   "codemirror_mode": {
    "name": "ipython",
    "version": 3
   },
   "file_extension": ".py",
   "mimetype": "text/x-python",
   "name": "python",
   "nbconvert_exporter": "python",
   "pygments_lexer": "ipython3",
   "version": "3.6.5"
  }
 },
 "nbformat": 4,
 "nbformat_minor": 2
}
