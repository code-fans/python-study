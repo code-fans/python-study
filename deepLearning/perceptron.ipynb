{
 "cells": [
  {
   "cell_type": "code",
   "execution_count": 132,
   "metadata": {},
   "outputs": [],
   "source": [
    "import numpy as np"
   ]
  },
  {
   "cell_type": "code",
   "execution_count": 133,
   "metadata": {},
   "outputs": [],
   "source": [
    "# 逻辑电路设置，X输入向量， W为调节阈值，通过不同的调试可以实现 与或非 和 与非门\n",
    "def logicalGate(X, W):\n",
    "    return 1 if np.sum(W * X) > 0 else 0"
   ]
  },
  {
   "cell_type": "code",
   "execution_count": 134,
   "metadata": {},
   "outputs": [],
   "source": [
    "# 与门 输入电位 减半叠加 和 0.75相比来判断是否为 高低电位\n",
    "def AND(x1, x2):\n",
    "    return logicalGate(np.array([1,x1,x2]), np.array([-0.75, 0.5, 0.5]))"
   ]
  },
  {
   "cell_type": "code",
   "execution_count": 135,
   "metadata": {},
   "outputs": [],
   "source": [
    "# 或门\n",
    "def OR(x1, x2):\n",
    "    return logicalGate(np.array([1,x1,x2]), np.array([-0.25, 0.5, 0.5]))"
   ]
  },
  {
   "cell_type": "code",
   "execution_count": 136,
   "metadata": {},
   "outputs": [],
   "source": [
    "# 非门\n",
    "def NOT(x1):\n",
    "    return logicalGate(np.array([1,x1,x1]), np.array([0.75, -0.5, -0.5]))"
   ]
  },
  {
   "cell_type": "code",
   "execution_count": 137,
   "metadata": {},
   "outputs": [],
   "source": [
    "# 与非门\n",
    "def NAND(x1, x2):\n",
    "    return logicalGate(np.array([1,x1,x2]), np.array([0.75, -0.5, -0.5]))"
   ]
  },
  {
   "cell_type": "code",
   "execution_count": 138,
   "metadata": {},
   "outputs": [],
   "source": [
    "# 异或门\n",
    "def XOR(x1, x2):\n",
    "    return AND(OR(x1,x2),NAND(x1,x2))"
   ]
  },
  {
   "cell_type": "code",
   "execution_count": 139,
   "metadata": {},
   "outputs": [
    {
     "data": {
      "text/plain": [
       "(1, 0)"
      ]
     },
     "execution_count": 139,
     "metadata": {},
     "output_type": "execute_result"
    }
   ],
   "source": [
    "#测试单目运算\n",
    "NOT(0),NOT(1)"
   ]
  },
  {
   "cell_type": "code",
   "execution_count": 140,
   "metadata": {},
   "outputs": [],
   "source": [
    "# 测试其他的逻辑运算\n",
    "def testGate(gates) :\n",
    "    ret = []\n",
    "    for x1 in range(2):\n",
    "        for x2 in range(2): \n",
    "            item = []\n",
    "            for gate in gates :\n",
    "                item.append(gate(x1,x2))\n",
    "            ret.append(item)\n",
    "    return ret"
   ]
  },
  {
   "cell_type": "code",
   "execution_count": 141,
   "metadata": {},
   "outputs": [],
   "source": [
    "def printTestRet(ret):\n",
    "    print ( 'x1\\tx2\\tand\\tor\\tnand\\txor' )\n",
    "    for x1 in range(2):\n",
    "        for x2 in range(2):\n",
    "            print(x1, '\\t', x2, end ='\\t')\n",
    "            for i in range(4):\n",
    "                print(ret[x1*2+x2][i], end = '\\t' )\n",
    "            print()"
   ]
  },
  {
   "cell_type": "code",
   "execution_count": 142,
   "metadata": {},
   "outputs": [
    {
     "name": "stdout",
     "output_type": "stream",
     "text": [
      "x1\tx2\tand\tor\tnand\txor\n",
      "0 \t 0\t0\t0\t1\t0\t\n",
      "0 \t 1\t0\t1\t1\t1\t\n",
      "1 \t 0\t0\t1\t1\t1\t\n",
      "1 \t 1\t1\t1\t0\t0\t\n"
     ]
    }
   ],
   "source": [
    "ret = testGate([AND,OR,NAND,XOR])\n",
    "printTestRet(ret)"
   ]
  },
  {
   "cell_type": "code",
   "execution_count": 143,
   "metadata": {},
   "outputs": [],
   "source": [
    "# 用与非门 实现 与门\n",
    "def AND2(x1, x2):\n",
    "    return NAND(NAND(x1,x2), NAND(x1,x2) )"
   ]
  },
  {
   "cell_type": "code",
   "execution_count": 144,
   "metadata": {},
   "outputs": [],
   "source": [
    "# 用与非门 实现 或门\n",
    "def OR2(x1, x2):\n",
    "    return NAND(NAND(x1,x1), NAND(x2,x2) )"
   ]
  },
  {
   "cell_type": "code",
   "execution_count": 145,
   "metadata": {},
   "outputs": [],
   "source": [
    "# 用与非门 实现 非门\n",
    "def NOT2(x1):\n",
    "    return NAND(x1,x1)"
   ]
  },
  {
   "cell_type": "code",
   "execution_count": 146,
   "metadata": {},
   "outputs": [],
   "source": [
    "# 用与非门 实现 与非门 ，就是本身\n",
    "def NAND2(x1, x2):\n",
    "    return NAND(x1, x2 )"
   ]
  },
  {
   "cell_type": "code",
   "execution_count": 147,
   "metadata": {},
   "outputs": [],
   "source": [
    "# 用与非门 实现 异或门\n",
    "def XOR2(x1, x2):\n",
    "    return NAND(NAND(x1, NAND(x2,x2) ), NAND(NAND(x1,x1),x2) )"
   ]
  },
  {
   "cell_type": "code",
   "execution_count": 148,
   "metadata": {},
   "outputs": [
    {
     "data": {
      "text/plain": [
       "(1, 0)"
      ]
     },
     "execution_count": 148,
     "metadata": {},
     "output_type": "execute_result"
    }
   ],
   "source": [
    "NOT2(0),NOT2(1)"
   ]
  },
  {
   "cell_type": "code",
   "execution_count": 149,
   "metadata": {},
   "outputs": [
    {
     "name": "stdout",
     "output_type": "stream",
     "text": [
      "x1\tx2\tand\tor\tnand\txor\n",
      "0 \t 0\t0\t0\t1\t0\t\n",
      "0 \t 1\t0\t1\t1\t1\t\n",
      "1 \t 0\t0\t1\t1\t1\t\n",
      "1 \t 1\t1\t1\t0\t0\t\n"
     ]
    }
   ],
   "source": [
    "ret2 = testGate([AND2,OR2,NAND2,XOR2])\n",
    "printTestRet(ret2)"
   ]
  },
  {
   "cell_type": "code",
   "execution_count": 150,
   "metadata": {},
   "outputs": [],
   "source": [
    "def XOR1(x1, x2):\n",
    "    return AND(OR(x1,x2),NOT(AND(x1,x2)))"
   ]
  },
  {
   "cell_type": "code",
   "execution_count": 151,
   "metadata": {},
   "outputs": [
    {
     "name": "stdout",
     "output_type": "stream",
     "text": [
      "(0, 0) -> 0\n",
      "(1, 0) -> 1\n",
      "(0, 1) -> 1\n",
      "(1, 1) -> 0\n"
     ]
    }
   ],
   "source": [
    "for xs in [(0, 0), (1, 0), (0, 1), (1, 1)]:\n",
    "    y = XOR1(xs[0], xs[1])\n",
    "    print(str(xs) + \" -> \" + str(y))"
   ]
  },
  {
   "cell_type": "code",
   "execution_count": 152,
   "metadata": {},
   "outputs": [],
   "source": [
    "# 半加器的实现\n",
    "def halfAdd(x1, x2):\n",
    "    return (XOR(x1, x2), AND(x1, x2))"
   ]
  },
  {
   "cell_type": "code",
   "execution_count": 153,
   "metadata": {},
   "outputs": [],
   "source": [
    "# 全加器，只能实现一位二进制相加， carryBit 进位\n",
    "def fullAdd(x1, x2, carryBit):\n",
    "    s, co = halfAdd(x1, x2)\n",
    "    s, co2 = halfAdd(carryBit, s)\n",
    "    return (s, OR(co, co2))"
   ]
  },
  {
   "cell_type": "code",
   "execution_count": 154,
   "metadata": {},
   "outputs": [
    {
     "name": "stdout",
     "output_type": "stream",
     "text": [
      "(0, 0, 0) -> (0, 0)\n",
      "(1, 0, 0) -> (1, 0)\n",
      "(0, 1, 0) -> (1, 0)\n",
      "(1, 1, 0) -> (0, 1)\n",
      "(0, 0, 1) -> (1, 0)\n",
      "(1, 0, 1) -> (0, 1)\n",
      "(0, 1, 1) -> (0, 1)\n",
      "(1, 1, 1) -> (1, 1)\n"
     ]
    }
   ],
   "source": [
    "for xs in [(0, 0, 0), (1, 0, 0), (0, 1, 0), (1, 1, 0), (0, 0, 1), (1, 0, 1), (0, 1, 1), (1, 1, 1)]:\n",
    "    y = fullAdd(xs[0], xs[1], xs[2])\n",
    "    print(str(xs) + \" -> \" + str(y))"
   ]
  },
  {
   "cell_type": "code",
   "execution_count": 155,
   "metadata": {},
   "outputs": [],
   "source": [
    "# 16位二进制相加， co 为是否进位标志\n",
    "def add16Bit(a16bit, b16bit, co=0):\n",
    "    v =[]\n",
    "    for i in range(16):\n",
    "        (d, co) = fullAdd(a16bit[i], b16bit[i], co)\n",
    "        v.append(d % 2)\n",
    "    return v"
   ]
  },
  {
   "cell_type": "code",
   "execution_count": 156,
   "metadata": {},
   "outputs": [],
   "source": [
    "# 辅助方法，用数组来表示 16位数\n",
    "def to16bit(x):\n",
    "    v16bit =[]\n",
    "    d = x\n",
    "    for i in range(16):\n",
    "        v16bit.append(d % 2)\n",
    "        d = d // 2\n",
    "    return v16bit"
   ]
  },
  {
   "cell_type": "code",
   "execution_count": 157,
   "metadata": {},
   "outputs": [],
   "source": [
    "# 辅助方法，将16位数数组 转换为整数\n",
    "def from16bit(a16bit):\n",
    "    d=0\n",
    "    for i in range(15,-1,-1):\n",
    "        d = d * 2 + a16bit[i]\n",
    "    return d\n",
    "        "
   ]
  },
  {
   "cell_type": "code",
   "execution_count": 158,
   "metadata": {},
   "outputs": [],
   "source": [
    "# 加法的实现\n",
    "def add(a, b):\n",
    "    return from16bit(add16Bit(to16bit(a), to16bit(b)))"
   ]
  },
  {
   "cell_type": "code",
   "execution_count": 159,
   "metadata": {},
   "outputs": [
    {
     "data": {
      "text/plain": [
       "13"
      ]
     },
     "execution_count": 159,
     "metadata": {},
     "output_type": "execute_result"
    }
   ],
   "source": [
    "add(6,7)"
   ]
  },
  {
   "cell_type": "code",
   "execution_count": 160,
   "metadata": {},
   "outputs": [],
   "source": [
    "# 16位数的补码，就是每一位取反， 但是最低为没有+1\n",
    "def complement(a16bit):\n",
    "    for i in range(16):\n",
    "        a16bit[i] = NOT(a16bit[i])\n",
    "    return a16bit"
   ]
  },
  {
   "cell_type": "code",
   "execution_count": 161,
   "metadata": {},
   "outputs": [],
   "source": [
    "# 16位数的减法实现\n",
    "def sub16Bit(a16bit, b16bit): \n",
    "    return add16Bit(a16bit, complement(b16bit), 1)"
   ]
  },
  {
   "cell_type": "code",
   "execution_count": 162,
   "metadata": {},
   "outputs": [],
   "source": [
    "def sub(a, b):\n",
    "    return from16bit(sub16Bit(to16bit(a), to16bit(b)))"
   ]
  },
  {
   "cell_type": "code",
   "execution_count": 163,
   "metadata": {},
   "outputs": [
    {
     "data": {
      "text/plain": [
       "12"
      ]
     },
     "execution_count": 163,
     "metadata": {},
     "output_type": "execute_result"
    }
   ],
   "source": [
    "sub(20, 8)"
   ]
  }
 ],
 "metadata": {
  "kernelspec": {
   "display_name": "Python 3",
   "language": "python",
   "name": "python3"
  },
  "language_info": {
   "codemirror_mode": {
    "name": "ipython",
    "version": 3
   },
   "file_extension": ".py",
   "mimetype": "text/x-python",
   "name": "python",
   "nbconvert_exporter": "python",
   "pygments_lexer": "ipython3",
   "version": "3.8.8"
  }
 },
 "nbformat": 4,
 "nbformat_minor": 2
}
