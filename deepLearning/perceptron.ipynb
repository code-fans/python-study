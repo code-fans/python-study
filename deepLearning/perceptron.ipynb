{
 "cells": [
  {
   "cell_type": "code",
   "execution_count": 1,
   "metadata": {},
   "outputs": [],
   "source": [
    "import numpy as np"
   ]
  },
  {
   "cell_type": "code",
   "execution_count": 2,
   "metadata": {},
   "outputs": [],
   "source": [
    "def logicalGate(X, W):\n",
    "    return 1 if np.sum(W * X) > 0 else 0;"
   ]
  },
  {
   "cell_type": "code",
   "execution_count": 3,
   "metadata": {},
   "outputs": [],
   "source": [
    "def AND(x1, x2):\n",
    "    return logicalGate(np.array([1,x1,x2]), np.array([-0.75, 0.5, 0.5]));"
   ]
  },
  {
   "cell_type": "code",
   "execution_count": 4,
   "metadata": {},
   "outputs": [],
   "source": [
    "def OR(x1, x2):\n",
    "    return logicalGate(np.array([1,x1,x2]), np.array([-0.25, 0.5, 0.5]));"
   ]
  },
  {
   "cell_type": "code",
   "execution_count": 5,
   "metadata": {},
   "outputs": [],
   "source": [
    "def NOT(x1):\n",
    "    return logicalGate(np.array([1,x1,x1]), np.array([0.75, -0.5, -0.5]));"
   ]
  },
  {
   "cell_type": "code",
   "execution_count": 6,
   "metadata": {},
   "outputs": [],
   "source": [
    "def NAND(x1, x2):\n",
    "    return logicalGate(np.array([1,x1,x2]), np.array([0.75, -0.5, -0.5]));"
   ]
  },
  {
   "cell_type": "code",
   "execution_count": 7,
   "metadata": {},
   "outputs": [],
   "source": [
    "def XOR(x1, x2):\n",
    "    return AND(OR(x1,x2),NAND(x1,x2))"
   ]
  },
  {
   "cell_type": "code",
   "execution_count": 8,
   "metadata": {},
   "outputs": [
    {
     "data": {
      "text/plain": [
       "(1, 0)"
      ]
     },
     "execution_count": 8,
     "metadata": {},
     "output_type": "execute_result"
    }
   ],
   "source": [
    "#测试单目运算\n",
    "NOT(0),NOT(1)"
   ]
  },
  {
   "cell_type": "code",
   "execution_count": 9,
   "metadata": {},
   "outputs": [],
   "source": [
    "# 测试其他的逻辑运算\n",
    "def testGate(gates) :\n",
    "    ret = []\n",
    "    for x1 in range(2):\n",
    "        for x2 in range(2): \n",
    "            item = []\n",
    "            for gate in gates :\n",
    "                item.append(gate(x1,x2))\n",
    "            ret.append(item)\n",
    "    return ret"
   ]
  },
  {
   "cell_type": "code",
   "execution_count": 10,
   "metadata": {},
   "outputs": [],
   "source": [
    "def printTestRet(ret):\n",
    "    print ( 'x1\\tx2\\tand\\tor\\tnand\\txor' )\n",
    "    for x1 in range(2):\n",
    "        for x2 in range(2):\n",
    "            print(x1, '\\t', x2, end ='\\t')\n",
    "            for i in range(4):\n",
    "                print(ret[x1*2+x2][i], end = '\\t' )\n",
    "            print()"
   ]
  },
  {
   "cell_type": "code",
   "execution_count": 11,
   "metadata": {},
   "outputs": [
    {
     "name": "stdout",
     "output_type": "stream",
     "text": [
      "x1\tx2\tand\tor\tnand\txor\n",
      "0 \t 0\t0\t0\t1\t0\t\n",
      "0 \t 1\t0\t1\t1\t1\t\n",
      "1 \t 0\t0\t1\t1\t1\t\n",
      "1 \t 1\t1\t1\t0\t0\t\n"
     ]
    }
   ],
   "source": [
    "ret = testGate([AND,OR,NAND,XOR])\n",
    "printTestRet(ret)"
   ]
  },
  {
   "cell_type": "code",
   "execution_count": 12,
   "metadata": {},
   "outputs": [],
   "source": [
    "def AND2(x1, x2):\n",
    "    return NAND(NAND(x1,x2), NAND(x1,x2) )"
   ]
  },
  {
   "cell_type": "code",
   "execution_count": 13,
   "metadata": {},
   "outputs": [],
   "source": [
    "def OR2(x1, x2):\n",
    "    return NAND(NAND(x1,x1), NAND(x2,x2) )"
   ]
  },
  {
   "cell_type": "code",
   "execution_count": 14,
   "metadata": {},
   "outputs": [],
   "source": [
    "def NOT2(x1):\n",
    "    return NAND(x1,x1)"
   ]
  },
  {
   "cell_type": "code",
   "execution_count": 15,
   "metadata": {},
   "outputs": [],
   "source": [
    "def NAND2(x1, x2):\n",
    "    return NAND(x1, x2 )"
   ]
  },
  {
   "cell_type": "code",
   "execution_count": 16,
   "metadata": {},
   "outputs": [],
   "source": [
    "def XOR2(x1, x2):\n",
    "    return NAND(NAND(x1, NAND(x2,x2) ), NAND(NAND(x1,x1),x2) )"
   ]
  },
  {
   "cell_type": "code",
   "execution_count": 17,
   "metadata": {},
   "outputs": [
    {
     "data": {
      "text/plain": [
       "(1, 0)"
      ]
     },
     "execution_count": 17,
     "metadata": {},
     "output_type": "execute_result"
    }
   ],
   "source": [
    "NOT2(0),NOT2(1)"
   ]
  },
  {
   "cell_type": "code",
   "execution_count": 18,
   "metadata": {},
   "outputs": [
    {
     "name": "stdout",
     "output_type": "stream",
     "text": [
      "x1\tx2\tand\tor\tnand\txor\n",
      "0 \t 0\t0\t0\t1\t0\t\n",
      "0 \t 1\t0\t1\t1\t1\t\n",
      "1 \t 0\t0\t1\t1\t1\t\n",
      "1 \t 1\t1\t1\t0\t0\t\n"
     ]
    }
   ],
   "source": [
    "ret2 = testGate([AND2,OR2,NAND2,XOR2])\n",
    "printTestRet(ret2)"
   ]
  }
 ],
 "metadata": {
  "kernelspec": {
   "display_name": "Python 3",
   "language": "python",
   "name": "python3"
  },
  "language_info": {
   "codemirror_mode": {
    "name": "ipython",
    "version": 3
   },
   "file_extension": ".py",
   "mimetype": "text/x-python",
   "name": "python",
   "nbconvert_exporter": "python",
   "pygments_lexer": "ipython3",
   "version": "3.7.0"
  }
 },
 "nbformat": 4,
 "nbformat_minor": 2
}
