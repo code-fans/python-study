{
 "cells": [
  {
   "cell_type": "code",
   "execution_count": 99,
   "metadata": {},
   "outputs": [],
   "source": [
    "import numpy as np"
   ]
  },
  {
   "cell_type": "code",
   "execution_count": 100,
   "metadata": {},
   "outputs": [],
   "source": [
    "# 逻辑电路设置，X输入向量， W为调节阈值，通过不同的调试可以实现 与或非 和 与非门\n",
    "def logicalGate(X, W):\n",
    "    return 1 if np.sum(W * X) > 0 else 0"
   ]
  },
  {
   "cell_type": "code",
   "execution_count": 101,
   "metadata": {},
   "outputs": [],
   "source": [
    "# 与门 输入电位 减半叠加 和 0.75相比来判断是否为 高低电位\n",
    "def AND(x1, x2):\n",
    "    return logicalGate(np.array([1,x1,x2]), np.array([-0.75, 0.5, 0.5]))"
   ]
  },
  {
   "cell_type": "code",
   "execution_count": 102,
   "metadata": {},
   "outputs": [],
   "source": [
    "def OR(x1, x2):\n",
    "    return logicalGate(np.array([1,x1,x2]), np.array([-0.25, 0.5, 0.5]))"
   ]
  },
  {
   "cell_type": "code",
   "execution_count": 103,
   "metadata": {},
   "outputs": [],
   "source": [
    "def NOT(x1):\n",
    "    return logicalGate(np.array([1,x1,x1]), np.array([0.75, -0.5, -0.5]))"
   ]
  },
  {
   "cell_type": "code",
   "execution_count": 104,
   "metadata": {},
   "outputs": [],
   "source": [
    "def NAND(x1, x2):\n",
    "    return logicalGate(np.array([1,x1,x2]), np.array([0.75, -0.5, -0.5]))"
   ]
  },
  {
   "cell_type": "code",
   "execution_count": 105,
   "metadata": {},
   "outputs": [],
   "source": [
    "def XOR(x1, x2):\n",
    "    return AND(OR(x1,x2),NAND(x1,x2))"
   ]
  },
  {
   "cell_type": "code",
   "execution_count": 106,
   "metadata": {},
   "outputs": [
    {
     "data": {
      "text/plain": [
       "(1, 0)"
      ]
     },
     "execution_count": 106,
     "metadata": {},
     "output_type": "execute_result"
    }
   ],
   "source": [
    "#测试单目运算\n",
    "NOT(0),NOT(1)"
   ]
  },
  {
   "cell_type": "code",
   "execution_count": 107,
   "metadata": {},
   "outputs": [],
   "source": [
    "# 测试其他的逻辑运算\n",
    "def testGate(gates) :\n",
    "    ret = []\n",
    "    for x1 in range(2):\n",
    "        for x2 in range(2): \n",
    "            item = []\n",
    "            for gate in gates :\n",
    "                item.append(gate(x1,x2))\n",
    "            ret.append(item)\n",
    "    return ret"
   ]
  },
  {
   "cell_type": "code",
   "execution_count": 108,
   "metadata": {},
   "outputs": [],
   "source": [
    "def printTestRet(ret):\n",
    "    print ( 'x1\\tx2\\tand\\tor\\tnand\\txor' )\n",
    "    for x1 in range(2):\n",
    "        for x2 in range(2):\n",
    "            print(x1, '\\t', x2, end ='\\t')\n",
    "            for i in range(4):\n",
    "                print(ret[x1*2+x2][i], end = '\\t' )\n",
    "            print()"
   ]
  },
  {
   "cell_type": "code",
   "execution_count": 109,
   "metadata": {},
   "outputs": [
    {
     "name": "stdout",
     "output_type": "stream",
     "text": [
      "x1\tx2\tand\tor\tnand\txor\n",
      "0 \t 0\t0\t0\t1\t0\t\n",
      "0 \t 1\t0\t1\t1\t1\t\n",
      "1 \t 0\t0\t1\t1\t1\t\n",
      "1 \t 1\t1\t1\t0\t0\t\n"
     ]
    }
   ],
   "source": [
    "ret = testGate([AND,OR,NAND,XOR])\n",
    "printTestRet(ret)"
   ]
  },
  {
   "cell_type": "code",
   "execution_count": 110,
   "metadata": {},
   "outputs": [],
   "source": [
    "def AND2(x1, x2):\n",
    "    return NAND(NAND(x1,x2), NAND(x1,x2) )"
   ]
  },
  {
   "cell_type": "code",
   "execution_count": 111,
   "metadata": {},
   "outputs": [],
   "source": [
    "def OR2(x1, x2):\n",
    "    return NAND(NAND(x1,x1), NAND(x2,x2) )"
   ]
  },
  {
   "cell_type": "code",
   "execution_count": 112,
   "metadata": {},
   "outputs": [],
   "source": [
    "def NOT2(x1):\n",
    "    return NAND(x1,x1)"
   ]
  },
  {
   "cell_type": "code",
   "execution_count": 113,
   "metadata": {},
   "outputs": [],
   "source": [
    "def NAND2(x1, x2):\n",
    "    return NAND(x1, x2 )"
   ]
  },
  {
   "cell_type": "code",
   "execution_count": 114,
   "metadata": {},
   "outputs": [],
   "source": [
    "def XOR2(x1, x2):\n",
    "    return NAND(NAND(x1, NAND(x2,x2) ), NAND(NAND(x1,x1),x2) )"
   ]
  },
  {
   "cell_type": "code",
   "execution_count": 115,
   "metadata": {},
   "outputs": [
    {
     "data": {
      "text/plain": [
       "(1, 0)"
      ]
     },
     "execution_count": 115,
     "metadata": {},
     "output_type": "execute_result"
    }
   ],
   "source": [
    "NOT2(0),NOT2(1)"
   ]
  },
  {
   "cell_type": "code",
   "execution_count": 116,
   "metadata": {},
   "outputs": [
    {
     "name": "stdout",
     "output_type": "stream",
     "text": [
      "x1\tx2\tand\tor\tnand\txor\n",
      "0 \t 0\t0\t0\t1\t0\t\n",
      "0 \t 1\t0\t1\t1\t1\t\n",
      "1 \t 0\t0\t1\t1\t1\t\n",
      "1 \t 1\t1\t1\t0\t0\t\n"
     ]
    }
   ],
   "source": [
    "ret2 = testGate([AND2,OR2,NAND2,XOR2])\n",
    "printTestRet(ret2)"
   ]
  },
  {
   "cell_type": "code",
   "execution_count": 117,
   "metadata": {},
   "outputs": [],
   "source": [
    "def XOR1(x1, x2):\n",
    "    return AND(OR(x1,x2),NOT(AND(x1,x2)))"
   ]
  },
  {
   "cell_type": "code",
   "execution_count": 118,
   "metadata": {},
   "outputs": [
    {
     "name": "stdout",
     "output_type": "stream",
     "text": [
      "(0, 0) -> 0\n",
      "(1, 0) -> 1\n",
      "(0, 1) -> 1\n",
      "(1, 1) -> 0\n"
     ]
    }
   ],
   "source": [
    "for xs in [(0, 0), (1, 0), (0, 1), (1, 1)]:\n",
    "    y = XOR1(xs[0], xs[1])\n",
    "    print(str(xs) + \" -> \" + str(y))"
   ]
  },
  {
   "cell_type": "code",
   "execution_count": 119,
   "metadata": {},
   "outputs": [],
   "source": [
    "def halfAdd(x1, x2):\n",
    "    return (XOR(x1, x2), AND(x1, x2))"
   ]
  },
  {
   "cell_type": "code",
   "execution_count": 120,
   "metadata": {},
   "outputs": [],
   "source": [
    "def fullAdd(x1, x2, carryBit):\n",
    "    s, co = halfAdd(x1, x2)\n",
    "    s, co2 = halfAdd(carryBit, s)\n",
    "    return (s, OR(co, co2))"
   ]
  },
  {
   "cell_type": "code",
   "execution_count": 121,
   "metadata": {},
   "outputs": [
    {
     "name": "stdout",
     "output_type": "stream",
     "text": [
      "(0, 0, 0) -> (0, 0)\n",
      "(1, 0, 0) -> (1, 0)\n",
      "(0, 1, 0) -> (1, 0)\n",
      "(1, 1, 0) -> (0, 1)\n",
      "(0, 0, 1) -> (1, 0)\n",
      "(1, 0, 1) -> (0, 1)\n",
      "(0, 1, 1) -> (0, 1)\n",
      "(1, 1, 1) -> (1, 1)\n"
     ]
    }
   ],
   "source": [
    "for xs in [(0, 0, 0), (1, 0, 0), (0, 1, 0), (1, 1, 0), (0, 0, 1), (1, 0, 1), (0, 1, 1), (1, 1, 1)]:\n",
    "    y = fullAdd(xs[0], xs[1], xs[2])\n",
    "    print(str(xs) + \" -> \" + str(y))"
   ]
  },
  {
   "cell_type": "code",
   "execution_count": 122,
   "metadata": {},
   "outputs": [],
   "source": [
    "def add16Bit(a16bit, b16bit, co=0):\n",
    "    v =[]\n",
    "    for i in range(16):\n",
    "        (d, co) = fullAdd(a16bit[i], b16bit[i], co)\n",
    "        v.append(d % 2)\n",
    "    return v"
   ]
  },
  {
   "cell_type": "code",
   "execution_count": 123,
   "metadata": {},
   "outputs": [],
   "source": [
    "def to16bit(x):\n",
    "    v16bit =[]\n",
    "    d = x\n",
    "    for i in range(16):\n",
    "        v16bit.append(d % 2)\n",
    "        d = d // 2\n",
    "    return v16bit"
   ]
  },
  {
   "cell_type": "code",
   "execution_count": 124,
   "metadata": {},
   "outputs": [],
   "source": [
    "def from16bit(a16bit):\n",
    "    d=0\n",
    "    for i in range(15,-1,-1):\n",
    "        d = d * 2 + a16bit[i]\n",
    "    return d\n",
    "        "
   ]
  },
  {
   "cell_type": "code",
   "execution_count": 125,
   "metadata": {},
   "outputs": [],
   "source": [
    "def add(a, b):\n",
    "    return from16bit(add16Bit(to16bit(a), to16bit(b)))"
   ]
  },
  {
   "cell_type": "code",
   "execution_count": 126,
   "metadata": {},
   "outputs": [
    {
     "data": {
      "text/plain": [
       "13"
      ]
     },
     "execution_count": 126,
     "metadata": {},
     "output_type": "execute_result"
    }
   ],
   "source": [
    "add(6,7)"
   ]
  },
  {
   "cell_type": "code",
   "execution_count": 127,
   "metadata": {},
   "outputs": [],
   "source": [
    "def complement(a16bit):\n",
    "    for i in range(16):\n",
    "        a16bit[i] = NOT(a16bit[i])\n",
    "    return a16bit"
   ]
  },
  {
   "cell_type": "code",
   "execution_count": 128,
   "metadata": {},
   "outputs": [],
   "source": [
    "def sub16Bit(a16bit, b16bit): \n",
    "    return add16Bit(a16bit, complement(b16bit), 1)"
   ]
  },
  {
   "cell_type": "code",
   "execution_count": 129,
   "metadata": {},
   "outputs": [],
   "source": [
    "def sub(a, b):\n",
    "    return from16bit(sub16Bit(to16bit(a), to16bit(b)))"
   ]
  },
  {
   "cell_type": "code",
   "execution_count": 131,
   "metadata": {},
   "outputs": [
    {
     "data": {
      "text/plain": [
       "12"
      ]
     },
     "execution_count": 131,
     "metadata": {},
     "output_type": "execute_result"
    }
   ],
   "source": [
    "sub(20, 8)"
   ]
  }
 ],
 "metadata": {
  "kernelspec": {
   "display_name": "Python 3",
   "language": "python",
   "name": "python3"
  },
  "language_info": {
   "codemirror_mode": {
    "name": "ipython",
    "version": 3
   },
   "file_extension": ".py",
   "mimetype": "text/x-python",
   "name": "python",
   "nbconvert_exporter": "python",
   "pygments_lexer": "ipython3",
   "version": "3.8.8"
  }
 },
 "nbformat": 4,
 "nbformat_minor": 2
}
