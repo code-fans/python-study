{
 "cells": [
  {
   "cell_type": "markdown",
   "metadata": {},
   "source": [
    "# NumPy Basics: Arrays and "
   ]
  },
  {
   "cell_type": "code",
   "execution_count": 96,
   "metadata": {},
   "outputs": [],
   "source": [
    "import numpy as np\n",
    "np.random.seed(12345)\n",
    "import matplotlib.pyplot as plt\n",
    "plt.rc('figure', figsize=(10, 6))\n",
    "np.set_printoptions(precision=4, suppress=True)"
   ]
  },
  {
   "cell_type": "code",
   "execution_count": 2,
   "metadata": {},
   "outputs": [],
   "source": [
    "import numpy as np\n",
    "my_arr = np.arange(1000000)\n",
    "my_list = list(range(1000000))"
   ]
  },
  {
   "cell_type": "code",
   "execution_count": 3,
   "metadata": {},
   "outputs": [
    {
     "name": "stdout",
     "output_type": "stream",
     "text": [
      "CPU times: user 16.1 ms, sys: 20.2 ms, total: 36.4 ms\n",
      "Wall time: 35.7 ms\n",
      "CPU times: user 411 ms, sys: 108 ms, total: 519 ms\n",
      "Wall time: 518 ms\n"
     ]
    }
   ],
   "source": [
    "%time for _ in range(10): my_arr2 = my_arr * 2\n",
    "%time for _ in range(10): my_list2 = [x * 2 for x in my_list]"
   ]
  },
  {
   "cell_type": "markdown",
   "metadata": {},
   "source": [
    "## The NumPy ndarray: A Multidimensional Array Object"
   ]
  },
  {
   "cell_type": "code",
   "execution_count": 9,
   "metadata": {},
   "outputs": [
    {
     "data": {
      "text/plain": [
       "array([[-0.7135, -0.8312, -2.3702],\n",
       "       [-1.8608, -0.8608,  0.5601]])"
      ]
     },
     "execution_count": 9,
     "metadata": {},
     "output_type": "execute_result"
    }
   ],
   "source": [
    "import numpy as np\n",
    "# Generate some random data\n",
    "data = np.random.randn(2, 3)\n",
    "data"
   ]
  },
  {
   "cell_type": "code",
   "execution_count": 16,
   "metadata": {},
   "outputs": [
    {
     "data": {
      "text/plain": [
       "array([[-1.6593, -2.0245],\n",
       "       [ 1.7285,  2.4178]])"
      ]
     },
     "execution_count": 16,
     "metadata": {},
     "output_type": "execute_result"
    }
   ],
   "source": [
    "data.dot(np.random.randn(3,2))\n"
   ]
  },
  {
   "cell_type": "code",
   "execution_count": 14,
   "metadata": {},
   "outputs": [
    {
     "data": {
      "text/plain": [
       "dtype('float64')"
      ]
     },
     "execution_count": 14,
     "metadata": {},
     "output_type": "execute_result"
    }
   ],
   "source": [
    "data.shape\n",
    "data.dtype"
   ]
  },
  {
   "cell_type": "code",
   "execution_count": 18,
   "metadata": {},
   "outputs": [
    {
     "data": {
      "text/plain": [
       "array([[[[ 0.8506, -0.1316,  0.9124],\n",
       "         [ 0.1882,  2.1695, -0.1149]],\n",
       "\n",
       "        [[ 2.0037,  0.0296,  0.7953],\n",
       "         [ 0.1181, -0.7485,  0.585 ]],\n",
       "\n",
       "        [[ 0.1527, -1.5657, -0.5625],\n",
       "         [-0.0327, -0.929 , -0.4826]]],\n",
       "\n",
       "\n",
       "       [[[-0.0363,  1.0954,  0.9809],\n",
       "         [-0.5895,  1.5817, -0.5287]],\n",
       "\n",
       "        [[ 0.457 ,  0.93  , -1.5693],\n",
       "         [-1.0225, -0.4028,  0.2205]],\n",
       "\n",
       "        [[-0.1934,  0.6692, -1.649 ],\n",
       "         [-2.2528, -1.1668,  0.3536]]]])"
      ]
     },
     "execution_count": 18,
     "metadata": {},
     "output_type": "execute_result"
    }
   ],
   "source": [
    "np.random.randn(2, 3, 2, 3 )\n"
   ]
  },
  {
   "cell_type": "markdown",
   "metadata": {},
   "source": [
    "### Creating ndarrays"
   ]
  },
  {
   "cell_type": "code",
   "execution_count": 19,
   "metadata": {},
   "outputs": [
    {
     "data": {
      "text/plain": [
       "array([6. , 7.5, 8. , 0. , 1. ])"
      ]
     },
     "execution_count": 19,
     "metadata": {},
     "output_type": "execute_result"
    }
   ],
   "source": [
    "data1 = [6, 7.5, 8, 0, 1]\n",
    "arr1 = np.array(data1)\n",
    "arr1"
   ]
  },
  {
   "cell_type": "code",
   "execution_count": 20,
   "metadata": {},
   "outputs": [
    {
     "data": {
      "text/plain": [
       "array([[1, 2, 3, 4],\n",
       "       [5, 6, 7, 8]])"
      ]
     },
     "execution_count": 20,
     "metadata": {},
     "output_type": "execute_result"
    }
   ],
   "source": [
    "data2 = [[1, 2, 3, 4], [5, 6, 7, 8]]\n",
    "arr2 = np.array(data2)\n",
    "arr2"
   ]
  },
  {
   "cell_type": "code",
   "execution_count": 21,
   "metadata": {},
   "outputs": [
    {
     "data": {
      "text/plain": [
       "(2, 4)"
      ]
     },
     "execution_count": 21,
     "metadata": {},
     "output_type": "execute_result"
    }
   ],
   "source": [
    "arr2.ndim\n",
    "arr2.shape"
   ]
  },
  {
   "cell_type": "code",
   "execution_count": 22,
   "metadata": {},
   "outputs": [
    {
     "data": {
      "text/plain": [
       "dtype('int64')"
      ]
     },
     "execution_count": 22,
     "metadata": {},
     "output_type": "execute_result"
    }
   ],
   "source": [
    "arr1.dtype\n",
    "arr2.dtype"
   ]
  },
  {
   "cell_type": "code",
   "execution_count": 23,
   "metadata": {},
   "outputs": [
    {
     "data": {
      "text/plain": [
       "array([[[0.5031, 0.6223],\n",
       "        [0.9212, 0.7262],\n",
       "        [0.2229, 0.0513]],\n",
       "\n",
       "       [[1.1577, 0.8167],\n",
       "        [0.4336, 1.0107],\n",
       "        [1.8249, 0.9975]]])"
      ]
     },
     "execution_count": 23,
     "metadata": {},
     "output_type": "execute_result"
    }
   ],
   "source": [
    "np.zeros(10)\n",
    "np.zeros((3, 6))\n",
    "np.empty((2, 3, 2))"
   ]
  },
  {
   "cell_type": "code",
   "execution_count": 24,
   "metadata": {},
   "outputs": [
    {
     "data": {
      "text/plain": [
       "array([ 0,  1,  2,  3,  4,  5,  6,  7,  8,  9, 10, 11, 12, 13, 14])"
      ]
     },
     "execution_count": 24,
     "metadata": {},
     "output_type": "execute_result"
    }
   ],
   "source": [
    "np.arange(15)"
   ]
  },
  {
   "cell_type": "code",
   "execution_count": 29,
   "metadata": {},
   "outputs": [
    {
     "data": {
      "text/plain": [
       "array([[1., 0., 0., 0.],\n",
       "       [0., 1., 0., 0.],\n",
       "       [0., 0., 1., 0.],\n",
       "       [0., 0., 0., 1.]])"
      ]
     },
     "execution_count": 29,
     "metadata": {},
     "output_type": "execute_result"
    }
   ],
   "source": [
    "np.eye(4)"
   ]
  },
  {
   "cell_type": "markdown",
   "metadata": {},
   "source": [
    "### Data Types for ndarrays"
   ]
  },
  {
   "cell_type": "code",
   "execution_count": 30,
   "metadata": {},
   "outputs": [
    {
     "data": {
      "text/plain": [
       "dtype('int32')"
      ]
     },
     "execution_count": 30,
     "metadata": {},
     "output_type": "execute_result"
    }
   ],
   "source": [
    "arr1 = np.array([1, 2, 3], dtype=np.float64)\n",
    "arr2 = np.array([1, 2, 3], dtype=np.int32)\n",
    "arr1.dtype\n",
    "arr2.dtype"
   ]
  },
  {
   "cell_type": "code",
   "execution_count": 31,
   "metadata": {},
   "outputs": [
    {
     "data": {
      "text/plain": [
       "dtype('float64')"
      ]
     },
     "execution_count": 31,
     "metadata": {},
     "output_type": "execute_result"
    }
   ],
   "source": [
    "arr = np.array([1, 2, 3, 4, 5])\n",
    "arr.dtype\n",
    "float_arr = arr.astype(np.float64)\n",
    "float_arr.dtype"
   ]
  },
  {
   "cell_type": "code",
   "execution_count": 32,
   "metadata": {},
   "outputs": [
    {
     "data": {
      "text/plain": [
       "array([ 3, -1, -2,  0, 12, 10], dtype=int32)"
      ]
     },
     "execution_count": 32,
     "metadata": {},
     "output_type": "execute_result"
    }
   ],
   "source": [
    "arr = np.array([3.7, -1.2, -2.6, 0.5, 12.9, 10.1])\n",
    "arr\n",
    "arr.astype(np.int32)"
   ]
  },
  {
   "cell_type": "code",
   "execution_count": 33,
   "metadata": {},
   "outputs": [
    {
     "data": {
      "text/plain": [
       "array([ 1.25, -9.6 , 42.  ])"
      ]
     },
     "execution_count": 33,
     "metadata": {},
     "output_type": "execute_result"
    }
   ],
   "source": [
    "numeric_strings = np.array(['1.25', '-9.6', '42'], dtype=np.string_)\n",
    "numeric_strings.astype(float)"
   ]
  },
  {
   "cell_type": "code",
   "execution_count": 34,
   "metadata": {},
   "outputs": [
    {
     "data": {
      "text/plain": [
       "array([0., 1., 2., 3., 4., 5., 6., 7., 8., 9.])"
      ]
     },
     "execution_count": 34,
     "metadata": {},
     "output_type": "execute_result"
    }
   ],
   "source": [
    "int_array = np.arange(10)\n",
    "calibers = np.array([.22, .270, .357, .380, .44, .50], dtype=np.float64)\n",
    "int_array.astype(calibers.dtype)"
   ]
  },
  {
   "cell_type": "code",
   "execution_count": 35,
   "metadata": {},
   "outputs": [
    {
     "data": {
      "text/plain": [
       "array([         0, 1072693248,          0, 1072693248,          0,\n",
       "       1072693248,          0, 1072693248], dtype=uint32)"
      ]
     },
     "execution_count": 35,
     "metadata": {},
     "output_type": "execute_result"
    }
   ],
   "source": [
    "empty_uint32 = np.empty(8, dtype='u4')\n",
    "empty_uint32"
   ]
  },
  {
   "cell_type": "markdown",
   "metadata": {},
   "source": [
    "### Arithmetic with NumPy Arrays"
   ]
  },
  {
   "cell_type": "code",
   "execution_count": 36,
   "metadata": {},
   "outputs": [
    {
     "data": {
      "text/plain": [
       "array([[0., 0., 0.],\n",
       "       [0., 0., 0.]])"
      ]
     },
     "execution_count": 36,
     "metadata": {},
     "output_type": "execute_result"
    }
   ],
   "source": [
    "arr = np.array([[1., 2., 3.], [4., 5., 6.]])\n",
    "arr\n",
    "arr * arr\n",
    "arr - arr"
   ]
  },
  {
   "cell_type": "code",
   "execution_count": 37,
   "metadata": {},
   "outputs": [
    {
     "data": {
      "text/plain": [
       "array([[1.    , 1.4142, 1.7321],\n",
       "       [2.    , 2.2361, 2.4495]])"
      ]
     },
     "execution_count": 37,
     "metadata": {},
     "output_type": "execute_result"
    }
   ],
   "source": [
    "1 / arr\n",
    "arr ** 0.5"
   ]
  },
  {
   "cell_type": "code",
   "execution_count": 38,
   "metadata": {},
   "outputs": [
    {
     "data": {
      "text/plain": [
       "array([[False,  True, False],\n",
       "       [ True, False,  True]])"
      ]
     },
     "execution_count": 38,
     "metadata": {},
     "output_type": "execute_result"
    }
   ],
   "source": [
    "arr2 = np.array([[0., 4., 1.], [7., 2., 12.]])\n",
    "arr2\n",
    "arr2 > arr"
   ]
  },
  {
   "cell_type": "markdown",
   "metadata": {},
   "source": [
    "### Basic Indexing and Slicing"
   ]
  },
  {
   "cell_type": "code",
   "execution_count": 39,
   "metadata": {},
   "outputs": [
    {
     "data": {
      "text/plain": [
       "array([ 0,  1,  2,  3,  4, 12, 12, 12,  8,  9])"
      ]
     },
     "execution_count": 39,
     "metadata": {},
     "output_type": "execute_result"
    }
   ],
   "source": [
    "arr = np.arange(10)\n",
    "arr\n",
    "arr[5]\n",
    "arr[5:8]\n",
    "arr[5:8] = 12\n",
    "arr"
   ]
  },
  {
   "cell_type": "code",
   "execution_count": 40,
   "metadata": {},
   "outputs": [
    {
     "data": {
      "text/plain": [
       "array([12, 12, 12])"
      ]
     },
     "execution_count": 40,
     "metadata": {},
     "output_type": "execute_result"
    }
   ],
   "source": [
    "arr_slice = arr[5:8]\n",
    "arr_slice"
   ]
  },
  {
   "cell_type": "code",
   "execution_count": 41,
   "metadata": {},
   "outputs": [
    {
     "data": {
      "text/plain": [
       "array([    0,     1,     2,     3,     4,    12, 12345,    12,     8,\n",
       "           9])"
      ]
     },
     "execution_count": 41,
     "metadata": {},
     "output_type": "execute_result"
    }
   ],
   "source": [
    "arr_slice[1] = 12345\n",
    "arr"
   ]
  },
  {
   "cell_type": "code",
   "execution_count": 42,
   "metadata": {},
   "outputs": [
    {
     "data": {
      "text/plain": [
       "array([ 0,  1,  2,  3,  4, 64, 64, 64,  8,  9])"
      ]
     },
     "execution_count": 42,
     "metadata": {},
     "output_type": "execute_result"
    }
   ],
   "source": [
    "arr_slice[:] = 64\n",
    "arr"
   ]
  },
  {
   "cell_type": "code",
   "execution_count": 43,
   "metadata": {},
   "outputs": [
    {
     "data": {
      "text/plain": [
       "array([7, 8, 9])"
      ]
     },
     "execution_count": 43,
     "metadata": {},
     "output_type": "execute_result"
    }
   ],
   "source": [
    "arr2d = np.array([[1, 2, 3], [4, 5, 6], [7, 8, 9]])\n",
    "arr2d[2]"
   ]
  },
  {
   "cell_type": "code",
   "execution_count": 44,
   "metadata": {},
   "outputs": [
    {
     "data": {
      "text/plain": [
       "3"
      ]
     },
     "execution_count": 44,
     "metadata": {},
     "output_type": "execute_result"
    }
   ],
   "source": [
    "arr2d[0][2]\n",
    "arr2d[0, 2]"
   ]
  },
  {
   "cell_type": "code",
   "execution_count": 45,
   "metadata": {},
   "outputs": [
    {
     "data": {
      "text/plain": [
       "array([[[ 1,  2,  3],\n",
       "        [ 4,  5,  6]],\n",
       "\n",
       "       [[ 7,  8,  9],\n",
       "        [10, 11, 12]]])"
      ]
     },
     "execution_count": 45,
     "metadata": {},
     "output_type": "execute_result"
    }
   ],
   "source": [
    "arr3d = np.array([[[1, 2, 3], [4, 5, 6]], [[7, 8, 9], [10, 11, 12]]])\n",
    "arr3d"
   ]
  },
  {
   "cell_type": "code",
   "execution_count": 46,
   "metadata": {},
   "outputs": [
    {
     "data": {
      "text/plain": [
       "array([[1, 2, 3],\n",
       "       [4, 5, 6]])"
      ]
     },
     "execution_count": 46,
     "metadata": {},
     "output_type": "execute_result"
    }
   ],
   "source": [
    "arr3d[0]"
   ]
  },
  {
   "cell_type": "code",
   "execution_count": 47,
   "metadata": {},
   "outputs": [
    {
     "data": {
      "text/plain": [
       "array([[[ 1,  2,  3],\n",
       "        [ 4,  5,  6]],\n",
       "\n",
       "       [[ 7,  8,  9],\n",
       "        [10, 11, 12]]])"
      ]
     },
     "execution_count": 47,
     "metadata": {},
     "output_type": "execute_result"
    }
   ],
   "source": [
    "old_values = arr3d[0].copy()\n",
    "arr3d[0] = 42\n",
    "arr3d\n",
    "arr3d[0] = old_values\n",
    "arr3d"
   ]
  },
  {
   "cell_type": "code",
   "execution_count": 48,
   "metadata": {},
   "outputs": [
    {
     "data": {
      "text/plain": [
       "array([7, 8, 9])"
      ]
     },
     "execution_count": 48,
     "metadata": {},
     "output_type": "execute_result"
    }
   ],
   "source": [
    "arr3d[1, 0]"
   ]
  },
  {
   "cell_type": "code",
   "execution_count": 49,
   "metadata": {},
   "outputs": [
    {
     "data": {
      "text/plain": [
       "array([7, 8, 9])"
      ]
     },
     "execution_count": 49,
     "metadata": {},
     "output_type": "execute_result"
    }
   ],
   "source": [
    "x = arr3d[1]\n",
    "x\n",
    "x[0]"
   ]
  },
  {
   "cell_type": "markdown",
   "metadata": {},
   "source": [
    "#### Indexing with slices"
   ]
  },
  {
   "cell_type": "code",
   "execution_count": 50,
   "metadata": {},
   "outputs": [
    {
     "data": {
      "text/plain": [
       "array([ 1,  2,  3,  4, 64])"
      ]
     },
     "execution_count": 50,
     "metadata": {},
     "output_type": "execute_result"
    }
   ],
   "source": [
    "arr\n",
    "arr[1:6]"
   ]
  },
  {
   "cell_type": "code",
   "execution_count": 51,
   "metadata": {},
   "outputs": [
    {
     "data": {
      "text/plain": [
       "array([[1, 2, 3],\n",
       "       [4, 5, 6]])"
      ]
     },
     "execution_count": 51,
     "metadata": {},
     "output_type": "execute_result"
    }
   ],
   "source": [
    "arr2d\n",
    "arr2d[:2]"
   ]
  },
  {
   "cell_type": "code",
   "execution_count": 52,
   "metadata": {},
   "outputs": [
    {
     "data": {
      "text/plain": [
       "array([[2, 3],\n",
       "       [5, 6]])"
      ]
     },
     "execution_count": 52,
     "metadata": {},
     "output_type": "execute_result"
    }
   ],
   "source": [
    "arr2d[:2, 1:]"
   ]
  },
  {
   "cell_type": "code",
   "execution_count": 53,
   "metadata": {},
   "outputs": [
    {
     "data": {
      "text/plain": [
       "array([4, 5])"
      ]
     },
     "execution_count": 53,
     "metadata": {},
     "output_type": "execute_result"
    }
   ],
   "source": [
    "arr2d[1, :2]"
   ]
  },
  {
   "cell_type": "code",
   "execution_count": 54,
   "metadata": {},
   "outputs": [
    {
     "data": {
      "text/plain": [
       "array([3, 6])"
      ]
     },
     "execution_count": 54,
     "metadata": {},
     "output_type": "execute_result"
    }
   ],
   "source": [
    "arr2d[:2, 2]"
   ]
  },
  {
   "cell_type": "code",
   "execution_count": 55,
   "metadata": {},
   "outputs": [
    {
     "data": {
      "text/plain": [
       "array([[1],\n",
       "       [4],\n",
       "       [7]])"
      ]
     },
     "execution_count": 55,
     "metadata": {},
     "output_type": "execute_result"
    }
   ],
   "source": [
    "arr2d[:, :1]"
   ]
  },
  {
   "cell_type": "code",
   "execution_count": 56,
   "metadata": {},
   "outputs": [
    {
     "data": {
      "text/plain": [
       "array([[1, 0, 0],\n",
       "       [4, 0, 0],\n",
       "       [7, 8, 9]])"
      ]
     },
     "execution_count": 56,
     "metadata": {},
     "output_type": "execute_result"
    }
   ],
   "source": [
    "arr2d[:2, 1:] = 0\n",
    "arr2d"
   ]
  },
  {
   "cell_type": "markdown",
   "metadata": {},
   "source": [
    "### Boolean Indexing"
   ]
  },
  {
   "cell_type": "code",
   "execution_count": 57,
   "metadata": {},
   "outputs": [
    {
     "data": {
      "text/plain": [
       "array([[ 0.7021, -0.2746, -0.1391,  0.1077],\n",
       "       [-0.6065, -0.4171, -0.017 , -1.2241],\n",
       "       [-1.8008,  1.6347,  0.989 ,  0.4579],\n",
       "       [ 0.5552,  1.3067, -0.4406, -0.3014],\n",
       "       [ 0.4988, -0.824 ,  1.3206,  0.508 ],\n",
       "       [-0.6534,  0.187 , -0.3917, -0.2723],\n",
       "       [-0.0171,  0.6803,  0.6355, -0.7572]])"
      ]
     },
     "execution_count": 57,
     "metadata": {},
     "output_type": "execute_result"
    }
   ],
   "source": [
    "names = np.array(['Bob', 'Joe', 'Will', 'Bob', 'Will', 'Joe', 'Joe'])\n",
    "data = np.random.randn(7, 4)\n",
    "names\n",
    "data"
   ]
  },
  {
   "cell_type": "markdown",
   "metadata": {},
   "source": [
    "test type"
   ]
  },
  {
   "cell_type": "code",
   "execution_count": 60,
   "metadata": {},
   "outputs": [
    {
     "data": {
      "text/plain": [
       "array(['Bob', 'Joe', 'Will', 'Bob', 'Will', 'Joe', 'Joe'], dtype='<U4')"
      ]
     },
     "execution_count": 60,
     "metadata": {},
     "output_type": "execute_result"
    }
   ],
   "source": [
    "names"
   ]
  },
  {
   "cell_type": "code",
   "execution_count": 61,
   "metadata": {},
   "outputs": [
    {
     "data": {
      "text/plain": [
       "array([ True, False, False,  True, False, False, False])"
      ]
     },
     "execution_count": 61,
     "metadata": {},
     "output_type": "execute_result"
    }
   ],
   "source": [
    "names == 'Bob'"
   ]
  },
  {
   "cell_type": "code",
   "execution_count": 62,
   "metadata": {},
   "outputs": [
    {
     "data": {
      "text/plain": [
       "array([[ 0.7021, -0.2746, -0.1391,  0.1077],\n",
       "       [ 0.5552,  1.3067, -0.4406, -0.3014]])"
      ]
     },
     "execution_count": 62,
     "metadata": {},
     "output_type": "execute_result"
    }
   ],
   "source": [
    "data[names == 'Bob']"
   ]
  },
  {
   "cell_type": "code",
   "execution_count": 64,
   "metadata": {},
   "outputs": [
    {
     "data": {
      "text/plain": [
       "array([ 0.1077, -0.3014])"
      ]
     },
     "execution_count": 64,
     "metadata": {},
     "output_type": "execute_result"
    }
   ],
   "source": [
    "data[names == 'Bob', 3]"
   ]
  },
  {
   "cell_type": "code",
   "execution_count": 65,
   "metadata": {},
   "outputs": [
    {
     "data": {
      "text/plain": [
       "array([[-0.1391,  0.1077],\n",
       "       [-0.4406, -0.3014]])"
      ]
     },
     "execution_count": 65,
     "metadata": {},
     "output_type": "execute_result"
    }
   ],
   "source": [
    "data[names == 'Bob', 2:]"
   ]
  },
  {
   "cell_type": "code",
   "execution_count": 66,
   "metadata": {},
   "outputs": [
    {
     "data": {
      "text/plain": [
       "array([[-0.6065, -0.4171, -0.017 , -1.2241],\n",
       "       [-1.8008,  1.6347,  0.989 ,  0.4579],\n",
       "       [ 0.4988, -0.824 ,  1.3206,  0.508 ],\n",
       "       [-0.6534,  0.187 , -0.3917, -0.2723],\n",
       "       [-0.0171,  0.6803,  0.6355, -0.7572]])"
      ]
     },
     "execution_count": 66,
     "metadata": {},
     "output_type": "execute_result"
    }
   ],
   "source": [
    "names != 'Bob'\n",
    "data[~(names == 'Bob')]"
   ]
  },
  {
   "cell_type": "code",
   "execution_count": 67,
   "metadata": {},
   "outputs": [
    {
     "data": {
      "text/plain": [
       "array([[-0.6065, -0.4171, -0.017 , -1.2241],\n",
       "       [-1.8008,  1.6347,  0.989 ,  0.4579],\n",
       "       [ 0.4988, -0.824 ,  1.3206,  0.508 ],\n",
       "       [-0.6534,  0.187 , -0.3917, -0.2723],\n",
       "       [-0.0171,  0.6803,  0.6355, -0.7572]])"
      ]
     },
     "execution_count": 67,
     "metadata": {},
     "output_type": "execute_result"
    }
   ],
   "source": [
    "cond = names == 'Bob'\n",
    "data[~cond]"
   ]
  },
  {
   "cell_type": "code",
   "execution_count": 68,
   "metadata": {},
   "outputs": [
    {
     "data": {
      "text/plain": [
       "array([[ 0.7021, -0.2746, -0.1391,  0.1077],\n",
       "       [-1.8008,  1.6347,  0.989 ,  0.4579],\n",
       "       [ 0.5552,  1.3067, -0.4406, -0.3014],\n",
       "       [ 0.4988, -0.824 ,  1.3206,  0.508 ]])"
      ]
     },
     "execution_count": 68,
     "metadata": {},
     "output_type": "execute_result"
    }
   ],
   "source": [
    "mask = (names == 'Bob') | (names == 'Will')\n",
    "mask\n",
    "data[mask]"
   ]
  },
  {
   "cell_type": "code",
   "execution_count": 69,
   "metadata": {},
   "outputs": [
    {
     "data": {
      "text/plain": [
       "array([[0.7021, 0.    , 0.    , 0.1077],\n",
       "       [0.    , 0.    , 0.    , 0.    ],\n",
       "       [0.    , 1.6347, 0.989 , 0.4579],\n",
       "       [0.5552, 1.3067, 0.    , 0.    ],\n",
       "       [0.4988, 0.    , 1.3206, 0.508 ],\n",
       "       [0.    , 0.187 , 0.    , 0.    ],\n",
       "       [0.    , 0.6803, 0.6355, 0.    ]])"
      ]
     },
     "execution_count": 69,
     "metadata": {},
     "output_type": "execute_result"
    }
   ],
   "source": [
    "data[data < 0] = 0\n",
    "data"
   ]
  },
  {
   "cell_type": "code",
   "execution_count": 77,
   "metadata": {},
   "outputs": [
    {
     "data": {
      "text/plain": [
       "array([[1.    , 2.    , 3.    , 4.    ],\n",
       "       [0.    , 0.    , 0.    , 0.    ],\n",
       "       [1.    , 2.    , 3.    , 4.    ],\n",
       "       [1.    , 2.    , 3.    , 4.    ],\n",
       "       [1.    , 2.    , 3.    , 4.    ],\n",
       "       [0.    , 0.187 , 0.    , 0.    ],\n",
       "       [0.    , 0.6803, 0.6355, 0.    ]])"
      ]
     },
     "execution_count": 77,
     "metadata": {},
     "output_type": "execute_result"
    }
   ],
   "source": [
    "data[names != 'Joe'] = [1,2,3,4]\n",
    "data"
   ]
  },
  {
   "cell_type": "markdown",
   "metadata": {},
   "source": [
    "### Fancy Indexing"
   ]
  },
  {
   "cell_type": "code",
   "execution_count": 78,
   "metadata": {},
   "outputs": [
    {
     "data": {
      "text/plain": [
       "array([[0., 0., 0., 0.],\n",
       "       [1., 1., 1., 1.],\n",
       "       [2., 2., 2., 2.],\n",
       "       [3., 3., 3., 3.],\n",
       "       [4., 4., 4., 4.],\n",
       "       [5., 5., 5., 5.],\n",
       "       [6., 6., 6., 6.],\n",
       "       [7., 7., 7., 7.]])"
      ]
     },
     "execution_count": 78,
     "metadata": {},
     "output_type": "execute_result"
    }
   ],
   "source": [
    "arr = np.empty((8, 4))\n",
    "for i in range(8):\n",
    "    arr[i] = i\n",
    "arr"
   ]
  },
  {
   "cell_type": "code",
   "execution_count": 79,
   "metadata": {},
   "outputs": [
    {
     "data": {
      "text/plain": [
       "array([[4., 4., 4., 4.],\n",
       "       [3., 3., 3., 3.],\n",
       "       [0., 0., 0., 0.],\n",
       "       [6., 6., 6., 6.]])"
      ]
     },
     "execution_count": 79,
     "metadata": {},
     "output_type": "execute_result"
    }
   ],
   "source": [
    "arr[[4, 3, 0, 6]]"
   ]
  },
  {
   "cell_type": "code",
   "execution_count": 80,
   "metadata": {},
   "outputs": [
    {
     "data": {
      "text/plain": [
       "array([[5., 5., 5., 5.],\n",
       "       [3., 3., 3., 3.],\n",
       "       [1., 1., 1., 1.]])"
      ]
     },
     "execution_count": 80,
     "metadata": {},
     "output_type": "execute_result"
    }
   ],
   "source": [
    "arr[[-3, -5, -7]]"
   ]
  },
  {
   "cell_type": "code",
   "execution_count": 81,
   "metadata": {},
   "outputs": [
    {
     "data": {
      "text/plain": [
       "array([ 4, 23, 29, 10])"
      ]
     },
     "execution_count": 81,
     "metadata": {},
     "output_type": "execute_result"
    }
   ],
   "source": [
    "arr = np.arange(32).reshape((8, 4))\n",
    "arr\n",
    "arr[[1, 5, 7, 2], [0, 3, 1, 2]]"
   ]
  },
  {
   "cell_type": "code",
   "execution_count": 82,
   "metadata": {},
   "outputs": [
    {
     "data": {
      "text/plain": [
       "array([[ 4,  7,  5,  6],\n",
       "       [20, 23, 21, 22],\n",
       "       [28, 31, 29, 30],\n",
       "       [ 8, 11,  9, 10]])"
      ]
     },
     "execution_count": 82,
     "metadata": {},
     "output_type": "execute_result"
    }
   ],
   "source": [
    "arr[[1, 5, 7, 2]][:, [0, 3, 1, 2]]"
   ]
  },
  {
   "cell_type": "markdown",
   "metadata": {},
   "source": [
    "### Transposing Arrays and Swapping Axes"
   ]
  },
  {
   "cell_type": "code",
   "execution_count": 83,
   "metadata": {},
   "outputs": [
    {
     "data": {
      "text/plain": [
       "array([[ 0,  5, 10],\n",
       "       [ 1,  6, 11],\n",
       "       [ 2,  7, 12],\n",
       "       [ 3,  8, 13],\n",
       "       [ 4,  9, 14]])"
      ]
     },
     "execution_count": 83,
     "metadata": {},
     "output_type": "execute_result"
    }
   ],
   "source": [
    "arr = np.arange(15).reshape((3, 5))\n",
    "arr\n",
    "arr.T"
   ]
  },
  {
   "cell_type": "code",
   "execution_count": 89,
   "metadata": {},
   "outputs": [
    {
     "data": {
      "text/plain": [
       "array([[ 1.2949, -0.5277,  1.968 , -0.8106, -3.1075, -0.4246],\n",
       "       [-0.5277,  3.8699, -0.67  , -0.0175,  3.5153,  0.8157],\n",
       "       [ 1.968 , -0.67  ,  3.016 , -1.3099, -4.7049, -0.5376],\n",
       "       [-0.8106, -0.0175, -1.3099,  0.7521,  1.9358, -0.0691],\n",
       "       [-3.1075,  3.5153, -4.7049,  1.9358,  9.0393,  1.1498],\n",
       "       [-0.4246,  0.8157, -0.5376, -0.0691,  1.1498,  0.6064]])"
      ]
     },
     "execution_count": 89,
     "metadata": {},
     "output_type": "execute_result"
    }
   ],
   "source": [
    "arr = np.random.randn(6, 3)\n",
    "arr\n",
    "np.dot(arr, arr.T)"
   ]
  },
  {
   "cell_type": "code",
   "execution_count": 90,
   "metadata": {},
   "outputs": [
    {
     "data": {
      "text/plain": [
       "array([[[ 0,  4],\n",
       "        [ 8, 12]],\n",
       "\n",
       "       [[ 1,  5],\n",
       "        [ 9, 13]],\n",
       "\n",
       "       [[ 2,  6],\n",
       "        [10, 14]],\n",
       "\n",
       "       [[ 3,  7],\n",
       "        [11, 15]]])"
      ]
     },
     "execution_count": 90,
     "metadata": {},
     "output_type": "execute_result"
    }
   ],
   "source": [
    "arr = np.arange(16).reshape((2, 2, 4))\n",
    "arr\n",
    "arr.transpose((2, 0, 1))"
   ]
  },
  {
   "cell_type": "code",
   "execution_count": 93,
   "metadata": {},
   "outputs": [
    {
     "data": {
      "text/plain": [
       "array([[[ 0,  1,  2,  3],\n",
       "        [ 4,  5,  6,  7]],\n",
       "\n",
       "       [[ 8,  9, 10, 11],\n",
       "        [12, 13, 14, 15]]])"
      ]
     },
     "execution_count": 93,
     "metadata": {},
     "output_type": "execute_result"
    }
   ],
   "source": [
    "arr"
   ]
  },
  {
   "cell_type": "code",
   "execution_count": 95,
   "metadata": {},
   "outputs": [
    {
     "data": {
      "text/plain": [
       "array([[[ 0,  8],\n",
       "        [ 4, 12]],\n",
       "\n",
       "       [[ 1,  9],\n",
       "        [ 5, 13]],\n",
       "\n",
       "       [[ 2, 10],\n",
       "        [ 6, 14]],\n",
       "\n",
       "       [[ 3, 11],\n",
       "        [ 7, 15]]])"
      ]
     },
     "execution_count": 95,
     "metadata": {},
     "output_type": "execute_result"
    }
   ],
   "source": [
    "arr.swapaxes(0, 2)"
   ]
  },
  {
   "cell_type": "markdown",
   "metadata": {},
   "source": [
    "## Universal Functions: Fast Element-Wise Array Functions"
   ]
  },
  {
   "cell_type": "code",
   "execution_count": 87,
   "metadata": {},
   "outputs": [
    {
     "data": {
      "text/plain": [
       "array([ 0.7464,  2.2247, -0.5578,  0.7274, -0.3726, -0.9266,  1.7551,\n",
       "        1.2098])"
      ]
     },
     "execution_count": 87,
     "metadata": {},
     "output_type": "execute_result"
    }
   ],
   "source": [
    "x = np.random.randn(8)\n",
    "y = np.random.randn(8)\n",
    "x\n",
    "y\n",
    "np.maximum(x, y)"
   ]
  },
  {
   "cell_type": "code",
   "execution_count": 88,
   "metadata": {},
   "outputs": [
    {
     "data": {
      "text/plain": [
       "array([ 6., -4., -3., -1., -1., -3., -3.])"
      ]
     },
     "execution_count": 88,
     "metadata": {},
     "output_type": "execute_result"
    }
   ],
   "source": [
    "arr = np.random.randn(7) * 5\n",
    "arr\n",
    "remainder, whole_part = np.modf(arr)\n",
    "remainder\n",
    "whole_part"
   ]
  },
  {
   "cell_type": "code",
   "execution_count": null,
   "metadata": {},
   "outputs": [],
   "source": [
    "arr\n",
    "np.sqrt(arr)\n",
    "np.sqrt(arr, arr)\n",
    "arr"
   ]
  },
  {
   "cell_type": "markdown",
   "metadata": {},
   "source": [
    "## Array-Oriented Programming with Arrays"
   ]
  },
  {
   "cell_type": "code",
   "execution_count": 98,
   "metadata": {},
   "outputs": [
    {
     "data": {
      "text/plain": [
       "array([[-5.  , -5.  , -5.  , ..., -5.  , -5.  , -5.  ],\n",
       "       [-4.99, -4.99, -4.99, ..., -4.99, -4.99, -4.99],\n",
       "       [-4.98, -4.98, -4.98, ..., -4.98, -4.98, -4.98],\n",
       "       ...,\n",
       "       [ 4.97,  4.97,  4.97, ...,  4.97,  4.97,  4.97],\n",
       "       [ 4.98,  4.98,  4.98, ...,  4.98,  4.98,  4.98],\n",
       "       [ 4.99,  4.99,  4.99, ...,  4.99,  4.99,  4.99]])"
      ]
     },
     "execution_count": 98,
     "metadata": {},
     "output_type": "execute_result"
    }
   ],
   "source": [
    "points = np.arange(-5, 5, 0.01) # 1000 equally spaced points\n",
    "xs, ys = np.meshgrid(points, points)\n",
    "ys"
   ]
  },
  {
   "cell_type": "code",
   "execution_count": 101,
   "metadata": {},
   "outputs": [
    {
     "data": {
      "text/plain": [
       "array([[-5.  , -4.99, -4.98, ...,  4.97,  4.98,  4.99],\n",
       "       [-5.  , -4.99, -4.98, ...,  4.97,  4.98,  4.99],\n",
       "       [-5.  , -4.99, -4.98, ...,  4.97,  4.98,  4.99],\n",
       "       ...,\n",
       "       [-5.  , -4.99, -4.98, ...,  4.97,  4.98,  4.99],\n",
       "       [-5.  , -4.99, -4.98, ...,  4.97,  4.98,  4.99],\n",
       "       [-5.  , -4.99, -4.98, ...,  4.97,  4.98,  4.99]])"
      ]
     },
     "execution_count": 101,
     "metadata": {},
     "output_type": "execute_result"
    }
   ],
   "source": [
    "xs"
   ]
  },
  {
   "cell_type": "code",
   "execution_count": 99,
   "metadata": {},
   "outputs": [
    {
     "data": {
      "text/plain": [
       "array([[7.0711, 7.064 , 7.0569, ..., 7.0499, 7.0569, 7.064 ],\n",
       "       [7.064 , 7.0569, 7.0499, ..., 7.0428, 7.0499, 7.0569],\n",
       "       [7.0569, 7.0499, 7.0428, ..., 7.0357, 7.0428, 7.0499],\n",
       "       ...,\n",
       "       [7.0499, 7.0428, 7.0357, ..., 7.0286, 7.0357, 7.0428],\n",
       "       [7.0569, 7.0499, 7.0428, ..., 7.0357, 7.0428, 7.0499],\n",
       "       [7.064 , 7.0569, 7.0499, ..., 7.0428, 7.0499, 7.0569]])"
      ]
     },
     "execution_count": 99,
     "metadata": {},
     "output_type": "execute_result"
    }
   ],
   "source": [
    "z = np.sqrt(xs ** 2 + ys ** 2)\n",
    "z"
   ]
  },
  {
   "cell_type": "code",
   "execution_count": 100,
   "metadata": {},
   "outputs": [
    {
     "data": {
      "text/plain": [
       "Text(0.5,1,'Image plot of $\\\\sqrt{x^2 + y^2}$ for a grid of values')"
      ]
     },
     "execution_count": 100,
     "metadata": {},
     "output_type": "execute_result"
    },
    {
     "data": {
      "image/png": "[encoded data removed]",
      "text/plain": [
       "<Figure size 720x432 with 2 Axes>"
      ]
     },
     "metadata": {},
     "output_type": "display_data"
    }
   ],
   "source": [
    "import matplotlib.pyplot as plt\n",
    "plt.imshow(z, cmap=plt.cm.gray); plt.colorbar()\n",
    "plt.title(\"Image plot of $\\sqrt{x^2 + y^2}$ for a grid of values\")"
   ]
  },
  {
   "cell_type": "code",
   "execution_count": null,
   "metadata": {},
   "outputs": [],
   "source": [
    "plt.draw()"
   ]
  },
  {
   "cell_type": "code",
   "execution_count": null,
   "metadata": {},
   "outputs": [],
   "source": [
    "plt.close('all')"
   ]
  },
  {
   "cell_type": "markdown",
   "metadata": {},
   "source": [
    "### Expressing Conditional Logic as Array Operations"
   ]
  },
  {
   "cell_type": "code",
   "execution_count": 102,
   "metadata": {},
   "outputs": [],
   "source": [
    "xarr = np.array([1.1, 1.2, 1.3, 1.4, 1.5])\n",
    "yarr = np.array([2.1, 2.2, 2.3, 2.4, 2.5])\n",
    "cond = np.array([True, False, True, True, False])"
   ]
  },
  {
   "cell_type": "code",
   "execution_count": 103,
   "metadata": {},
   "outputs": [
    {
     "data": {
      "text/plain": [
       "[1.1, 2.2, 1.3, 1.4, 2.5]"
      ]
     },
     "execution_count": 103,
     "metadata": {},
     "output_type": "execute_result"
    }
   ],
   "source": [
    "result = [(x if c else y)\n",
    "          for x, y, c in zip(xarr, yarr, cond)]\n",
    "result"
   ]
  },
  {
   "cell_type": "code",
   "execution_count": 104,
   "metadata": {},
   "outputs": [
    {
     "data": {
      "text/plain": [
       "array([1.1, 2.2, 1.3, 1.4, 2.5])"
      ]
     },
     "execution_count": 104,
     "metadata": {},
     "output_type": "execute_result"
    }
   ],
   "source": [
    "result = np.where(cond, xarr, yarr)\n",
    "result"
   ]
  },
  {
   "cell_type": "code",
   "execution_count": 105,
   "metadata": {},
   "outputs": [
    {
     "data": {
      "text/plain": [
       "array([[-2,  2, -2, -2],\n",
       "       [ 2,  2,  2,  2],\n",
       "       [ 2,  2,  2, -2],\n",
       "       [ 2,  2,  2,  2]])"
      ]
     },
     "execution_count": 105,
     "metadata": {},
     "output_type": "execute_result"
    }
   ],
   "source": [
    "arr = np.random.randn(4, 4)\n",
    "arr\n",
    "arr > 0\n",
    "np.where(arr > 0, 2, -2)"
   ]
  },
  {
   "cell_type": "code",
   "execution_count": 106,
   "metadata": {},
   "outputs": [
    {
     "data": {
      "text/plain": [
       "array([[-0.2047,  2.    , -0.5194, -0.5557],\n",
       "       [ 2.    ,  2.    ,  2.    ,  2.    ],\n",
       "       [ 2.    ,  2.    ,  2.    , -1.2962],\n",
       "       [ 2.    ,  2.    ,  2.    ,  2.    ]])"
      ]
     },
     "execution_count": 106,
     "metadata": {},
     "output_type": "execute_result"
    }
   ],
   "source": [
    "np.where(arr > 0, 2, arr) # set only positive values to 2"
   ]
  },
  {
   "cell_type": "markdown",
   "metadata": {},
   "source": [
    "### Mathematical and Statistical Methods"
   ]
  },
  {
   "cell_type": "code",
   "execution_count": 107,
   "metadata": {},
   "outputs": [
    {
     "data": {
      "text/plain": [
       "-3.3361967109220156"
      ]
     },
     "execution_count": 107,
     "metadata": {},
     "output_type": "execute_result"
    }
   ],
   "source": [
    "arr = np.random.randn(5, 4)\n",
    "arr\n",
    "arr.mean()\n",
    "np.mean(arr)\n",
    "arr.sum()"
   ]
  },
  {
   "cell_type": "code",
   "execution_count": 108,
   "metadata": {},
   "outputs": [
    {
     "data": {
      "text/plain": [
       "array([-5.4878, -0.2877,  3.6463, -1.207 ])"
      ]
     },
     "execution_count": 108,
     "metadata": {},
     "output_type": "execute_result"
    }
   ],
   "source": [
    "arr.mean(axis=1)\n",
    "arr.sum(axis=0)"
   ]
  },
  {
   "cell_type": "code",
   "execution_count": 109,
   "metadata": {},
   "outputs": [
    {
     "data": {
      "text/plain": [
       "array([ 0,  1,  3,  6, 10, 15, 21, 28])"
      ]
     },
     "execution_count": 109,
     "metadata": {},
     "output_type": "execute_result"
    }
   ],
   "source": [
    "arr = np.array([0, 1, 2, 3, 4, 5, 6, 7])\n",
    "arr.cumsum()"
   ]
  },
  {
   "cell_type": "code",
   "execution_count": 110,
   "metadata": {},
   "outputs": [
    {
     "data": {
      "text/plain": [
       "array([[  0,   0,   0],\n",
       "       [  3,  12,  60],\n",
       "       [  6,  42, 336]])"
      ]
     },
     "execution_count": 110,
     "metadata": {},
     "output_type": "execute_result"
    }
   ],
   "source": [
    "arr = np.array([[0, 1, 2], [3, 4, 5], [6, 7, 8]])\n",
    "arr\n",
    "arr.cumsum(axis=0)\n",
    "arr.cumprod(axis=1)"
   ]
  },
  {
   "cell_type": "markdown",
   "metadata": {},
   "source": [
    "### Methods for Boolean Arrays"
   ]
  },
  {
   "cell_type": "code",
   "execution_count": 111,
   "metadata": {},
   "outputs": [
    {
     "data": {
      "text/plain": [
       "50"
      ]
     },
     "execution_count": 111,
     "metadata": {},
     "output_type": "execute_result"
    }
   ],
   "source": [
    "arr = np.random.randn(100)\n",
    "(arr > 0).sum() # Number of positive values"
   ]
  },
  {
   "cell_type": "code",
   "execution_count": 112,
   "metadata": {},
   "outputs": [
    {
     "data": {
      "text/plain": [
       "False"
      ]
     },
     "execution_count": 112,
     "metadata": {},
     "output_type": "execute_result"
    }
   ],
   "source": [
    "bools = np.array([False, False, True, False])\n",
    "bools.any()\n",
    "bools.all()"
   ]
  },
  {
   "cell_type": "markdown",
   "metadata": {},
   "source": [
    "### Sorting"
   ]
  },
  {
   "cell_type": "code",
   "execution_count": 117,
   "metadata": {},
   "outputs": [
    {
     "data": {
      "text/plain": [
       "[-0.7769674735942644,\n",
       " -0.11055735956475293,\n",
       " 1.2273869948457277,\n",
       " 1.4401668688265257,\n",
       " 1.9207842618523894,\n",
       " 2.068707851251932]"
      ]
     },
     "execution_count": 117,
     "metadata": {},
     "output_type": "execute_result"
    }
   ],
   "source": [
    "arr = np.random.randn(6)\n",
    "arr\n",
    "sorted(arr)\n"
   ]
  },
  {
   "cell_type": "code",
   "execution_count": 118,
   "metadata": {},
   "outputs": [
    {
     "data": {
      "text/plain": [
       "array([ 2.0687, -0.777 ,  1.4402, -0.1106,  1.2274,  1.9208])"
      ]
     },
     "execution_count": 118,
     "metadata": {},
     "output_type": "execute_result"
    }
   ],
   "source": [
    "arr"
   ]
  },
  {
   "cell_type": "code",
   "execution_count": 119,
   "metadata": {},
   "outputs": [
    {
     "data": {
      "text/plain": [
       "array([[-0.4706, -0.9266, -1.2139],\n",
       "       [-0.3726, -0.9192, -0.8388],\n",
       "       [ 0.4352, -0.8687, -0.6794],\n",
       "       [ 0.7274, -0.5578, -0.5675],\n",
       "       [ 0.7464,  2.2247,  1.7551]])"
      ]
     },
     "execution_count": 119,
     "metadata": {},
     "output_type": "execute_result"
    }
   ],
   "source": [
    "arr = np.random.randn(5, 3)\n",
    "arr\n",
    "arr.sort(0)\n",
    "arr"
   ]
  },
  {
   "cell_type": "code",
   "execution_count": 125,
   "metadata": {},
   "outputs": [
    {
     "data": {
      "text/plain": [
       "-3.3337671832595857"
      ]
     },
     "execution_count": 125,
     "metadata": {},
     "output_type": "execute_result"
    }
   ],
   "source": [
    "large_arr = np.random.randn(1000)\n",
    "large_arr.sort()\n",
    "large_arr[1]"
   ]
  },
  {
   "cell_type": "code",
   "execution_count": 126,
   "metadata": {},
   "outputs": [
    {
     "data": {
      "text/plain": [
       "array([-3.6459, -3.3338, -2.9708, -2.8398, -2.7879, -2.6658, -2.641 ,\n",
       "       -2.5254, -2.4336, -2.3654, -2.3383, -2.314 , -2.3032, -2.2064,\n",
       "       -2.1921, -2.1734, -2.1228, -2.1215, -2.096 , -2.0936, -2.0913,\n",
       "       -2.0792, -2.0422, -2.0408, -2.0335, -2.0205, -2.0058, -1.9942,\n",
       "       -1.9097, -1.9075, -1.9048, -1.9039, -1.9039, -1.8984, -1.8967,\n",
       "       -1.8945, -1.8787, -1.8503, -1.8437, -1.8396, -1.835 , -1.7946,\n",
       "       -1.7552, -1.7451, -1.7263, -1.7224, -1.722 , -1.6967, -1.6715,\n",
       "       -1.6602, -1.6562, -1.6559, -1.6468, -1.6258, -1.6248, -1.6211,\n",
       "       -1.5671, -1.5596, -1.5589, -1.558 , -1.5567, -1.5534, -1.5495,\n",
       "       -1.541 , -1.529 , -1.5141, -1.5127, -1.502 , -1.4867, -1.4803,\n",
       "       -1.4747, -1.4717, -1.4564, -1.4508, -1.4469, -1.4439, -1.4386,\n",
       "       -1.4386, -1.4171, -1.3982, -1.3947, -1.3807, -1.3756, -1.3756,\n",
       "       -1.3715, -1.3688, -1.3651, -1.357 , -1.3521, -1.347 , -1.3445,\n",
       "       -1.3345, -1.3159, -1.3145, -1.3143, -1.3066, -1.3011, -1.2795,\n",
       "       -1.2717, -1.2679, -1.2673, -1.2632, -1.2576, -1.2542, -1.2512,\n",
       "       -1.2407, -1.2355, -1.2293, -1.2242, -1.2223, -1.2219, -1.2207,\n",
       "       -1.2139, -1.2021, -1.1978, -1.1756, -1.1735, -1.1637, -1.1632,\n",
       "       -1.1586, -1.1368, -1.135 , -1.1347, -1.1314, -1.1293, -1.1241,\n",
       "       -1.1207, -1.1148, -1.1066, -1.1049, -1.1037, -1.1014, -1.0911,\n",
       "       -1.0908, -1.0888, -1.0885, -1.082 , -1.0634, -1.0579, -1.0559,\n",
       "       -1.0524, -1.0471, -1.0398, -1.033 , -1.0314, -1.0294, -1.0266,\n",
       "       -1.0224, -1.0215, -1.0207, -1.0183, -1.014 , -1.0117, -1.0097,\n",
       "       -1.0049, -1.0041, -1.003 , -1.0023, -0.9984, -0.9983, -0.9968,\n",
       "       -0.9946, -0.9937, -0.9914, -0.9897, -0.9877, -0.9875, -0.9842,\n",
       "       -0.9793, -0.9784, -0.9719, -0.9716, -0.9671, -0.966 , -0.9631,\n",
       "       -0.9625, -0.9615, -0.961 , -0.9551, -0.9416, -0.9386, -0.9384,\n",
       "       -0.9374, -0.9357, -0.9356, -0.9285, -0.9157, -0.911 , -0.9099,\n",
       "       -0.9092, -0.9033, -0.9032, -0.9001, -0.8996, -0.8956, -0.8874,\n",
       "       -0.885 , -0.8837, -0.8826, -0.8789, -0.8682, -0.8662, -0.8658,\n",
       "       -0.858 , -0.857 , -0.8509, -0.8354, -0.8344, -0.8208, -0.8204,\n",
       "       -0.8186, -0.8132, -0.8129, -0.8114, -0.8071, -0.7932, -0.7901,\n",
       "       -0.7779, -0.7738, -0.7671, -0.7627, -0.7589, -0.7581, -0.7552,\n",
       "       -0.7549, -0.7527, -0.7517, -0.7499, -0.7488, -0.7476, -0.7307,\n",
       "       -0.7295, -0.7244, -0.7198, -0.7166, -0.7017, -0.7011, -0.701 ,\n",
       "       -0.7003, -0.7   , -0.6999, -0.6998, -0.6987, -0.6964, -0.6944,\n",
       "       -0.6934, -0.6922, -0.6914, -0.6891, -0.6889, -0.6875, -0.6814,\n",
       "       -0.6813, -0.6788, -0.6754, -0.6718, -0.6679, -0.6613, -0.6612,\n",
       "       -0.6584, -0.6581, -0.6546, -0.6528, -0.6509, -0.6484, -0.642 ,\n",
       "       -0.6349, -0.6304, -0.6235, -0.6183, -0.6172, -0.6089, -0.6083,\n",
       "       -0.6054, -0.5979, -0.5878, -0.5871, -0.5865, -0.5853, -0.5836,\n",
       "       -0.5788, -0.5765, -0.5755, -0.5745, -0.5711, -0.5691, -0.5654,\n",
       "       -0.5594, -0.5582, -0.5506, -0.5496, -0.5492, -0.5391, -0.5311,\n",
       "       -0.5277, -0.5263, -0.5262, -0.5222, -0.5178, -0.5176, -0.5172,\n",
       "       -0.5135, -0.508 , -0.5058, -0.5014, -0.4917, -0.4864, -0.4858,\n",
       "       -0.4813, -0.4762, -0.4756, -0.4725, -0.4695, -0.4669, -0.4665,\n",
       "       -0.4653, -0.4632, -0.4603, -0.46  , -0.4579, -0.4573, -0.4554,\n",
       "       -0.4507, -0.4474, -0.4467, -0.4444, -0.4441, -0.4439, -0.4439,\n",
       "       -0.4416, -0.4391, -0.439 , -0.4379, -0.4358, -0.4304, -0.4259,\n",
       "       -0.4249, -0.4181, -0.4174, -0.4174, -0.4146, -0.4094, -0.4084,\n",
       "       -0.4074, -0.4065, -0.398 , -0.3971, -0.3969, -0.3933, -0.3922,\n",
       "       -0.3918, -0.388 , -0.3872, -0.3841, -0.3825, -0.3748, -0.37  ,\n",
       "       -0.3697, -0.367 , -0.3664, -0.3659, -0.3638, -0.362 , -0.3548,\n",
       "       -0.354 , -0.3506, -0.3461, -0.3457, -0.3411, -0.3404, -0.3396,\n",
       "       -0.3359, -0.3335, -0.3291, -0.328 , -0.3233, -0.323 , -0.312 ,\n",
       "       -0.3   , -0.2999, -0.2964, -0.2945, -0.2939, -0.2893, -0.2879,\n",
       "       -0.2861, -0.2848, -0.2846, -0.2818, -0.2813, -0.2807, -0.2765,\n",
       "       -0.2764, -0.2755, -0.2744, -0.2681, -0.2609, -0.2607, -0.2576,\n",
       "       -0.2541, -0.2539, -0.2519, -0.2508, -0.2507, -0.2483, -0.2422,\n",
       "       -0.2381, -0.2325, -0.2266, -0.2257, -0.2195, -0.2124, -0.2093,\n",
       "       -0.2074, -0.2062, -0.2059, -0.2053, -0.204 , -0.2035, -0.2014,\n",
       "       -0.1997, -0.1986, -0.196 , -0.1956, -0.1919, -0.1885, -0.1848,\n",
       "       -0.1787, -0.1721, -0.169 , -0.1687, -0.1673, -0.1651, -0.164 ,\n",
       "       -0.1632, -0.1616, -0.1615, -0.1614, -0.1598, -0.1587, -0.1583,\n",
       "       -0.1508, -0.1497, -0.1466, -0.1454, -0.1435, -0.1397, -0.1382,\n",
       "       -0.1347, -0.1342, -0.1341, -0.1327, -0.1317, -0.1305, -0.1296,\n",
       "       -0.1295, -0.1252, -0.1251, -0.1243, -0.1238, -0.122 , -0.1218,\n",
       "       -0.12  , -0.1195, -0.1155, -0.1141, -0.1121, -0.1115, -0.1102,\n",
       "       -0.1097, -0.098 , -0.0968, -0.0926, -0.0914, -0.0865, -0.0842,\n",
       "       -0.0803, -0.0796, -0.0779, -0.0744, -0.0719, -0.0716, -0.0672,\n",
       "       -0.0531, -0.0486, -0.0449, -0.0408, -0.0407, -0.039 , -0.0372,\n",
       "       -0.0325, -0.0238, -0.022 , -0.022 , -0.0194, -0.0142, -0.0103,\n",
       "       -0.0071, -0.0053, -0.005 , -0.0016, -0.    ,  0.0009,  0.0052,\n",
       "        0.0057,  0.009 ,  0.0092,  0.01  ,  0.0124,  0.0134,  0.0135,\n",
       "        0.0196,  0.0208,  0.0236,  0.0257,  0.0278,  0.0303,  0.0305,\n",
       "        0.0322,  0.0335,  0.0337,  0.0363,  0.0373,  0.038 ,  0.0395,\n",
       "        0.0442,  0.0447,  0.0467,  0.0549,  0.056 ,  0.0602,  0.0634,\n",
       "        0.064 ,  0.0641,  0.068 ,  0.0716,  0.0762,  0.0763,  0.0782,\n",
       "        0.0843,  0.0879,  0.0934,  0.094 ,  0.1003,  0.1011,  0.1017,\n",
       "        0.1093,  0.1157,  0.1168,  0.1172,  0.1208,  0.1226,  0.126 ,\n",
       "        0.1277,  0.1286,  0.1294,  0.1314,  0.1344,  0.1392,  0.1411,\n",
       "        0.1436,  0.1451,  0.1463,  0.1514,  0.1548,  0.1683,  0.1687,\n",
       "        0.1688,  0.1692,  0.1723,  0.1735,  0.1749,  0.1751,  0.1751,\n",
       "        0.1754,  0.1761,  0.1764,  0.1772,  0.1792,  0.1821,  0.1909,\n",
       "        0.1952,  0.1977,  0.1999,  0.2052,  0.2052,  0.21  ,  0.2144,\n",
       "        0.2148,  0.216 ,  0.2196,  0.2235,  0.2238,  0.2251,  0.2252,\n",
       "        0.2252,  0.2307,  0.2328,  0.2335,  0.2344,  0.2361,  0.2366,\n",
       "        0.2374,  0.2375,  0.2388,  0.2399,  0.2404,  0.2407,  0.2431,\n",
       "        0.2449,  0.2462,  0.247 ,  0.2501,  0.2533,  0.2555,  0.26  ,\n",
       "        0.2645,  0.2693,  0.2748,  0.276 ,  0.2765,  0.2794,  0.2798,\n",
       "        0.2831,  0.2833,  0.2873,  0.2944,  0.2997,  0.3013,  0.3039,\n",
       "        0.3059,  0.3082,  0.31  ,  0.3166,  0.3175,  0.3234,  0.3263,\n",
       "        0.328 ,  0.3296,  0.3368,  0.3393,  0.3393,  0.3408,  0.3422,\n",
       "        0.3423,  0.3424,  0.3425,  0.3453,  0.3456,  0.3473,  0.3477,\n",
       "        0.3499,  0.3536,  0.3564,  0.3629,  0.3648,  0.3651,  0.3691,\n",
       "        0.3727,  0.3731,  0.3772,  0.3794,  0.3842,  0.3868,  0.3871,\n",
       "        0.3905,  0.3909,  0.3917,  0.3918,  0.3953,  0.3956,  0.4057,\n",
       "        0.4077,  0.4089,  0.4093,  0.4179,  0.418 ,  0.4279,  0.4298,\n",
       "        0.4356,  0.4356,  0.4357,  0.439 ,  0.4403,  0.4467,  0.4508,\n",
       "        0.4609,  0.4622,  0.4642,  0.4645,  0.4724,  0.4751,  0.4757,\n",
       "        0.4758,  0.4766,  0.4797,  0.4885,  0.4893,  0.4905,  0.4909,\n",
       "        0.5024,  0.5073,  0.5118,  0.5196,  0.5287,  0.5365,  0.5368,\n",
       "        0.5377,  0.5397,  0.5446,  0.5482,  0.5484,  0.5486,  0.5522,\n",
       "        0.5556,  0.5575,  0.5637,  0.5638,  0.5704,  0.5735,  0.5766,\n",
       "        0.5768,  0.5788,  0.5811,  0.586 ,  0.5892,  0.592 ,  0.5954,\n",
       "        0.599 ,  0.5999,  0.6005,  0.6023,  0.6038,  0.6074,  0.6106,\n",
       "        0.6125,  0.6179,  0.6188,  0.6222,  0.6246,  0.63  ,  0.6336,\n",
       "        0.6338,  0.6362,  0.6378,  0.6388,  0.6398,  0.6425,  0.6433,\n",
       "        0.6455,  0.6519,  0.6533,  0.6535,  0.6561,  0.6564,  0.6636,\n",
       "        0.6684,  0.6707,  0.6791,  0.6852,  0.6882,  0.69  ,  0.6922,\n",
       "        0.6934,  0.699 ,  0.7003,  0.7009,  0.7054,  0.7065,  0.7124,\n",
       "        0.7167,  0.7202,  0.7206,  0.7208,  0.7231,  0.7244,  0.7248,\n",
       "        0.7368,  0.7445,  0.746 ,  0.7466,  0.7504,  0.7554,  0.7575,\n",
       "        0.7593,  0.763 ,  0.7656,  0.767 ,  0.7749,  0.7874,  0.7884,\n",
       "        0.7924,  0.8039,  0.8229,  0.8237,  0.8265,  0.8316,  0.8374,\n",
       "        0.8387,  0.8462,  0.8473,  0.8476,  0.8487,  0.8531,  0.8535,\n",
       "        0.859 ,  0.8594,  0.8594,  0.862 ,  0.8635,  0.8642,  0.8668,\n",
       "        0.8679,  0.8688,  0.8692,  0.8716,  0.8719,  0.8745,  0.8853,\n",
       "        0.8929,  0.895 ,  0.9013,  0.9094,  0.9166,  0.918 ,  0.9247,\n",
       "        0.9285,  0.9287,  0.9332,  0.9407,  0.9484,  0.9688,  0.9708,\n",
       "        0.9896,  0.9903,  1.001 ,  1.0048,  1.0071,  1.0075,  1.0091,\n",
       "        1.0124,  1.0174,  1.0176,  1.0197,  1.0216,  1.0224,  1.0414,\n",
       "        1.0448,  1.0462,  1.047 ,  1.0504,  1.0519,  1.0522,  1.0549,\n",
       "        1.0606,  1.064 ,  1.0663,  1.0672,  1.0682,  1.0718,  1.0754,\n",
       "        1.0785,  1.0859,  1.0892,  1.0924,  1.0945,  1.0958,  1.0987,\n",
       "        1.1111,  1.1156,  1.1167,  1.117 ,  1.1284,  1.135 ,  1.136 ,\n",
       "        1.1472,  1.1476,  1.1534,  1.1537,  1.1636,  1.1715,  1.1723,\n",
       "        1.1753,  1.1816,  1.1831,  1.1857,  1.1858,  1.1863,  1.1913,\n",
       "        1.1956,  1.1965,  1.1978,  1.2091,  1.2115,  1.2213,  1.229 ,\n",
       "        1.2364,  1.2418,  1.2428,  1.2436,  1.2509,  1.2612,  1.2643,\n",
       "        1.2664,  1.2771,  1.3125,  1.3193,  1.322 ,  1.3231,  1.3241,\n",
       "        1.3271,  1.3343,  1.3423,  1.347 ,  1.3483,  1.3491,  1.3493,\n",
       "        1.3508,  1.3699,  1.3771,  1.3878,  1.4045,  1.4163,  1.4226,\n",
       "        1.428 ,  1.4294,  1.4402,  1.4414,  1.4426,  1.447 ,  1.4505,\n",
       "        1.464 ,  1.4722,  1.4802,  1.4926,  1.4954,  1.5028,  1.5099,\n",
       "        1.5192,  1.5339,  1.5373,  1.5473,  1.5538,  1.5563,  1.5579,\n",
       "        1.5625,  1.5669,  1.5716,  1.5782,  1.5828,  1.5885,  1.5901,\n",
       "        1.5957,  1.6092,  1.633 ,  1.6351,  1.6385,  1.6469,  1.6502,\n",
       "        1.6553,  1.6826,  1.6946,  1.7068,  1.762 ,  1.7697,  1.8005,\n",
       "        1.8099,  1.8549,  1.8582,  1.8775,  1.883 ,  1.8912,  1.9175,\n",
       "        1.9255,  1.9414,  1.9553,  1.9589,  2.0067,  2.0196,  2.0234,\n",
       "        2.041 ,  2.0448,  2.0525,  2.0901,  2.1421,  2.1505,  2.175 ,\n",
       "        2.1991,  2.2382,  2.3096,  2.3553,  2.4309,  2.4451,  2.4823,\n",
       "        2.4979,  2.529 ,  2.6679,  2.7635,  2.7714,  3.5259])"
      ]
     },
     "execution_count": 126,
     "metadata": {},
     "output_type": "execute_result"
    }
   ],
   "source": [
    "large_arr"
   ]
  },
  {
   "cell_type": "markdown",
   "metadata": {},
   "source": [
    "### Unique and Other Set Logic"
   ]
  },
  {
   "cell_type": "code",
   "execution_count": null,
   "metadata": {},
   "outputs": [],
   "source": [
    "names = np.array(['Bob', 'Joe', 'Will', 'Bob', 'Will', 'Joe', 'Joe'])\n",
    "np.unique(names)\n",
    "ints = np.array([3, 3, 3, 2, 2, 1, 1, 4, 4])\n",
    "np.unique(ints)"
   ]
  },
  {
   "cell_type": "code",
   "execution_count": null,
   "metadata": {},
   "outputs": [],
   "source": [
    "sorted(set(names))"
   ]
  },
  {
   "cell_type": "code",
   "execution_count": null,
   "metadata": {},
   "outputs": [],
   "source": [
    "values = np.array([6, 0, 0, 3, 2, 5, 6])\n",
    "np.in1d(values, [2, 3, 6])"
   ]
  },
  {
   "cell_type": "markdown",
   "metadata": {},
   "source": [
    "## File Input and Output with Arrays"
   ]
  },
  {
   "cell_type": "code",
   "execution_count": 127,
   "metadata": {},
   "outputs": [],
   "source": [
    "arr = np.arange(10)\n",
    "np.save('some_array', arr)"
   ]
  },
  {
   "cell_type": "code",
   "execution_count": 128,
   "metadata": {},
   "outputs": [
    {
     "data": {
      "text/plain": [
       "array([0, 1, 2, 3, 4, 5, 6, 7, 8, 9])"
      ]
     },
     "execution_count": 128,
     "metadata": {},
     "output_type": "execute_result"
    }
   ],
   "source": [
    "np.load('some_array.npy')"
   ]
  },
  {
   "cell_type": "code",
   "execution_count": 129,
   "metadata": {},
   "outputs": [],
   "source": [
    "np.savez('array_archive.npz', a=arr, b=arr)"
   ]
  },
  {
   "cell_type": "code",
   "execution_count": 130,
   "metadata": {},
   "outputs": [
    {
     "data": {
      "text/plain": [
       "<numpy.lib.npyio.NpzFile at 0x7fd5fa99b908>"
      ]
     },
     "execution_count": 130,
     "metadata": {},
     "output_type": "execute_result"
    }
   ],
   "source": [
    "arch = np.load('array_archive.npz')\n",
    "arch"
   ]
  },
  {
   "cell_type": "raw",
   "metadata": {},
   "source": [
    "### arch"
   ]
  },
  {
   "cell_type": "code",
   "execution_count": 132,
   "metadata": {},
   "outputs": [
    {
     "data": {
      "text/plain": [
       "array([0, 1, 2, 3, 4, 5, 6, 7, 8, 9])"
      ]
     },
     "execution_count": 132,
     "metadata": {},
     "output_type": "execute_result"
    }
   ],
   "source": [
    "arch['a']"
   ]
  },
  {
   "cell_type": "code",
   "execution_count": 133,
   "metadata": {},
   "outputs": [],
   "source": [
    "np.savez_compressed('arrays_compressed.npz', a=arr, b=arr)"
   ]
  },
  {
   "cell_type": "code",
   "execution_count": 134,
   "metadata": {},
   "outputs": [],
   "source": [
    "!rm some_array.npy\n",
    "!rm array_archive.npz\n",
    "!rm arrays_compressed.npz"
   ]
  },
  {
   "cell_type": "markdown",
   "metadata": {},
   "source": [
    "## Linear Algebra"
   ]
  },
  {
   "cell_type": "code",
   "execution_count": 135,
   "metadata": {},
   "outputs": [
    {
     "data": {
      "text/plain": [
       "array([[ 28.,  64.],\n",
       "       [ 67., 181.]])"
      ]
     },
     "execution_count": 135,
     "metadata": {},
     "output_type": "execute_result"
    }
   ],
   "source": [
    "x = np.array([[1., 2., 3.], [4., 5., 6.]])\n",
    "y = np.array([[6., 23.], [-1, 7], [8, 9]])\n",
    "x\n",
    "y\n",
    "x.dot(y)"
   ]
  },
  {
   "cell_type": "code",
   "execution_count": 136,
   "metadata": {},
   "outputs": [
    {
     "data": {
      "text/plain": [
       "array([[ 28.,  64.],\n",
       "       [ 67., 181.]])"
      ]
     },
     "execution_count": 136,
     "metadata": {},
     "output_type": "execute_result"
    }
   ],
   "source": [
    "np.dot(x, y)"
   ]
  },
  {
   "cell_type": "code",
   "execution_count": 137,
   "metadata": {},
   "outputs": [
    {
     "data": {
      "text/plain": [
       "array([ 6., 15.])"
      ]
     },
     "execution_count": 137,
     "metadata": {},
     "output_type": "execute_result"
    }
   ],
   "source": [
    "np.dot(x, np.ones(3))"
   ]
  },
  {
   "cell_type": "code",
   "execution_count": 139,
   "metadata": {},
   "outputs": [
    {
     "data": {
      "text/plain": [
       "array([[ 28.,  64.],\n",
       "       [ 67., 181.]])"
      ]
     },
     "execution_count": 139,
     "metadata": {},
     "output_type": "execute_result"
    }
   ],
   "source": [
    "x @ y"
   ]
  },
  {
   "cell_type": "code",
   "execution_count": 152,
   "metadata": {},
   "outputs": [
    {
     "data": {
      "text/plain": [
       "array([[ 3.5626, -0.7409, -3.4943, -1.7938, -1.1952],\n",
       "       [-0.7409,  2.3011, -0.8367, -3.3008, -0.3948],\n",
       "       [-3.4943, -0.8367,  6.4524,  4.5141,  4.1361],\n",
       "       [-1.7938, -3.3008,  4.5141,  7.6844,  1.0281],\n",
       "       [-1.1952, -0.3948,  4.1361,  1.0281,  7.3785]])"
      ]
     },
     "execution_count": 152,
     "metadata": {},
     "output_type": "execute_result"
    }
   ],
   "source": [
    "from numpy.linalg import inv, qr\n",
    "X = np.random.randn(5, 5)\n",
    "mat = X.T.dot(X)\n",
    "mat"
   ]
  },
  {
   "cell_type": "code",
   "execution_count": 153,
   "metadata": {},
   "outputs": [
    {
     "data": {
      "text/plain": [
       "array([[ 2.337 ,  3.4781,  0.414 ,  1.7851,  0.0839],\n",
       "       [ 3.4781,  8.2812, -0.9971,  4.8355,  0.8917],\n",
       "       [ 0.414 , -0.9971,  1.3929, -1.0671, -0.6184],\n",
       "       [ 1.7851,  4.8355, -1.0671,  3.1562,  0.7063],\n",
       "       [ 0.0839,  0.8917, -0.6184,  0.7063,  0.4451]])"
      ]
     },
     "execution_count": 153,
     "metadata": {},
     "output_type": "execute_result"
    }
   ],
   "source": [
    "inv(mat)"
   ]
  },
  {
   "cell_type": "code",
   "execution_count": 154,
   "metadata": {},
   "outputs": [
    {
     "data": {
      "text/plain": [
       "array([[ 1., -0.,  0.,  0.,  0.],\n",
       "       [ 0.,  1., -0.,  0.,  0.],\n",
       "       [-0., -0.,  1., -0.,  0.],\n",
       "       [ 0., -0., -0.,  1.,  0.],\n",
       "       [ 0., -0., -0., -0.,  1.]])"
      ]
     },
     "execution_count": 154,
     "metadata": {},
     "output_type": "execute_result"
    }
   ],
   "source": [
    "\n",
    "mat.dot(inv(mat))\n"
   ]
  },
  {
   "cell_type": "code",
   "execution_count": 155,
   "metadata": {},
   "outputs": [
    {
     "data": {
      "text/plain": [
       "(array([[-0.6494,  0.3246, -0.4111, -0.5479,  0.0611],\n",
       "        [ 0.1351, -0.5917,  0.0245, -0.4565,  0.6501],\n",
       "        [ 0.6369,  0.0633, -0.2886, -0.5511, -0.4508],\n",
       "        [ 0.327 ,  0.7336,  0.2803, -0.1058,  0.5149],\n",
       "        [ 0.2179,  0.0482, -0.8176,  0.4201,  0.3245]]),\n",
       " array([[-5.4861, -0.9063,  8.6429,  6.3309,  5.3009],\n",
       "        [ 0.    , -4.0955,  3.2803,  7.3436,  1.2175],\n",
       "        [ 0.    ,  0.    , -2.5625,  0.6673, -6.4565],\n",
       "        [ 0.    ,  0.    ,  0.    , -0.3796,  1.5463],\n",
       "        [ 0.    ,  0.    ,  0.    ,  0.    ,  0.729 ]]))"
      ]
     },
     "execution_count": 155,
     "metadata": {},
     "output_type": "execute_result"
    }
   ],
   "source": [
    "q, r = qr(mat)\n",
    "q, r"
   ]
  },
  {
   "cell_type": "code",
   "execution_count": 156,
   "metadata": {},
   "outputs": [
    {
     "data": {
      "text/plain": [
       "array([[ 3.5626, -0.7409, -3.4943, -1.7938, -1.1952],\n",
       "       [-0.7409,  2.3011, -0.8367, -3.3008, -0.3948],\n",
       "       [-3.4943, -0.8367,  6.4524,  4.5141,  4.1361],\n",
       "       [-1.7938, -3.3008,  4.5141,  7.6844,  1.0281],\n",
       "       [-1.1952, -0.3948,  4.1361,  1.0281,  7.3785]])"
      ]
     },
     "execution_count": 156,
     "metadata": {},
     "output_type": "execute_result"
    }
   ],
   "source": [
    "q @ r"
   ]
  },
  {
   "cell_type": "markdown",
   "metadata": {},
   "source": [
    "## Pseudorandom Number Generation"
   ]
  },
  {
   "cell_type": "code",
   "execution_count": 157,
   "metadata": {},
   "outputs": [
    {
     "data": {
      "text/plain": [
       "array([[-0.9647, -0.2773,  1.4484,  0.8416],\n",
       "       [-2.9018, -1.1026, -0.3088,  0.1714],\n",
       "       [ 0.396 ,  0.0094,  0.231 ,  0.7464],\n",
       "       [-0.995 , -0.8206,  1.7723,  0.4611]])"
      ]
     },
     "execution_count": 157,
     "metadata": {},
     "output_type": "execute_result"
    }
   ],
   "source": [
    "samples = np.random.normal(size=(4, 4))\n",
    "samples"
   ]
  },
  {
   "cell_type": "code",
   "execution_count": 158,
   "metadata": {},
   "outputs": [
    {
     "name": "stdout",
     "output_type": "stream",
     "text": [
      "627 ms ± 8.7 ms per loop (mean ± std. dev. of 7 runs, 1 loop each)\n",
      "40.8 ms ± 149 µs per loop (mean ± std. dev. of 7 runs, 10 loops each)\n"
     ]
    }
   ],
   "source": [
    "from random import normalvariate\n",
    "N = 1000000\n",
    "%timeit samples = [normalvariate(0, 1) for _ in range(N)]\n",
    "%timeit np.random.normal(size=N)"
   ]
  },
  {
   "cell_type": "code",
   "execution_count": 159,
   "metadata": {},
   "outputs": [],
   "source": [
    "np.random.seed(1234)"
   ]
  },
  {
   "cell_type": "code",
   "execution_count": 160,
   "metadata": {},
   "outputs": [
    {
     "data": {
      "text/plain": [
       "array([ 0.4714, -1.191 ,  1.4327, -0.3127, -0.7206,  0.8872,  0.8596,\n",
       "       -0.6365,  0.0157, -2.2427])"
      ]
     },
     "execution_count": 160,
     "metadata": {},
     "output_type": "execute_result"
    }
   ],
   "source": [
    "rng = np.random.RandomState(1234)\n",
    "rng.randn(10)"
   ]
  },
  {
   "cell_type": "markdown",
   "metadata": {},
   "source": [
    "## Example: Random Walks"
   ]
  },
  {
   "cell_type": "code",
   "execution_count": 161,
   "metadata": {},
   "outputs": [],
   "source": [
    "import random\n",
    "position = 0\n",
    "walk = [position]\n",
    "steps = 1000\n",
    "for i in range(steps):\n",
    "    step = 1 if random.randint(0, 1) else -1\n",
    "    position += step\n",
    "    walk.append(position)"
   ]
  },
  {
   "cell_type": "code",
   "execution_count": 162,
   "metadata": {},
   "outputs": [
    {
     "data": {
      "text/plain": [
       "<Figure size 720x432 with 0 Axes>"
      ]
     },
     "execution_count": 162,
     "metadata": {},
     "output_type": "execute_result"
    },
    {
     "data": {
      "text/plain": [
       "<Figure size 720x432 with 0 Axes>"
      ]
     },
     "metadata": {},
     "output_type": "display_data"
    }
   ],
   "source": [
    "plt.figure()"
   ]
  },
  {
   "cell_type": "code",
   "execution_count": 163,
   "metadata": {},
   "outputs": [
    {
     "data": {
      "text/plain": [
       "[<matplotlib.lines.Line2D at 0x7fd5f8ee4668>]"
      ]
     },
     "execution_count": 163,
     "metadata": {},
     "output_type": "execute_result"
    },
    {
     "data": {
      "image/png": "[encoded data removed]",
      "text/plain": [
       "<Figure size 720x432 with 1 Axes>"
      ]
     },
     "metadata": {},
     "output_type": "display_data"
    }
   ],
   "source": [
    "plt.plot(walk[:100])"
   ]
  },
  {
   "cell_type": "code",
   "execution_count": 171,
   "metadata": {},
   "outputs": [],
   "source": [
    "np.random.seed(12345)"
   ]
  },
  {
   "cell_type": "code",
   "execution_count": 172,
   "metadata": {},
   "outputs": [
    {
     "data": {
      "text/plain": [
       "array([0, 1, 1, 1, 0, 1, 0, 0, 1, 0, 1, 1, 0, 1, 1, 0, 1, 1, 1, 0, 0, 0,\n",
       "       1, 1, 1, 0, 1, 0, 0, 1, 1, 1, 1, 1, 0, 1, 1, 1, 1, 1, 1, 0, 0, 1,\n",
       "       1, 0, 0, 1, 1, 1, 1, 0, 1, 1, 1, 1, 0, 1, 1, 0, 1, 0, 0, 1, 1, 1,\n",
       "       0, 0, 1, 0, 1, 0, 0, 0, 1, 1, 0, 0, 0, 0, 0, 0, 1, 0, 0, 0, 1, 0,\n",
       "       0, 1, 1, 1, 1, 1, 1, 0, 0, 0, 1, 0, 0, 1, 0, 1, 0, 1, 0, 0, 0, 1,\n",
       "       1, 0, 0, 1, 0, 1, 0, 0, 1, 1, 0, 1, 1, 0, 0, 1, 0, 0, 1, 1, 1, 1,\n",
       "       0, 0, 0, 1, 0, 1, 0, 0, 1, 1, 0, 1, 0, 1, 0, 1, 1, 1, 0, 1, 0, 0,\n",
       "       0, 1, 1, 0, 0, 0, 0, 0, 0, 1, 1, 1, 0, 0, 1, 0, 1, 0, 1, 0, 0, 1,\n",
       "       1, 0, 1, 1, 0, 1, 1, 0, 0, 1, 0, 0, 1, 1, 1, 1, 0, 1, 1, 0, 1, 1,\n",
       "       1, 0, 0, 0, 0, 0, 1, 1, 1, 0, 0, 1, 0, 1, 0, 1, 0, 0, 0, 0, 1, 0,\n",
       "       0, 1, 1, 1, 0, 0, 0, 1, 1, 0, 1, 1, 0, 1, 0, 0, 0, 0, 0, 1, 0, 0,\n",
       "       1, 1, 1, 1, 1, 0, 0, 0, 1, 0, 0, 0, 1, 1, 1, 1, 0, 1, 0, 1, 1, 0,\n",
       "       1, 1, 0, 0, 1, 0, 1, 1, 1, 0, 1, 0, 1, 0, 0, 0, 0, 0, 0, 0, 0, 0,\n",
       "       1, 0, 0, 0, 1, 0, 0, 1, 1, 1, 1, 1, 1, 1, 1, 1, 1, 0, 0, 1, 0, 0,\n",
       "       0, 0, 0, 1, 1, 1, 0, 1, 1, 0, 1, 0, 1, 0, 0, 0, 0, 1, 1, 1, 1, 1,\n",
       "       0, 0, 1, 1, 0, 1, 1, 0, 0, 1, 0, 0, 1, 0, 0, 1, 1, 1, 0, 0, 1, 1,\n",
       "       1, 0, 1, 1, 0, 0, 0, 0, 1, 1, 1, 0, 0, 1, 1, 0, 1, 1, 1, 1, 1, 0,\n",
       "       1, 0, 1, 0, 0, 1, 1, 1, 0, 0, 1, 0, 1, 0, 1, 1, 1, 1, 0, 0, 0, 1,\n",
       "       0, 0, 0, 0, 1, 0, 0, 1, 0, 0, 1, 1, 1, 0, 1, 0, 1, 1, 1, 1, 1, 1,\n",
       "       1, 0, 0, 0, 1, 1, 1, 0, 1, 1, 1, 0, 0, 1, 0, 1, 1, 1, 1, 0, 1, 0,\n",
       "       0, 0, 0, 0, 0, 0, 1, 0, 1, 1, 0, 1, 0, 1, 1, 0, 0, 0, 0, 0, 1, 0,\n",
       "       1, 1, 0, 1, 0, 0, 1, 1, 0, 1, 1, 0, 1, 1, 0, 1, 0, 1, 1, 0, 1, 0,\n",
       "       0, 0, 0, 0, 0, 0, 0, 1, 0, 0, 0, 0, 1, 0, 0, 1, 0, 0, 1, 1, 1, 1,\n",
       "       0, 0, 0, 0, 0, 1, 0, 1, 1, 1, 0, 1, 0, 1, 1, 0, 0, 1, 0, 1, 1, 0,\n",
       "       1, 0, 0, 0, 1, 0, 0, 1, 1, 0, 0, 1, 0, 1, 0, 0, 1, 1, 0, 1, 0, 1,\n",
       "       1, 0, 0, 1, 1, 1, 1, 0, 0, 0, 1, 0, 0, 1, 0, 1, 1, 0, 0, 1, 1, 1,\n",
       "       0, 0, 1, 1, 1, 1, 1, 0, 0, 0, 0, 0, 0, 1, 1, 0, 0, 1, 1, 1, 1, 1,\n",
       "       1, 0, 1, 1, 0, 1, 0, 1, 1, 0, 1, 0, 0, 0, 0, 1, 0, 0, 0, 1, 0, 1,\n",
       "       1, 1, 0, 1, 1, 1, 1, 0, 1, 0, 1, 1, 0, 1, 1, 1, 1, 1, 0, 0, 0, 1,\n",
       "       0, 1, 1, 0, 1, 1, 0, 1, 0, 0, 1, 0, 1, 1, 1, 0, 0, 0, 0, 0, 0, 1,\n",
       "       0, 0, 0, 0, 1, 1, 0, 1, 1, 0, 1, 1, 0, 1, 1, 0, 1, 0, 1, 0, 1, 0,\n",
       "       0, 1, 1, 1, 1, 0, 1, 0, 1, 1, 1, 0, 0, 0, 1, 0, 0, 0, 1, 0, 0, 0,\n",
       "       0, 0, 1, 0, 0, 0, 1, 0, 1, 1, 0, 0, 1, 0, 1, 0, 0, 1, 0, 1, 0, 1,\n",
       "       1, 1, 1, 1, 1, 0, 0, 1, 1, 1, 1, 0, 0, 0, 0, 0, 1, 1, 0, 1, 0, 1,\n",
       "       0, 0, 0, 1, 0, 1, 1, 1, 0, 1, 1, 1, 0, 0, 1, 0, 1, 1, 0, 1, 0, 0,\n",
       "       1, 0, 0, 1, 1, 0, 1, 0, 1, 0, 1, 0, 1, 1, 1, 0, 1, 1, 0, 1, 1, 1,\n",
       "       1, 0, 0, 1, 1, 1, 0, 0, 1, 1, 1, 0, 0, 0, 0, 1, 0, 1, 0, 1, 0, 1,\n",
       "       0, 1, 1, 1, 1, 0, 1, 1, 0, 0, 1, 1, 0, 1, 0, 1, 1, 1, 0, 0, 1, 1,\n",
       "       0, 0, 0, 1, 0, 1, 1, 1, 0, 0, 0, 0, 0, 1, 1, 1, 1, 1, 1, 1, 0, 0,\n",
       "       1, 1, 0, 1, 0, 1, 0, 0, 1, 1, 1, 0, 1, 0, 1, 0, 0, 1, 1, 1, 0, 1,\n",
       "       0, 1, 1, 0, 1, 1, 1, 1, 1, 0, 1, 0, 0, 0, 0, 1, 1, 0, 1, 1, 0, 0,\n",
       "       1, 0, 1, 1, 0, 1, 1, 1, 1, 0, 1, 0, 0, 1, 0, 0, 1, 0, 1, 1, 0, 0,\n",
       "       0, 0, 0, 0, 0, 0, 1, 0, 1, 0, 0, 0, 0, 0, 0, 1, 0, 1, 1, 0, 1, 0,\n",
       "       0, 0, 1, 0, 1, 1, 0, 1, 0, 0, 0, 0, 0, 1, 1, 1, 1, 0, 1, 1, 0, 0,\n",
       "       0, 0, 0, 1, 0, 1, 0, 1, 1, 0, 0, 1, 0, 1, 1, 1, 0, 1, 0, 1, 0, 0,\n",
       "       1, 0, 0, 1, 0, 0, 1, 0, 1, 1])"
      ]
     },
     "execution_count": 172,
     "metadata": {},
     "output_type": "execute_result"
    }
   ],
   "source": [
    "nsteps = 1000\n",
    "draws = np.random.randint(0, 2, size=nsteps)\n",
    "draws"
   ]
  },
  {
   "cell_type": "code",
   "execution_count": 177,
   "metadata": {},
   "outputs": [
    {
     "data": {
      "text/plain": [
       "array([-1,  0,  1,  2,  1,  2,  1,  0,  1,  0,  1,  2,  1,  2,  3,  2,  3,\n",
       "        4,  5,  4,  3,  2,  3,  4,  5,  4,  5,  4,  3,  4,  5,  6,  7,  8,\n",
       "        7,  8,  9, 10, 11, 12, 13, 12, 11, 12, 13, 12, 11, 12, 13, 14, 15,\n",
       "       14, 15, 16, 17, 18, 17, 18, 19, 18, 19, 18, 17, 18, 19, 20, 19, 18,\n",
       "       19, 18, 19, 18, 17, 16, 17, 18, 17, 16, 15, 14, 13, 12, 13, 12, 11,\n",
       "       10, 11, 10,  9, 10, 11, 12, 13, 14, 15, 14, 13, 12, 13, 12, 11, 12,\n",
       "       11, 12, 11, 12, 11, 10,  9, 10, 11, 10,  9, 10,  9, 10,  9,  8,  9,\n",
       "       10,  9, 10, 11, 10,  9, 10,  9,  8,  9, 10, 11, 12, 11, 10,  9, 10,\n",
       "        9, 10,  9,  8,  9, 10,  9, 10,  9, 10,  9, 10, 11, 12, 11, 12, 11,\n",
       "       10,  9, 10, 11, 10,  9,  8,  7,  6,  5,  6,  7,  8,  7,  6,  7,  6,\n",
       "        7,  6,  7,  6,  5,  6,  7,  6,  7,  8,  7,  8,  9,  8,  7,  8,  7,\n",
       "        6,  7,  8,  9, 10,  9, 10, 11, 10, 11, 12, 13, 12, 11, 10,  9,  8,\n",
       "        9, 10, 11, 10,  9, 10,  9, 10,  9, 10,  9,  8,  7,  6,  7,  6,  5,\n",
       "        6,  7,  8,  7,  6,  5,  6,  7,  6,  7,  8,  7,  8,  7,  6,  5,  4,\n",
       "        3,  4,  3,  2,  3,  4,  5,  6,  7,  6,  5,  4,  5,  4,  3,  2,  3,\n",
       "        4,  5,  6,  5,  6,  5,  6,  7,  6,  7,  8,  7,  6,  7,  6,  7,  8,\n",
       "        9,  8,  9,  8,  9,  8,  7,  6,  5,  4,  3,  2,  1,  0,  1,  0, -1,\n",
       "       -2, -1, -2, -3, -2, -1,  0,  1,  2,  3,  4,  5,  6,  7,  6,  5,  6,\n",
       "        5,  4,  3,  2,  1,  2,  3,  4,  3,  4,  5,  4,  5,  4,  5,  4,  3,\n",
       "        2,  1,  2,  3,  4,  5,  6,  5,  4,  5,  6,  5,  6,  7,  6,  5,  6,\n",
       "        5,  4,  5,  4,  3,  4,  5,  6,  5,  4,  5,  6,  7,  6,  7,  8,  7,\n",
       "        6,  5,  4,  5,  6,  7,  6,  5,  6,  7,  6,  7,  8,  9, 10, 11, 10,\n",
       "       11, 10, 11, 10,  9, 10, 11, 12, 11, 10, 11, 10, 11, 10, 11, 12, 13,\n",
       "       14, 13, 12, 11, 12, 11, 10,  9,  8,  9,  8,  7,  8,  7,  6,  7,  8,\n",
       "        9,  8,  9,  8,  9, 10, 11, 12, 13, 14, 15, 14, 13, 12, 13, 14, 15,\n",
       "       14, 15, 16, 17, 16, 15, 16, 15, 16, 17, 18, 19, 18, 19, 18, 17, 16,\n",
       "       15, 14, 13, 12, 13, 12, 13, 14, 13, 14, 13, 14, 15, 14, 13, 12, 11,\n",
       "       10, 11, 10, 11, 12, 11, 12, 11, 10, 11, 12, 11, 12, 13, 12, 13, 14,\n",
       "       13, 14, 13, 14, 15, 14, 15, 14, 13, 12, 11, 10,  9,  8,  7,  8,  7,\n",
       "        6,  5,  4,  5,  4,  3,  4,  3,  2,  3,  4,  5,  6,  5,  4,  3,  2,\n",
       "        1,  2,  1,  2,  3,  4,  3,  4,  3,  4,  5,  4,  3,  4,  3,  4,  5,\n",
       "        4,  5,  4,  3,  2,  3,  2,  1,  2,  3,  2,  1,  2,  1,  2,  1,  0,\n",
       "        1,  2,  1,  2,  1,  2,  3,  2,  1,  2,  3,  4,  5,  4,  3,  2,  3,\n",
       "        2,  1,  2,  1,  2,  3,  2,  1,  2,  3,  4,  3,  2,  3,  4,  5,  6,\n",
       "        7,  6,  5,  4,  3,  2,  1,  2,  3,  2,  1,  2,  3,  4,  5,  6,  7,\n",
       "        6,  7,  8,  7,  8,  7,  8,  9,  8,  9,  8,  7,  6,  5,  6,  5,  4,\n",
       "        3,  4,  3,  4,  5,  6,  5,  6,  7,  8,  9,  8,  9,  8,  9, 10,  9,\n",
       "       10, 11, 12, 13, 14, 13, 12, 11, 12, 11, 12, 13, 12, 13, 14, 13, 14,\n",
       "       13, 12, 13, 12, 13, 14, 15, 14, 13, 12, 11, 10,  9, 10,  9,  8,  7,\n",
       "        6,  7,  8,  7,  8,  9,  8,  9, 10,  9, 10, 11, 10, 11, 10, 11, 10,\n",
       "       11, 10,  9, 10, 11, 12, 13, 12, 13, 12, 13, 14, 15, 14, 13, 12, 13,\n",
       "       12, 11, 10, 11, 10,  9,  8,  7,  6,  7,  6,  5,  4,  5,  4,  5,  6,\n",
       "        5,  4,  5,  4,  5,  4,  3,  4,  3,  4,  3,  4,  5,  6,  7,  8,  9,\n",
       "        8,  7,  8,  9, 10, 11, 10,  9,  8,  7,  6,  7,  8,  7,  8,  7,  8,\n",
       "        7,  6,  5,  6,  5,  6,  7,  8,  7,  8,  9, 10,  9,  8,  9,  8,  9,\n",
       "       10,  9, 10,  9,  8,  9,  8,  7,  8,  9,  8,  9,  8,  9,  8,  9,  8,\n",
       "        9, 10, 11, 10, 11, 12, 11, 12, 13, 14, 15, 14, 13, 14, 15, 16, 15,\n",
       "       14, 15, 16, 17, 16, 15, 14, 13, 14, 13, 14, 13, 14, 13, 14, 13, 14,\n",
       "       15, 16, 17, 16, 17, 18, 17, 16, 17, 18, 17, 18, 17, 18, 19, 20, 19,\n",
       "       18, 19, 20, 19, 18, 17, 18, 17, 18, 19, 20, 19, 18, 17, 16, 15, 16,\n",
       "       17, 18, 19, 20, 21, 22, 21, 20, 21, 22, 21, 22, 21, 22, 21, 20, 21,\n",
       "       22, 23, 22, 23, 22, 23, 22, 21, 22, 23, 24, 23, 24, 23, 24, 25, 24,\n",
       "       25, 26, 27, 28, 29, 28, 29, 28, 27, 26, 25, 26, 27, 26, 27, 28, 27,\n",
       "       26, 27, 26, 27, 28, 27, 28, 29, 30, 31, 30, 31, 30, 29, 30, 29, 28,\n",
       "       29, 28, 29, 30, 29, 28, 27, 26, 25, 24, 23, 22, 23, 22, 23, 22, 21,\n",
       "       20, 19, 18, 17, 18, 17, 18, 19, 18, 19, 18, 17, 16, 17, 16, 17, 18,\n",
       "       17, 18, 17, 16, 15, 14, 13, 14, 15, 16, 17, 16, 17, 18, 17, 16, 15,\n",
       "       14, 13, 14, 13, 14, 13, 14, 15, 14, 13, 14, 13, 14, 15, 16, 15, 16,\n",
       "       15, 16, 15, 14, 15, 14, 13, 14, 13, 12, 13, 12, 13, 14])"
      ]
     },
     "execution_count": 177,
     "metadata": {},
     "output_type": "execute_result"
    }
   ],
   "source": [
    "steps = np.where(draws > 0, 1, -1)\n",
    "walk = steps.cumsum()\n",
    "walk"
   ]
  },
  {
   "cell_type": "code",
   "execution_count": 178,
   "metadata": {},
   "outputs": [
    {
     "data": {
      "text/plain": [
       "31"
      ]
     },
     "execution_count": 178,
     "metadata": {},
     "output_type": "execute_result"
    }
   ],
   "source": [
    "walk.min()\n",
    "walk.max()"
   ]
  },
  {
   "cell_type": "code",
   "execution_count": 179,
   "metadata": {},
   "outputs": [
    {
     "data": {
      "text/plain": [
       "37"
      ]
     },
     "execution_count": 179,
     "metadata": {},
     "output_type": "execute_result"
    }
   ],
   "source": [
    "(np.abs(walk) >= 10).argmax()"
   ]
  },
  {
   "cell_type": "markdown",
   "metadata": {},
   "source": [
    "### Simulating Many Random Walks at Once"
   ]
  },
  {
   "cell_type": "code",
   "execution_count": 180,
   "metadata": {},
   "outputs": [
    {
     "data": {
      "text/plain": [
       "array([[  1,   0,   1, ...,   8,   7,   8],\n",
       "       [  1,   0,  -1, ...,  34,  33,  32],\n",
       "       [  1,   0,  -1, ...,   4,   5,   4],\n",
       "       ...,\n",
       "       [  1,   2,   1, ...,  24,  25,  26],\n",
       "       [  1,   2,   3, ...,  14,  13,  14],\n",
       "       [ -1,  -2,  -3, ..., -24, -23, -22]])"
      ]
     },
     "execution_count": 180,
     "metadata": {},
     "output_type": "execute_result"
    }
   ],
   "source": [
    "nwalks = 5000\n",
    "nsteps = 1000\n",
    "draws = np.random.randint(0, 2, size=(nwalks, nsteps)) # 0 or 1\n",
    "steps = np.where(draws > 0, 1, -1)\n",
    "walks = steps.cumsum(1)\n",
    "walks"
   ]
  },
  {
   "cell_type": "code",
   "execution_count": 181,
   "metadata": {},
   "outputs": [
    {
     "data": {
      "text/plain": [
       "-133"
      ]
     },
     "execution_count": 181,
     "metadata": {},
     "output_type": "execute_result"
    }
   ],
   "source": [
    "walks.max()\n",
    "walks.min()"
   ]
  },
  {
   "cell_type": "code",
   "execution_count": 182,
   "metadata": {},
   "outputs": [
    {
     "data": {
      "text/plain": [
       "3410"
      ]
     },
     "execution_count": 182,
     "metadata": {},
     "output_type": "execute_result"
    }
   ],
   "source": [
    "hits30 = (np.abs(walks) >= 30).any(1)\n",
    "hits30\n",
    "hits30.sum() # Number that hit 30 or -30"
   ]
  },
  {
   "cell_type": "code",
   "execution_count": 183,
   "metadata": {},
   "outputs": [
    {
     "data": {
      "text/plain": [
       "498.8897360703812"
      ]
     },
     "execution_count": 183,
     "metadata": {},
     "output_type": "execute_result"
    }
   ],
   "source": [
    "crossing_times = (np.abs(walks[hits30]) >= 30).argmax(1)\n",
    "crossing_times.mean()"
   ]
  },
  {
   "cell_type": "code",
   "execution_count": 185,
   "metadata": {},
   "outputs": [],
   "source": [
    "steps = np.random.normal(loc=0, scale=0.25,\n",
    "                         size=(nwalks, nsteps))"
   ]
  },
  {
   "cell_type": "markdown",
   "metadata": {},
   "source": [
    "## Conclusion"
   ]
  },
  {
   "cell_type": "code",
   "execution_count": 186,
   "metadata": {},
   "outputs": [
    {
     "data": {
      "text/plain": [
       "array([[-0.3268,  0.1249,  0.2698, ...,  0.2671,  0.3036,  0.0779],\n",
       "       [ 0.2366,  0.0655,  0.1936, ..., -0.251 , -0.0439,  0.0255],\n",
       "       [ 0.0384, -0.1557, -0.6306, ...,  0.1593, -0.0233, -0.0209],\n",
       "       ...,\n",
       "       [ 0.1408, -0.2996, -0.2905, ..., -0.2326,  0.2259,  0.4995],\n",
       "       [ 0.0357,  0.3178,  0.0168, ...,  0.2528, -0.0408,  0.128 ],\n",
       "       [-0.0295,  0.3166,  0.1969, ...,  0.3855,  0.2227,  0.2535]])"
      ]
     },
     "execution_count": 186,
     "metadata": {},
     "output_type": "execute_result"
    }
   ],
   "source": [
    "steps"
   ]
  }
 ],
 "metadata": {
  "kernelspec": {
   "display_name": "Python 3",
   "language": "python",
   "name": "python3"
  },
  "language_info": {
   "codemirror_mode": {
    "name": "ipython",
    "version": 3
   },
   "file_extension": ".py",
   "mimetype": "text/x-python",
   "name": "python",
   "nbconvert_exporter": "python",
   "pygments_lexer": "ipython3",
   "version": "3.6.5"
  }
 },
 "nbformat": 4,
 "nbformat_minor": 1
}
