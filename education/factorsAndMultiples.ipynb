{
 "nbformat": 4,
 "nbformat_minor": 2,
 "metadata": {
  "language_info": {
   "name": "python",
   "codemirror_mode": {
    "name": "ipython",
    "version": 3
   },
   "version": "3.7.4-final"
  },
  "orig_nbformat": 2,
  "file_extension": ".py",
  "mimetype": "text/x-python",
  "name": "python",
  "npconvert_exporter": "python",
  "pygments_lexer": "ipython3",
  "version": 3,
  "kernelspec": {
   "name": "python3",
   "display_name": "Python 3"
  }
 },
 "cells": [
  {
   "cell_type": "code",
   "execution_count": 1,
   "metadata": {},
   "outputs": [],
   "source": [
    "def primeNumber(num):\n",
    "    pn = []\n",
    "    curP = 2\n",
    "    while curP<num :\n",
    "        i = 0\n",
    "        flag = True\n",
    "        while i < len(pn) and pn[i]*pn[i] <= curP:\n",
    "            if curP % pn[i] == 0 :\n",
    "                flag = False\n",
    "                break\n",
    "            i = i+1\n",
    "        if flag :\n",
    "            pn.append(curP)\n",
    "        curP = curP+1\n",
    "    return pn"
   ]
  },
  {
   "cell_type": "code",
   "execution_count": 2,
   "metadata": {},
   "outputs": [
    {
     "output_type": "stream",
     "name": "stdout",
     "text": "[2, 3, 5, 7, 11, 13, 17, 19, 23, 29, 31, 37, 41, 43, 47, 53, 59, 61, 67, 71, 73, 79, 83, 89, 97] 25\n"
    }
   ],
   "source": [
    "pn100 = primeNumber(100)\n",
    "print(pn100, len(pn100))"
   ]
  },
  {
   "cell_type": "code",
   "execution_count": 3,
   "metadata": {},
   "outputs": [],
   "source": [
    "def primeDivisor(num):\n",
    "    dn = []\n",
    "    curP = 2\n",
    "    while curP<=num :\n",
    "        if num % curP == 0:\n",
    "            dn.append(curP)\n",
    "            num = num / curP\n",
    "        else:\n",
    "            curP = curP + 1\n",
    "    return dn"
   ]
  },
  {
   "cell_type": "code",
   "execution_count": 4,
   "metadata": {},
   "outputs": [
    {
     "output_type": "stream",
     "name": "stdout",
     "text": "[2, 2, 3, 5, 7]\n"
    }
   ],
   "source": [
    "print (primeDivisor(420))"
   ]
  },
  {
   "cell_type": "code",
   "execution_count": 5,
   "metadata": {},
   "outputs": [],
   "source": [
    "def greatestCommonDivisor(num1, num2):\n",
    "    i, j = 0, 0\n",
    "    pd1, pd2= primeDivisor(num1), primeDivisor(num2)\n",
    "    gcd = 1\n",
    "    while i<len(pd1) and j<len(pd2):\n",
    "        if pd1[i] == pd2[j]:\n",
    "            gcd = gcd * pd1[i]\n",
    "            i = i+1\n",
    "            j = j+1\n",
    "        elif pd1[i] < pd2[j]:\n",
    "            i = i+1\n",
    "        else :\n",
    "            j = j+1\n",
    "    return gcd"
   ]
  },
  {
   "cell_type": "code",
   "execution_count": 6,
   "metadata": {},
   "outputs": [
    {
     "output_type": "stream",
     "name": "stdout",
     "text": "[2, 2, 3, 5]\n[2, 3, 5, 5]\n30\n"
    }
   ],
   "source": [
    "print (primeDivisor(60))\n",
    "print (primeDivisor(150))\n",
    "print (greatestCommonDivisor(60,150))"
   ]
  },
  {
   "cell_type": "code",
   "execution_count": 7,
   "metadata": {},
   "outputs": [],
   "source": [
    "def leastCommonMultiple(num1, num2):\n",
    "    i, j = 0, 0\n",
    "    pd1, pd2= primeDivisor(num1), primeDivisor(num2)\n",
    "    lcm = 1\n",
    "    while i<len(pd1) and j<len(pd2):\n",
    "        if pd1[i] == pd2[j]:\n",
    "            lcm = lcm * pd1[i]\n",
    "            i = i+1\n",
    "            j = j+1\n",
    "        elif pd1[i] < pd2[j]:\n",
    "            lcm = lcm * pd1[i]\n",
    "            i = i+1\n",
    "        else :\n",
    "            lcm = lcm * pd2[j]\n",
    "            j = j+1\n",
    "    while i<len(pd1):\n",
    "        lcm = lcm * pd1[i]\n",
    "        i = i+1\n",
    "    while j<len(pd2) :\n",
    "        lcm = lcm * pd2[j]\n",
    "        j = j+1\n",
    "    return lcm"
   ]
  },
  {
   "cell_type": "code",
   "execution_count": 8,
   "metadata": {},
   "outputs": [
    {
     "output_type": "stream",
     "name": "stdout",
     "text": "300\n"
    }
   ],
   "source": [
    "print (leastCommonMultiple(60,150))"
   ]
  },
  {
   "cell_type": "code",
   "execution_count": 9,
   "metadata": {},
   "outputs": [],
   "source": [
    "def greatestCommonDivisor2(num1, num2):\n",
    "    if num1 < num2:\n",
    "        num1, num2 = num2, num1\n",
    "    while True:\n",
    "        if num1 % num2 == 0 :\n",
    "            return num2\n",
    "        num1, num2 = num2, num1 % num2\n",
    ""
   ]
  },
  {
   "cell_type": "code",
   "execution_count": 10,
   "metadata": {},
   "outputs": [
    {
     "output_type": "stream",
     "name": "stdout",
     "text": "30\n"
    }
   ],
   "source": [
    "print (greatestCommonDivisor2(60, 150))"
   ]
  },
  {
   "cell_type": "code",
   "execution_count": 11,
   "metadata": {},
   "outputs": [],
   "source": [
    "def leastCommonMultiple2(num1, num2):\n",
    "    return num1 // greatestCommonDivisor2(num1, num2) * num2"
   ]
  },
  {
   "cell_type": "code",
   "execution_count": 12,
   "metadata": {},
   "outputs": [
    {
     "output_type": "stream",
     "name": "stdout",
     "text": "300\n"
    }
   ],
   "source": [
    "print (leastCommonMultiple2(60,150))"
   ]
  },
  {
   "cell_type": "code",
   "execution_count": null,
   "metadata": {},
   "outputs": [],
   "source": []
  }
 ]
}