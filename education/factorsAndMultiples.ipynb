{
 "nbformat": 4,
 "nbformat_minor": 2,
 "metadata": {
  "language_info": {
   "name": "python",
   "codemirror_mode": {
    "name": "ipython",
    "version": 3
   },
   "version": "3.8.2"
  },
  "orig_nbformat": 2,
  "file_extension": ".py",
  "mimetype": "text/x-python",
  "name": "python",
  "npconvert_exporter": "python",
  "pygments_lexer": "ipython3",
  "version": 3,
  "kernelspec": {
   "name": "python382jvsc74a57bd031f2aee4e71d21fbe5cf8b01ff0e069b9275f58929596ceb00d14d90e3e16cd6",
   "display_name": "Python 3.8.2 64-bit"
  },
  "metadata": {
   "interpreter": {
    "hash": "31f2aee4e71d21fbe5cf8b01ff0e069b9275f58929596ceb00d14d90e3e16cd6"
   }
  }
 },
 "cells": [
  {
   "cell_type": "code",
   "execution_count": 19,
   "source": [
    "def primeNumber(num):\r\n",
    "    pn = []\r\n",
    "    curP = 2\r\n",
    "    while curP<num :\r\n",
    "        i = 0\r\n",
    "        flag = True\r\n",
    "        while i < len(pn) and pn[i]*pn[i] <= curP:\r\n",
    "            if curP % pn[i] == 0 :\r\n",
    "                flag = False\r\n",
    "                break\r\n",
    "            i = i+1\r\n",
    "        if flag :\r\n",
    "            pn.append(curP)\r\n",
    "        curP = curP+1\r\n",
    "    return pn"
   ],
   "outputs": [],
   "metadata": {}
  },
  {
   "cell_type": "code",
   "execution_count": 20,
   "source": [
    "pn100 = primeNumber(200)\r\n",
    "print(pn100, len(pn100))"
   ],
   "outputs": [
    {
     "output_type": "stream",
     "name": "stdout",
     "text": [
      "[2, 3, 5, 7, 11, 13, 17, 19, 23, 29, 31, 37, 41, 43, 47, 53, 59, 61, 67, 71, 73, 79, 83, 89, 97, 101, 103, 107, 109, 113, 127, 131, 137, 139, 149, 151, 157, 163, 167, 173, 179, 181, 191, 193, 197, 199] 46\n"
     ]
    }
   ],
   "metadata": {}
  },
  {
   "cell_type": "code",
   "execution_count": 21,
   "source": [
    "def numberDivisor(num):\r\n",
    "    nd = []\r\n",
    "    curP = 1\r\n",
    "    while curP<=num :\r\n",
    "        if num % curP == 0:\r\n",
    "            nd.append(curP)\r\n",
    "        curP = curP + 1\r\n",
    "    return nd"
   ],
   "outputs": [],
   "metadata": {}
  },
  {
   "cell_type": "code",
   "execution_count": 22,
   "source": [
    "print (numberDivisor(60))"
   ],
   "outputs": [
    {
     "output_type": "stream",
     "name": "stdout",
     "text": [
      "[1, 2, 3, 4, 5, 6, 10, 12, 15, 20, 30, 60]\n"
     ]
    }
   ],
   "metadata": {}
  },
  {
   "cell_type": "code",
   "execution_count": 23,
   "source": [
    "def numberDivisor2(num):\n",
    "    nd = []\n",
    "    curP = 1\n",
    "    while curP * curP <=num :\n",
    "        if num % curP == 0 :\n",
    "            nd.append(curP)\n",
    "            if curP != num // curP :\n",
    "                nd.append(num // curP)\n",
    "        curP = curP + 1\n",
    "    nd.sort()\n",
    "    return nd"
   ],
   "outputs": [],
   "metadata": {}
  },
  {
   "cell_type": "code",
   "execution_count": 24,
   "source": [
    "print (numberDivisor2(36))"
   ],
   "outputs": [
    {
     "output_type": "stream",
     "name": "stdout",
     "text": [
      "[1, 2, 3, 4, 6, 9, 12, 18, 36]\n"
     ]
    }
   ],
   "metadata": {}
  },
  {
   "cell_type": "code",
   "execution_count": 25,
   "source": [
    "def primeDivisor(num):\n",
    "    pd = []\n",
    "    curP = 2\n",
    "    while curP<=num :\n",
    "        if num % curP == 0:\n",
    "            pd.append(curP)\n",
    "            num = num / curP\n",
    "        else:\n",
    "            curP = curP + 1\n",
    "    return pd"
   ],
   "outputs": [],
   "metadata": {}
  },
  {
   "cell_type": "code",
   "execution_count": 26,
   "source": [
    "print (primeDivisor(420))"
   ],
   "outputs": [
    {
     "output_type": "stream",
     "name": "stdout",
     "text": [
      "[2, 2, 3, 5, 7]\n"
     ]
    }
   ],
   "metadata": {}
  },
  {
   "cell_type": "code",
   "execution_count": 27,
   "source": [
    "def numberDivisor3(num):\n",
    "    pd = primeDivisor(num)\n",
    "    nd = [1]\n",
    "    for i in range(len(pd)):\n",
    "        for j in range(len(nd)):\n",
    "            nd.append(nd[j]*pd[i])\n",
    "    nd = list(set(nd))\n",
    "    nd.sort()\n",
    "    return nd\n"
   ],
   "outputs": [],
   "metadata": {}
  },
  {
   "cell_type": "code",
   "execution_count": 28,
   "source": [
    "print( numberDivisor3(36))"
   ],
   "outputs": [
    {
     "output_type": "stream",
     "name": "stdout",
     "text": [
      "[1, 2, 3, 4, 6, 9, 12, 18, 36]\n"
     ]
    }
   ],
   "metadata": {}
  },
  {
   "cell_type": "code",
   "execution_count": 29,
   "source": [
    "def greatestCommonDivisor(num1, num2):\n",
    "    i, j = 0, 0\n",
    "    pd1, pd2= primeDivisor(num1), primeDivisor(num2)\n",
    "    gcd = 1\n",
    "    while i<len(pd1) and j<len(pd2):\n",
    "        if pd1[i] == pd2[j]:\n",
    "            gcd = gcd * pd1[i]\n",
    "            i = i+1\n",
    "            j = j+1\n",
    "        elif pd1[i] < pd2[j]:\n",
    "            i = i+1\n",
    "        else :\n",
    "            j = j+1\n",
    "    return gcd"
   ],
   "outputs": [],
   "metadata": {}
  },
  {
   "cell_type": "code",
   "execution_count": 30,
   "source": [
    "print (primeDivisor(60))\n",
    "print (primeDivisor(150))\n",
    "print (greatestCommonDivisor(60,150))"
   ],
   "outputs": [
    {
     "output_type": "stream",
     "name": "stdout",
     "text": [
      "[2, 2, 3, 5]\n",
      "[2, 3, 5, 5]\n",
      "30\n"
     ]
    }
   ],
   "metadata": {}
  },
  {
   "cell_type": "code",
   "execution_count": 31,
   "source": [
    "def leastCommonMultiple(num1, num2):\n",
    "    i, j = 0, 0\n",
    "    pd1, pd2= primeDivisor(num1), primeDivisor(num2)\n",
    "    lcm = 1\n",
    "    while i<len(pd1) and j<len(pd2):\n",
    "        if pd1[i] == pd2[j]:\n",
    "            lcm = lcm * pd1[i]\n",
    "            i = i+1\n",
    "            j = j+1\n",
    "        elif pd1[i] < pd2[j]:\n",
    "            lcm = lcm * pd1[i]\n",
    "            i = i+1\n",
    "        else :\n",
    "            lcm = lcm * pd2[j]\n",
    "            j = j+1\n",
    "    while i<len(pd1):\n",
    "        lcm = lcm * pd1[i]\n",
    "        i = i+1\n",
    "    while j<len(pd2) :\n",
    "        lcm = lcm * pd2[j]\n",
    "        j = j+1\n",
    "    return lcm"
   ],
   "outputs": [],
   "metadata": {}
  },
  {
   "cell_type": "code",
   "execution_count": 32,
   "source": [
    "print (leastCommonMultiple(60,150))"
   ],
   "outputs": [
    {
     "output_type": "stream",
     "name": "stdout",
     "text": [
      "300\n"
     ]
    }
   ],
   "metadata": {}
  },
  {
   "cell_type": "code",
   "execution_count": 33,
   "source": [
    "def greatestCommonDivisor2(num1, num2):\n",
    "    if num1 < num2:\n",
    "        num1, num2 = num2, num1\n",
    "    while True:\n",
    "        if num1 % num2 == 0 :\n",
    "            return num2\n",
    "        num1, num2 = num2, num1 % num2\n"
   ],
   "outputs": [],
   "metadata": {}
  },
  {
   "cell_type": "code",
   "execution_count": 34,
   "source": [
    "print (greatestCommonDivisor2(60, 150))"
   ],
   "outputs": [
    {
     "output_type": "stream",
     "name": "stdout",
     "text": [
      "30\n"
     ]
    }
   ],
   "metadata": {}
  },
  {
   "cell_type": "code",
   "execution_count": 35,
   "source": [
    "def leastCommonMultiple2(num1, num2):\n",
    "    return num1 // greatestCommonDivisor2(num1, num2) * num2"
   ],
   "outputs": [],
   "metadata": {}
  },
  {
   "cell_type": "code",
   "execution_count": 36,
   "source": [
    "print (leastCommonMultiple2(60,150))"
   ],
   "outputs": [
    {
     "output_type": "stream",
     "name": "stdout",
     "text": [
      "300\n"
     ]
    }
   ],
   "metadata": {}
  },
  {
   "cell_type": "code",
   "execution_count": 37,
   "source": [
    "import tkinter;\n"
   ],
   "outputs": [],
   "metadata": {}
  },
  {
   "cell_type": "code",
   "execution_count": null,
   "source": [],
   "outputs": [],
   "metadata": {}
  }
 ]
}