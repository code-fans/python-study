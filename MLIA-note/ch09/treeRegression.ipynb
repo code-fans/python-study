{
 "cells": [
  {
   "cell_type": "code",
   "execution_count": 1,
   "metadata": {},
   "outputs": [],
   "source": [
    "import numpy as np\n",
    "import operator\n",
    "import matplotlib\n",
    "#matplotlib.use('TkAgg')\n",
    "import matplotlib.pyplot as plt\n",
    "import math"
   ]
  },
  {
   "cell_type": "code",
   "execution_count": 2,
   "metadata": {},
   "outputs": [],
   "source": [
    "class treeNode():\n",
    "    def __init__(self, feat, val, right, left):\n",
    "        self.featureToSplitOn = feat\n",
    "        self.valueOfSplit = val\n",
    "        self.rightBranch = right\n",
    "        self.leftBranch = left        "
   ]
  },
  {
   "cell_type": "code",
   "execution_count": 3,
   "metadata": {},
   "outputs": [],
   "source": [
    "def isTree(obj):\n",
    "    return (type(obj)==treeNode)"
   ]
  },
  {
   "cell_type": "code",
   "execution_count": 4,
   "metadata": {},
   "outputs": [],
   "source": [
    "def printTree(tN, d=0):\n",
    "    for i in range(d):\n",
    "        print('  |',end='')\n",
    "    if(isTree(tN)):\n",
    "        print('feature ' , tN.featureToSplitOn ,' at ' , tN.valueOfSplit)\n",
    "        printTree(tN.rightBranch, d+1)\n",
    "        printTree(tN.leftBranch, d+1)\n",
    "    else :\n",
    "        print(tN)"
   ]
  },
  {
   "cell_type": "code",
   "execution_count": 5,
   "metadata": {},
   "outputs": [],
   "source": [
    "def bestSplit(tN):\n",
    "    bestFeatures=[]\n",
    "    bestValues=[]\n",
    "    if(isTree(tN)):\n",
    "        bestFeatures.append(tN.featureToSplitOn) \n",
    "        bestValues.append(tN.valueOfSplit) \n",
    "        #if(tN.rightBranch != None)\n",
    "        bf,bv = bestSplit(tN.rightBranch)\n",
    "        bestFeatures.extend(bf)\n",
    "        bestValues.extend(bv)\n",
    "        bf,bv = bestSplit(tN.leftBranch)\n",
    "        bestFeatures.extend(bf)\n",
    "        bestValues.extend(bv)\n",
    "        #return bestFeatures, bestValues\n",
    "    return bestFeatures, bestValues"
   ]
  },
  {
   "cell_type": "code",
   "execution_count": 6,
   "metadata": {},
   "outputs": [],
   "source": [
    "def loadDataSet(fileName):      #general function to parse tab -delimited floats\n",
    "    dataMat = []                #assume last column is target value\n",
    "    fr = open(fileName)\n",
    "    for line in fr.readlines():\n",
    "        curLine = line.strip().split('\\t')\n",
    "        fltLine = list(map(float,curLine)) #map all elements to float()\n",
    "        dataMat.append(fltLine)\n",
    "    return np.mat(dataMat)"
   ]
  },
  {
   "cell_type": "code",
   "execution_count": 7,
   "metadata": {},
   "outputs": [],
   "source": [
    "myMat = loadDataSet('ex00.txt')"
   ]
  },
  {
   "cell_type": "code",
   "execution_count": 8,
   "metadata": {},
   "outputs": [
    {
     "data": {
      "image/png": "[encoded data removed]",
      "text/plain": [
       "<Figure size 432x288 with 1 Axes>"
      ]
     },
     "metadata": {},
     "output_type": "display_data"
    }
   ],
   "source": [
    "plt.scatter(myMat[:,0].A,myMat[:,1].A,color=\"blue\") #np.matrix.A--->matrix转化为array\n",
    "plt.xlabel(\"x\")\n",
    "plt.ylabel(\"y\")\n",
    "plt.show()"
   ]
  },
  {
   "cell_type": "code",
   "execution_count": 9,
   "metadata": {},
   "outputs": [],
   "source": [
    "def binSplitDataSet(dataSet, feature, value):\n",
    "    mat0 = dataSet[np.nonzero(dataSet[:,feature] > value)[0],:] #[0]\n",
    "    mat1 = dataSet[np.nonzero(dataSet[:,feature] <= value)[0],:] #[0]\n",
    "    return mat0, mat1"
   ]
  },
  {
   "cell_type": "code",
   "execution_count": 10,
   "metadata": {},
   "outputs": [
    {
     "data": {
      "text/plain": [
       "(matrix([[0., 1., 0., 0.]]), matrix([[1., 0., 0., 0.],\n",
       "         [0., 0., 1., 0.],\n",
       "         [0., 0., 0., 1.]]))"
      ]
     },
     "execution_count": 10,
     "metadata": {},
     "output_type": "execute_result"
    }
   ],
   "source": [
    "testMat = np.mat(np.eye(4))\n",
    "binSplitDataSet(testMat, 1, 0.5)"
   ]
  },
  {
   "cell_type": "code",
   "execution_count": 11,
   "metadata": {},
   "outputs": [],
   "source": [
    "def regLeaf(dataSet):#returns the value used for each leaf\n",
    "    return np.mean(dataSet[:,-1])"
   ]
  },
  {
   "cell_type": "code",
   "execution_count": 12,
   "metadata": {},
   "outputs": [],
   "source": [
    "def regErr(dataSet):\n",
    "    return np.var(dataSet[:,-1]) * np.shape(dataSet)[0]"
   ]
  },
  {
   "cell_type": "code",
   "execution_count": 13,
   "metadata": {},
   "outputs": [],
   "source": [
    "def chooseBestSplit(dataSet, leafType=regLeaf, errType=regErr, ops=(1,4)):\n",
    "    tolS = ops[0]; tolN = ops[1]\n",
    "    #if all the target variables are the same value: quit and return value\n",
    "    if len(set(dataSet[:,-1].T.tolist()[0])) == 1: #exit cond 1\n",
    "        return None, leafType(dataSet)\n",
    "    m,n = np.shape(dataSet)\n",
    "    #the choice of the best feature is driven by Reduction in RSS error from mean\n",
    "    S = errType(dataSet)\n",
    "    bestS = np.inf; bestIndex = 0; bestValue = 0\n",
    "    # 最后一个元素 是 特征值\n",
    "    for featIndex in range(n-1):\n",
    "        for splitVal in set(dataSet[:,featIndex].A.ravel()):\n",
    "            mat0, mat1 = binSplitDataSet(dataSet, featIndex, splitVal)\n",
    "            if (np.shape(mat0)[0] < tolN) or (np.shape(mat1)[0] < tolN): continue\n",
    "            # 计算两边的总方差    \n",
    "            newS = errType(mat0) + errType(mat1)\n",
    "            if newS < bestS: \n",
    "                bestIndex = featIndex\n",
    "                bestValue = splitVal\n",
    "                bestS = newS\n",
    "    #if the decrease (S-bestS) is less than a threshold don't do the split\n",
    "    if (S - bestS) < tolS: \n",
    "        return None, leafType(dataSet) #exit cond 2\n",
    "    mat0, mat1 = binSplitDataSet(dataSet, bestIndex, bestValue)\n",
    "    if (np.shape(mat0)[0] < tolN) or (np.shape(mat1)[0] < tolN):  #exit cond 3\n",
    "        return None, leafType(dataSet)\n",
    "    return bestIndex,bestValue#returns the best feature to split on\n",
    "                              #and the value used for that split"
   ]
  },
  {
   "cell_type": "code",
   "execution_count": 14,
   "metadata": {},
   "outputs": [],
   "source": [
    "#assume dataSet is NumPy Mat so we can array filtering\n",
    "def createTree(dataSet, leafType=regLeaf, errType=regErr, ops=(1,4)):\n",
    "    feat, val = chooseBestSplit(dataSet, leafType, errType, ops)#choose the best split\n",
    "    if feat == None: return val #if the splitting hit a stop condition return val\n",
    "    #feat, val, right, left\n",
    "    lSet, rSet = binSplitDataSet(dataSet, feat, val)\n",
    "    retTree = treeNode(feat, val, \\\n",
    "                       createTree(rSet, leafType, errType, ops), \\\n",
    "                       createTree(lSet, leafType, errType, ops) )\n",
    "    return retTree  "
   ]
  },
  {
   "cell_type": "code",
   "execution_count": 15,
   "metadata": {},
   "outputs": [],
   "source": [
    "myTree = createTree(myMat, regLeaf, regErr, ops=(1,4))"
   ]
  },
  {
   "cell_type": "code",
   "execution_count": 16,
   "metadata": {},
   "outputs": [
    {
     "name": "stdout",
     "output_type": "stream",
     "text": [
      "feature  0  at  0.48813\n",
      "  |-0.04465028571428572\n",
      "  |1.0180967672413792\n"
     ]
    }
   ],
   "source": [
    "printTree(myTree, 0)"
   ]
  },
  {
   "cell_type": "code",
   "execution_count": 17,
   "metadata": {},
   "outputs": [],
   "source": [
    "bf, bv = bestSplit(myTree)"
   ]
  },
  {
   "cell_type": "code",
   "execution_count": 18,
   "metadata": {},
   "outputs": [],
   "source": [
    "def plotTree(myMat, bv, xl = 0, yl = 1):\n",
    "    plt.scatter(myMat[:,xl].A,myMat[:,yl].A,color=\"blue\")\n",
    "    y = myMat[:,-1].A\n",
    "    y_min = np.min(y) - 0.1\n",
    "    y_max = np.max(y) + 0.1\n",
    "    y_val = np.arange(y_min,y_max,0.01)\n",
    "    for i in range(len(bv)):\n",
    "        plt.plot([bv[i]]* y_val.shape[0], y_val,color=\"black\") #画出那条分界线\n",
    "    plt.xlabel(\"x\")\n",
    "    plt.ylabel(\"y\")\n",
    "    plt.show()"
   ]
  },
  {
   "cell_type": "code",
   "execution_count": 19,
   "metadata": {},
   "outputs": [
    {
     "data": {
      "image/png": "[encoded data removed]",
      "text/plain": [
       "<Figure size 432x288 with 1 Axes>"
      ]
     },
     "metadata": {},
     "output_type": "display_data"
    }
   ],
   "source": [
    "plotTree(myMat, bv)"
   ]
  },
  {
   "cell_type": "code",
   "execution_count": 20,
   "metadata": {},
   "outputs": [],
   "source": [
    "myData= loadDataSet('ex0.txt')\n",
    "myTree2 = createTree(myData)\n",
    "bf, bv = bestSplit(myTree2)"
   ]
  },
  {
   "cell_type": "code",
   "execution_count": 26,
   "metadata": {},
   "outputs": [
    {
     "name": "stdout",
     "output_type": "stream",
     "text": [
      "feature  1  at  0.39435\n",
      "  |feature  1  at  0.197834\n",
      "  |  |-0.023838155555555553\n",
      "  |  |1.0289583666666666\n",
      "  |feature  1  at  0.582002\n",
      "  |  |1.980035071428571\n",
      "  |  |feature  1  at  0.797583\n",
      "  |  |  |2.9836209534883724\n",
      "  |  |  |3.9871632\n"
     ]
    }
   ],
   "source": [
    "printTree(myTree2)"
   ]
  },
  {
   "cell_type": "code",
   "execution_count": 21,
   "metadata": {},
   "outputs": [
    {
     "data": {
      "image/png": "[encoded data removed]",
      "text/plain": [
       "<Figure size 432x288 with 1 Axes>"
      ]
     },
     "metadata": {},
     "output_type": "display_data"
    }
   ],
   "source": [
    "plotTree(myData, bv,1,2)"
   ]
  },
  {
   "cell_type": "code",
   "execution_count": 78,
   "metadata": {},
   "outputs": [
    {
     "data": {
      "image/png": "[encoded data removed]",
      "text/plain": [
       "<Figure size 432x288 with 1 Axes>"
      ]
     },
     "metadata": {},
     "output_type": "display_data"
    }
   ],
   "source": [
    "myDat2= loadDataSet('ex2.txt')\n",
    "myTree2 = createTree(myDat2, ops=(1,4))\n",
    "bf, bv = bestSplit(myTree2)\n",
    "plotTree(myDat2, bv)"
   ]
  },
  {
   "cell_type": "code",
   "execution_count": 79,
   "metadata": {},
   "outputs": [],
   "source": [
    "def getMean(tree):\n",
    "    if isTree(tree):\n",
    "        tr = getMean(tree.rightBranch)\n",
    "        tl = getMean(tree.leftBranch)\n",
    "        return (tr + tl)/2.0\n",
    "    return tree;"
   ]
  },
  {
   "cell_type": "code",
   "execution_count": 80,
   "metadata": {},
   "outputs": [],
   "source": [
    "def prune(tree, testData):\n",
    "    if np.shape(testData)[0] == 0:\n",
    "        return getMean(tree) #if we have no test data collapse the tree\n",
    "    if (isTree(tree.rightBranch) or isTree(tree.leftBranch)):#if the branches are not trees try to prune them\n",
    "        lSet, rSet = binSplitDataSet(testData, tree.featureToSplitOn, tree.valueOfSplit)\n",
    "    if isTree(tree.leftBranch): tree.leftBranch = prune(tree.leftBranch, lSet)\n",
    "    if isTree(tree.rightBranch): tree.rightBranch =  prune(tree.rightBranch, rSet)\n",
    "    #if they are now both leafs, see if we can merge them\n",
    "    if not isTree(tree.leftBranch) and not isTree(tree.rightBranch):\n",
    "        lSet, rSet = binSplitDataSet(testData,tree.featureToSplitOn, tree.valueOfSplit)\n",
    "        errorNoMerge = sum(np.power(lSet[:,-1] - tree.leftBranch, 2)) + \\\n",
    "            sum(np.power(rSet[:,-1] - tree.rightBranch, 2))\n",
    "        treeMean = (tree.leftBranch + tree.rightBranch ) / 2.0\n",
    "        errorMerge = sum(np.power(testData[:,-1] - treeMean,2))\n",
    "        if errorMerge < errorNoMerge: \n",
    "            print (\"merging\")\n",
    "            return treeMean\n",
    "        else:\n",
    "            #print (errorMerge, errorNoMerge)\n",
    "            return tree\n",
    "    else: return tree"
   ]
  },
  {
   "cell_type": "code",
   "execution_count": 81,
   "metadata": {},
   "outputs": [
    {
     "name": "stdout",
     "output_type": "stream",
     "text": [
      "merging\n",
      "merging\n",
      "merging\n",
      "merging\n",
      "merging\n",
      "merging\n",
      "merging\n",
      "merging\n",
      "merging\n"
     ]
    },
    {
     "data": {
      "image/png": "[encoded data removed]",
      "text/plain": [
       "<Figure size 432x288 with 1 Axes>"
      ]
     },
     "metadata": {},
     "output_type": "display_data"
    }
   ],
   "source": [
    "myMat2= loadDataSet('ex2test.txt')\n",
    "#myTree2 = createTree(myMat2, ops=(0,1))\n",
    "myTree2 = prune(myTree2,myMat2)\n",
    "bf, bv = bestSplit(myTree2)\n",
    "plotTree(myMat2, bv)"
   ]
  },
  {
   "cell_type": "code",
   "execution_count": 22,
   "metadata": {},
   "outputs": [],
   "source": [
    "def linearSolve(dataSet):   #helper function used in two places\n",
    "    m,n = np.shape(dataSet)\n",
    "    X = np.mat(np.ones((m,n))); \n",
    "    Y = np.mat(np.ones((m,1)))#create a copy of data with 1 in 0th postion\n",
    "    X[:,1:n] = dataSet[:,0:n-1];\n",
    "    Y = dataSet[:,-1]#and strip out Y\n",
    "    xTx = X.T*X\n",
    "    if np.linalg.det(xTx) == 0.0:\n",
    "        raise NameError('This matrix is singular, cannot do inverse,\\n\\\n",
    "        try increasing the second value of ops')\n",
    "    ws = xTx.I * (X.T * Y)\n",
    "    return ws,X,Y"
   ]
  },
  {
   "cell_type": "code",
   "execution_count": 23,
   "metadata": {},
   "outputs": [],
   "source": [
    "def modelLeaf(dataSet):#create linear model and return coeficients\n",
    "    ws,X,Y = linearSolve(dataSet)\n",
    "    return ws"
   ]
  },
  {
   "cell_type": "code",
   "execution_count": 24,
   "metadata": {},
   "outputs": [],
   "source": [
    "def modelErr(dataSet):\n",
    "    ws,X,Y = linearSolve(dataSet)\n",
    "    yHat = X * ws\n",
    "    return sum(np.power(Y - yHat,2))"
   ]
  },
  {
   "cell_type": "code",
   "execution_count": null,
   "metadata": {},
   "outputs": [],
   "source": []
  }
 ],
 "metadata": {
  "kernelspec": {
   "display_name": "Python 3",
   "language": "python",
   "name": "python3"
  },
  "language_info": {
   "codemirror_mode": {
    "name": "ipython",
    "version": 3
   },
   "file_extension": ".py",
   "mimetype": "text/x-python",
   "name": "python",
   "nbconvert_exporter": "python",
   "pygments_lexer": "ipython3",
   "version": "3.6.5"
  }
 },
 "nbformat": 4,
 "nbformat_minor": 2
}
