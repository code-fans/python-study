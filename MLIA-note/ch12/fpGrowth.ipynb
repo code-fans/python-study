{
 "cells": [
  {
   "cell_type": "code",
   "execution_count": 1,
   "metadata": {},
   "outputs": [],
   "source": [
    "import numpy as np\n",
    "import time"
   ]
  },
  {
   "cell_type": "code",
   "execution_count": 2,
   "metadata": {},
   "outputs": [],
   "source": [
    "class treeNode:\n",
    "    def __init__(self, nameValue, numOccur, parentNode):\n",
    "        self.name = nameValue\n",
    "        self.count = numOccur\n",
    "        self.nodeLink = None\n",
    "        self.parent = parentNode      #needs to be updated\n",
    "        self.children = {} \n",
    "    \n",
    "    def inc(self, numOccur):\n",
    "        self.count += numOccur\n",
    "        \n",
    "    def disp(self, ind=1):\n",
    "        print ('  '*ind, self.name, ' ', self.count)\n",
    "        for child in self.children.values():\n",
    "            child.disp(ind+1)"
   ]
  },
  {
   "cell_type": "code",
   "execution_count": 3,
   "metadata": {},
   "outputs": [
    {
     "name": "stdout",
     "output_type": "stream",
     "text": [
      "   pyramid   9\n",
      "     eye   13\n",
      "     phoenix   3\n"
     ]
    }
   ],
   "source": [
    "rootNode = treeNode('pyramid',9,None)\n",
    "rootNode.children['eye'] = treeNode('eye',13,None)\n",
    "rootNode.children['phoenix'] = treeNode('phoenix',3,None)\n",
    "rootNode.disp()"
   ]
  },
  {
   "cell_type": "code",
   "execution_count": 4,
   "metadata": {},
   "outputs": [],
   "source": [
    "def updateHeader_origin(nodeToTest, targetNode):   #this version does not use recursion\n",
    "    while (nodeToTest.nodeLink != None):    #Do not use recursion to traverse a linked list!\n",
    "        #print(\"move node\", nodeToTest.count)\n",
    "        nodeToTest = nodeToTest.nodeLink\n",
    "    nodeToTest.nodeLink = targetNode"
   ]
  },
  {
   "cell_type": "code",
   "execution_count": 5,
   "metadata": {},
   "outputs": [],
   "source": [
    "# 上面的 updateHeader_origin 是树上原始的附属代码\n",
    "# 感觉这个遍历 没有必要，可以直接插在链表的开头，这个应该没有区别\n",
    "def updateHeader_new(nodeToTest, targetNode):\n",
    "    #if nodeToTest != None :\n",
    "    targetNode.nodeLink = nodeToTest.nodeLink\n",
    "    nodeToTest.nodeLink = targetNode"
   ]
  },
  {
   "cell_type": "code",
   "execution_count": 6,
   "metadata": {},
   "outputs": [],
   "source": [
    "def printHeader(ht):\n",
    "    for head in ht:\n",
    "        print(head, ':', end='')\n",
    "        data = ht[head]\n",
    "        print(data[0], end='')\n",
    "        nl = data[1]\n",
    "        while nl != None :\n",
    "            print(' --> {', end ='')\n",
    "            pn = nl\n",
    "            while pn != None:\n",
    "                if(pn.name != 'Null Set'):\n",
    "                    print(pn.name, end ='')\n",
    "                pn = pn.parent\n",
    "            print('}',nl.count, end ='')\n",
    "            nl = nl.nodeLink\n",
    "        print('')"
   ]
  },
  {
   "cell_type": "code",
   "execution_count": 7,
   "metadata": {},
   "outputs": [],
   "source": [
    "def updateTree(items, inTree, headerTable, count, updateHeader):\n",
    "    if items[0] in inTree.children:#check if orderedItems[0] in retTree.children\n",
    "        inTree.children[items[0]].inc(count) #incrament count\n",
    "    else:   #add items[0] to inTree.children\n",
    "        inTree.children[items[0]] = treeNode(items[0], count, inTree)\n",
    "        if headerTable[items[0]][1] == None: #update header table \n",
    "            headerTable[items[0]][1] = inTree.children[items[0]]\n",
    "        else:\n",
    "            updateHeader(headerTable[items[0]][1], inTree.children[items[0]])\n",
    "    if len(items) > 1: #call updateTree() with remaining ordered items\n",
    "        updateTree(items[1::], inTree.children[items[0]], headerTable, count, updateHeader)"
   ]
  },
  {
   "cell_type": "code",
   "execution_count": 8,
   "metadata": {},
   "outputs": [],
   "source": [
    "def createTree(dataSet, minSup=1, updateHeader= updateHeader_new): #create FP-tree from dataset but don't mine\n",
    "    headerTable = {}\n",
    "    #go over dataSet twice\n",
    "    for trans in dataSet:#first pass counts frequency of occurance\n",
    "        for item in trans:\n",
    "            headerTable[item] = headerTable.get(item, 0) + dataSet[trans]\n",
    "    for k in list(headerTable.keys()):  #remove items not meeting minSup\n",
    "        if headerTable[k] < minSup: \n",
    "            del(headerTable[k])\n",
    "    freqItemSet = set(headerTable.keys())\n",
    "    #print 'freqItemSet: ',freqItemSet\n",
    "    if len(freqItemSet) == 0: return None, None  #if no items meet min support -->get out\n",
    "    for k in headerTable :\n",
    "        headerTable[k] = [headerTable[k], None] #reformat headerTable to use Node link \n",
    "    #print 'headerTable: ',headerTable\n",
    "    retTree = treeNode('Null Set', 1, None) #create tree\n",
    "    for tranSet, count in dataSet.items():  #go through dataset 2nd time\n",
    "        localD = {}\n",
    "        for item in tranSet:  #put transaction items in order\n",
    "            if item in freqItemSet:\n",
    "                localD[item] = headerTable[item][0]\n",
    "        if len(localD) > 0:\n",
    "            # 排序 \n",
    "            orderedItems = [v[0] for v in sorted(localD.items(), key=lambda p: p[1], reverse=True)]\n",
    "            updateTree(orderedItems, retTree, headerTable, count, updateHeader)#populate tree with ordered freq itemset\n",
    "    return retTree, headerTable #return tree and header table"
   ]
  },
  {
   "cell_type": "code",
   "execution_count": 9,
   "metadata": {},
   "outputs": [],
   "source": [
    "def loadSimpDat():\n",
    "    simpDat = [['r', 'z', 'h', 'j', 'p'],\n",
    "               ['z', 'y', 'x', 'w', 'v', 'u', 't', 's'],\n",
    "               ['z'],\n",
    "               ['r', 'x', 'n', 'o', 's'],\n",
    "               ['y', 'r', 'x', 'z', 'q', 't', 'p'],\n",
    "               ['y', 'z', 'x', 'e', 'q', 's', 't', 'm']]\n",
    "    return simpDat"
   ]
  },
  {
   "cell_type": "code",
   "execution_count": 10,
   "metadata": {},
   "outputs": [],
   "source": [
    "simpDat = loadSimpDat()"
   ]
  },
  {
   "cell_type": "code",
   "execution_count": 11,
   "metadata": {},
   "outputs": [
    {
     "data": {
      "text/plain": [
       "[['r', 'z', 'h', 'j', 'p'],\n",
       " ['z', 'y', 'x', 'w', 'v', 'u', 't', 's'],\n",
       " ['z'],\n",
       " ['r', 'x', 'n', 'o', 's'],\n",
       " ['y', 'r', 'x', 'z', 'q', 't', 'p'],\n",
       " ['y', 'z', 'x', 'e', 'q', 's', 't', 'm']]"
      ]
     },
     "execution_count": 11,
     "metadata": {},
     "output_type": "execute_result"
    }
   ],
   "source": [
    "simpDat"
   ]
  },
  {
   "cell_type": "code",
   "execution_count": 12,
   "metadata": {},
   "outputs": [],
   "source": [
    "def createInitSet(dataSet):\n",
    "    retDict = {}\n",
    "    for trans in dataSet:\n",
    "        retDict[frozenset(trans)] = 1\n",
    "    return retDict"
   ]
  },
  {
   "cell_type": "code",
   "execution_count": 13,
   "metadata": {},
   "outputs": [],
   "source": [
    "dataSet = createInitSet(simpDat)"
   ]
  },
  {
   "cell_type": "code",
   "execution_count": 14,
   "metadata": {},
   "outputs": [],
   "source": [
    "retTree, headerTable = createTree(dataSet, 3, updateHeader_new)"
   ]
  },
  {
   "cell_type": "code",
   "execution_count": 15,
   "metadata": {},
   "outputs": [
    {
     "name": "stdout",
     "output_type": "stream",
     "text": [
      "   Null Set   1\n",
      "     z   5\n",
      "       r   1\n",
      "       x   3\n",
      "         y   2\n",
      "           s   2\n",
      "             t   2\n",
      "         r   1\n",
      "           y   1\n",
      "             t   1\n",
      "     x   1\n",
      "       r   1\n",
      "         s   1\n",
      "r :3 --> {rz} 1 --> {rxz} 1 --> {rx} 1\n",
      "z :5 --> {z} 5\n",
      "x :4 --> {xz} 3 --> {x} 1\n",
      "y :3 --> {yxz} 2 --> {yrxz} 1\n",
      "s :3 --> {syxz} 2 --> {srx} 1\n",
      "t :3 --> {tsyxz} 2 --> {tyrxz} 1\n"
     ]
    }
   ],
   "source": [
    "retTree.disp()\n",
    "printHeader(headerTable)"
   ]
  },
  {
   "cell_type": "code",
   "execution_count": 16,
   "metadata": {},
   "outputs": [],
   "source": [
    "# 这个递归没有必要\n",
    "def ascendTree(leafNode, prefixPath): #ascends from leaf node to root\n",
    "    if leafNode.parent != None:\n",
    "        prefixPath.append(leafNode.name)\n",
    "        ascendTree(leafNode.parent, prefixPath)"
   ]
  },
  {
   "cell_type": "code",
   "execution_count": 17,
   "metadata": {},
   "outputs": [],
   "source": [
    "def ascendTree_new(leafNode): #ascends from leaf node to root\n",
    "    prefixPath = []\n",
    "    ln = leafNode\n",
    "    while ln.parent != None:\n",
    "        prefixPath.append(ln.name)\n",
    "        ln = ln.parent\n",
    "    return prefixPath"
   ]
  },
  {
   "cell_type": "code",
   "execution_count": 18,
   "metadata": {},
   "outputs": [],
   "source": [
    "# basePat 这个参数好像没有用\n",
    "def findPrefixPath(basePat, treeNode): #treeNode comes from header table\n",
    "    condPats = {}\n",
    "    while treeNode != None:\n",
    "        prefixPath = []\n",
    "        ascendTree(treeNode, prefixPath)\n",
    "        if len(prefixPath) > 1: \n",
    "            condPats[frozenset(prefixPath[1:])] = treeNode.count\n",
    "        treeNode = treeNode.nodeLink\n",
    "    return condPats"
   ]
  },
  {
   "cell_type": "code",
   "execution_count": 19,
   "metadata": {},
   "outputs": [],
   "source": [
    "def findPrefixPath_new(treeNode): #treeNode comes from header table\n",
    "    condPats = {}\n",
    "    while treeNode != None:\n",
    "        prefixPath = ascendTree_new(treeNode)\n",
    "        if len(prefixPath) > 1: \n",
    "            condPats[frozenset(prefixPath[1:])] = treeNode.count\n",
    "        treeNode = treeNode.nodeLink\n",
    "    return condPats"
   ]
  },
  {
   "cell_type": "code",
   "execution_count": 20,
   "metadata": {},
   "outputs": [
    {
     "data": {
      "text/plain": [
       "{frozenset({'s', 'x', 'y', 'z'}): 2, frozenset({'r', 'x', 'y', 'z'}): 1}"
      ]
     },
     "execution_count": 20,
     "metadata": {},
     "output_type": "execute_result"
    }
   ],
   "source": [
    "findPrefixPath('t',headerTable['t'][1])"
   ]
  },
  {
   "cell_type": "code",
   "execution_count": 21,
   "metadata": {},
   "outputs": [
    {
     "data": {
      "text/plain": [
       "{frozenset({'s', 'x', 'y', 'z'}): 2, frozenset({'r', 'x', 'y', 'z'}): 1}"
      ]
     },
     "execution_count": 21,
     "metadata": {},
     "output_type": "execute_result"
    }
   ],
   "source": [
    "findPrefixPath_new(headerTable['t'][1])"
   ]
  },
  {
   "cell_type": "code",
   "execution_count": 22,
   "metadata": {},
   "outputs": [],
   "source": [
    "def mineTree(inTree, headerTable, minSup, preFix, freqItemList):\n",
    "    bigL = [v[0] for v in sorted(headerTable.items(), key=lambda p: p[1][0])]#(sort header table)\n",
    "    for basePat in bigL:  #start from bottom of header table\n",
    "        newFreqSet = preFix.copy()\n",
    "        newFreqSet.add(basePat)\n",
    "        #print 'finalFrequent Item: ',newFreqSet    #append to set\n",
    "        freqItemList.append(newFreqSet)\n",
    "        condPattBases = findPrefixPath_new(headerTable[basePat][1])\n",
    "        #print 'condPattBases :',basePat, condPattBases\n",
    "        #2. construct cond FP-tree from cond. pattern base\n",
    "        myCondTree, myHead = createTree(condPattBases, minSup)\n",
    "        #print 'head from conditional tree: ', myHead\n",
    "        if myHead != None: #3. mine cond. FP-tree\n",
    "            print ('conditional tree for: ',newFreqSet)\n",
    "            myCondTree.disp(1)            \n",
    "            mineTree(myCondTree, myHead, minSup, newFreqSet, freqItemList)            "
   ]
  },
  {
   "cell_type": "code",
   "execution_count": 23,
   "metadata": {},
   "outputs": [
    {
     "name": "stdout",
     "output_type": "stream",
     "text": [
      "conditional tree for:  {'y'}\n",
      "   Null Set   1\n",
      "     z   3\n",
      "       x   3\n",
      "conditional tree for:  {'y', 'x'}\n",
      "   Null Set   1\n",
      "     z   3\n",
      "conditional tree for:  {'s'}\n",
      "   Null Set   1\n",
      "     x   3\n",
      "conditional tree for:  {'t'}\n",
      "   Null Set   1\n",
      "     y   3\n",
      "       z   3\n",
      "         x   3\n",
      "conditional tree for:  {'t', 'z'}\n",
      "   Null Set   1\n",
      "     y   3\n",
      "conditional tree for:  {'t', 'x'}\n",
      "   Null Set   1\n",
      "     y   3\n",
      "       z   3\n",
      "conditional tree for:  {'t', 'z', 'x'}\n",
      "   Null Set   1\n",
      "     y   3\n",
      "conditional tree for:  {'x'}\n",
      "   Null Set   1\n",
      "     z   3\n"
     ]
    }
   ],
   "source": [
    "# 结果和树上\n",
    "freqItems = []\n",
    "mineTree(retTree, headerTable, 3, set([]), freqItems)"
   ]
  },
  {
   "cell_type": "code",
   "execution_count": 24,
   "metadata": {},
   "outputs": [
    {
     "data": {
      "text/plain": [
       "[{'r'},\n",
       " {'y'},\n",
       " {'y', 'z'},\n",
       " {'x', 'y'},\n",
       " {'x', 'y', 'z'},\n",
       " {'s'},\n",
       " {'s', 'x'},\n",
       " {'t'},\n",
       " {'t', 'y'},\n",
       " {'t', 'z'},\n",
       " {'t', 'y', 'z'},\n",
       " {'t', 'x'},\n",
       " {'t', 'x', 'y'},\n",
       " {'t', 'x', 'z'},\n",
       " {'t', 'x', 'y', 'z'},\n",
       " {'x'},\n",
       " {'x', 'z'},\n",
       " {'z'}]"
      ]
     },
     "execution_count": 24,
     "metadata": {},
     "output_type": "execute_result"
    }
   ],
   "source": [
    "freqItems"
   ]
  },
  {
   "cell_type": "code",
   "execution_count": 25,
   "metadata": {},
   "outputs": [],
   "source": [
    "parsedDat = [line.split() for line in open('kosarak.dat').readlines()]"
   ]
  },
  {
   "cell_type": "code",
   "execution_count": 26,
   "metadata": {},
   "outputs": [],
   "source": [
    "initSet1 = createInitSet(parsedDat)"
   ]
  },
  {
   "cell_type": "code",
   "execution_count": 27,
   "metadata": {},
   "outputs": [
    {
     "name": "stdout",
     "output_type": "stream",
     "text": [
      "creating the fp-tree cost  3.7633955478668213 s\n"
     ]
    }
   ],
   "source": [
    "time1 = time.time()\n",
    "myFPtree1,myHeaderTab1 = createTree(initSet1,100000) #最小频数为100000\n",
    "time2 = time.time()\n",
    "print('creating the fp-tree cost ',time2-time1,'s')"
   ]
  },
  {
   "cell_type": "code",
   "execution_count": 28,
   "metadata": {},
   "outputs": [
    {
     "name": "stdout",
     "output_type": "stream",
     "text": [
      "conditional tree for:  {'1'}\n",
      "   Null Set   1\n",
      "     6   107404\n",
      "conditional tree for:  {'3'}\n",
      "   Null Set   1\n",
      "     11   9718\n",
      "     6   186289\n",
      "       11   117401\n",
      "conditional tree for:  {'11', '3'}\n",
      "   Null Set   1\n",
      "     6   117401\n",
      "conditional tree for:  {'11'}\n",
      "   Null Set   1\n",
      "     6   261773\n",
      "9\n",
      "creating the fp-tree cost  0.002527475357055664 s\n"
     ]
    }
   ],
   "source": [
    "time3 = time.time()\n",
    "myFreqList = []\n",
    "mineTree(myFPtree1,myHeaderTab1,100000,set([]),myFreqList)\n",
    "time4 = time.time()\n",
    "print (len(myFreqList))\n",
    "print('creating the fp-tree cost ',time4-time3,'s')"
   ]
  },
  {
   "cell_type": "code",
   "execution_count": 29,
   "metadata": {},
   "outputs": [
    {
     "data": {
      "text/plain": [
       "[{'1'},\n",
       " {'1', '6'},\n",
       " {'3'},\n",
       " {'11', '3'},\n",
       " {'11', '3', '6'},\n",
       " {'3', '6'},\n",
       " {'11'},\n",
       " {'11', '6'},\n",
       " {'6'}]"
      ]
     },
     "execution_count": 29,
     "metadata": {},
     "output_type": "execute_result"
    }
   ],
   "source": [
    "myFreqList"
   ]
  },
  {
   "cell_type": "code",
   "execution_count": null,
   "metadata": {},
   "outputs": [],
   "source": []
  }
 ],
 "metadata": {
  "kernelspec": {
   "display_name": "Python 3",
   "language": "python",
   "name": "python3"
  },
  "language_info": {
   "codemirror_mode": {
    "name": "ipython",
    "version": 3
   },
   "file_extension": ".py",
   "mimetype": "text/x-python",
   "name": "python",
   "nbconvert_exporter": "python",
   "pygments_lexer": "ipython3",
   "version": "3.6.5"
  }
 },
 "nbformat": 4,
 "nbformat_minor": 2
}
