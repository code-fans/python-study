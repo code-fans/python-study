{
 "cells": [
  {
   "cell_type": "code",
   "execution_count": 1,
   "metadata": {},
   "outputs": [],
   "source": [
    "import numpy as np\n",
    "import operator\n",
    "import matplotlib\n",
    "import matplotlib.pyplot as plt\n",
    "from time import sleep\n",
    "from matplotlib.patches import Circle"
   ]
  },
  {
   "cell_type": "code",
   "execution_count": 2,
   "metadata": {},
   "outputs": [],
   "source": [
    "# 查看测试数据，并给出一个 分割线，直观的理解一下 支持向量\n",
    "def plotSVC(dataMat, labelMat, vetctors, weigth, b):\n",
    "    xcord0 = []; ycord0 = []; xcord1 = []; ycord1 = []\n",
    "    m, n = np.shape(dataMat)\n",
    "    for i in range(m):\n",
    "        if (labelMat[i] < 0):\n",
    "            xcord0.append(dataMat[i][0])\n",
    "            ycord0.append(dataMat[i][1])\n",
    "        else:\n",
    "            xcord1.append(dataMat[i][0])\n",
    "            ycord1.append(dataMat[i][1])\n",
    "\n",
    "    fig = plt.figure()\n",
    "    ax = fig.add_subplot(111)\n",
    "    ax.scatter(xcord0,ycord0, marker='s', s=90, label = '-1')\n",
    "    ax.scatter(xcord1,ycord1, marker='o', s=50, c='red', label = '+1')\n",
    "    plt.title('Support Vectors Circled')\n",
    "    for i in range(len(vetctors)):\n",
    "        circle = Circle(vetctors[i],0.5, facecolor='none', edgecolor=(0,0.8,0.8), linewidth=3, alpha=0.5)\n",
    "        ax.add_patch(circle)\n",
    "\n",
    "    #plt.plot([2.3,8.5], [-6,6]) #seperating hyperplane\n",
    "    if(weigth[1] != 0):\n",
    "        x = np.arange(-2.0, 12.0, 0.1)\n",
    "        y = (-weigth[0]*x - b)/weigth[1]\n",
    "        ax.plot(x,y)\n",
    "    ax.axis([-2,12,-8,6])\n",
    "    plt.legend(loc = 'upper left')\n",
    "    plt.show()"
   ]
  },
  {
   "cell_type": "code",
   "execution_count": 3,
   "metadata": {},
   "outputs": [],
   "source": [
    "def loadDataSet(fileName):\n",
    "    dataMat = []; labelMat = []\n",
    "    fr = open(fileName)\n",
    "    for line in fr.readlines():\n",
    "        lineArr = line.strip().split('\\t')\n",
    "        dataMat.append([float(lineArr[0]), float(lineArr[1])])\n",
    "        labelMat.append(float(lineArr[2]))\n",
    "    return dataMat,labelMat"
   ]
  },
  {
   "cell_type": "code",
   "execution_count": 4,
   "metadata": {},
   "outputs": [],
   "source": [
    "dataMat,labelMat = loadDataSet('testSet.txt')"
   ]
  },
  {
   "cell_type": "code",
   "execution_count": 5,
   "metadata": {},
   "outputs": [
    {
     "data": {
      "image/png": "[encoded data removed]",
      "text/plain": [
       "<Figure size 432x288 with 1 Axes>"
      ]
     },
     "metadata": {},
     "output_type": "display_data"
    }
   ],
   "source": [
    "plotSVC(dataMat,labelMat,\\\n",
    "       [[4.6581910000000004, 3.507396],[3.4570959999999999, -0.082215999999999997], \\\n",
    "        [6.0805730000000002, 0.41888599999999998]], \\\n",
    "       [0.8065, -0.2761], -3.75567)"
   ]
  },
  {
   "cell_type": "code",
   "execution_count": 6,
   "metadata": {},
   "outputs": [],
   "source": [
    "def selectJrand(i,m):\n",
    "    j=i #we want to select any J not equal to i\n",
    "    while (j==i):\n",
    "        j = int(np.random.uniform(0,m))\n",
    "    return j"
   ]
  },
  {
   "cell_type": "code",
   "execution_count": 7,
   "metadata": {},
   "outputs": [],
   "source": [
    "# 约束 aj 必须在 L H之间\n",
    "def clipAlpha(aj,H,L):\n",
    "    if aj > H: \n",
    "        aj = H\n",
    "    if L > aj:\n",
    "        aj = L\n",
    "    return aj"
   ]
  },
  {
   "cell_type": "code",
   "execution_count": 8,
   "metadata": {},
   "outputs": [],
   "source": [
    "def smoSimple(dataMatIn, classLabels, C, toler, maxIter):\n",
    "    dataMatrix = np.mat(dataMatIn); labelMat = np.mat(classLabels).transpose()\n",
    "    b = 0; m,n = np.shape(dataMatrix)\n",
    "    alphas = np.mat(np.zeros((m,1)))\n",
    "    iterNum = 0\n",
    "    while (iterNum < maxIter):\n",
    "        alphaPairsChanged = 0\n",
    "        for i in range(m):\n",
    "            # 周志华 公式 6.12\n",
    "            fXi = float(np.multiply(alphas,labelMat).T*(dataMatrix*dataMatrix[i,:].T)) + b\n",
    "            Ei = fXi - float(labelMat[i])#if checks if an example violates KKT conditions\n",
    "            # (alphas[i] < C) (alphas[i] > 0) 这两个条件应该式 恒 true的\n",
    "            if ((labelMat[i]*Ei < -toler) and (alphas[i] < C)) \\\n",
    "                    or ((labelMat[i]*Ei > toler) and (alphas[i] > 0)):\n",
    "                j = selectJrand(i,m)\n",
    "                fXj = float(np.multiply(alphas,labelMat).T*(dataMatrix*dataMatrix[j,:].T)) + b\n",
    "                Ej = fXj - float(labelMat[j])\n",
    "                alphaIold = alphas[i].copy(); \n",
    "                alphaJold = alphas[j].copy();\n",
    "                if (labelMat[i] != labelMat[j]):\n",
    "                    L = max(0, alphas[j] - alphas[i])\n",
    "                    H = min(C, C + alphas[j] - alphas[i])\n",
    "                else:\n",
    "                    L = max(0, alphas[j] + alphas[i] - C)\n",
    "                    H = min(C, alphas[j] + alphas[i])\n",
    "                if L==H: \n",
    "                    # print(\"L==H\"); \n",
    "                    continue\n",
    "                # 向量之间的距离 （取得负值）    \n",
    "                eta = 2.0 * dataMatrix[i,:]*dataMatrix[j,:].T - dataMatrix[i,:]*dataMatrix[i,:].T \\\n",
    "                            - dataMatrix[j,:]*dataMatrix[j,:].T\n",
    "                if eta >= 0:\n",
    "                    # print(\"eta>=0\"); \n",
    "                    continue\n",
    "                alphas[j] -= labelMat[j]*(Ei - Ej)/eta\n",
    "                alphas[j] = clipAlpha(alphas[j],H,L)\n",
    "                if (abs(alphas[j] - alphaJold) < 0.00001): \n",
    "                    #print(\"j not moving enough\");\n",
    "                    continue\n",
    "                #约束条件 6.10     \n",
    "                alphas[i] += labelMat[j]*labelMat[i]*(alphaJold - alphas[j])\n",
    "                #update i by the same amount as j\n",
    "                #the update is in the oppostie direction\n",
    "                # 公式 6.18    \n",
    "                b1 = b - Ei- labelMat[i]*(alphas[i]-alphaIold)*dataMatrix[i,:]*dataMatrix[i,:].T \\\n",
    "                            - labelMat[j]*(alphas[j]-alphaJold)*dataMatrix[i,:]*dataMatrix[j,:].T\n",
    "                b2 = b - Ej- labelMat[i]*(alphas[i]-alphaIold)*dataMatrix[i,:]*dataMatrix[j,:].T \\\n",
    "                        - labelMat[j]*(alphas[j]-alphaJold)*dataMatrix[j,:]*dataMatrix[j,:].T\n",
    "                if (0 < alphas[i]) and (C > alphas[i]): b = b1\n",
    "                elif (0 < alphas[j]) and (C > alphas[j]): b = b2\n",
    "                else: b = (b1 + b2)/2.0\n",
    "                alphaPairsChanged += 1\n",
    "                # print (\"iter: %d i:%d, \\t %.6f  %.6f \\tchanged %d\" % (iterNum,i, alphas[i], alphas[j], alphaPairsChanged))\n",
    "        if (alphaPairsChanged == 0): iterNum += 1\n",
    "        else: iterNum = 0\n",
    "        #print (\"iteration number: %d\" % iterNum)\n",
    "    return b,alphas"
   ]
  },
  {
   "cell_type": "code",
   "execution_count": 9,
   "metadata": {},
   "outputs": [],
   "source": [
    "b, alphas = smoSimple(dataMat,labelMat, 0.6, 0.001, 50)"
   ]
  },
  {
   "cell_type": "code",
   "execution_count": 10,
   "metadata": {},
   "outputs": [
    {
     "data": {
      "text/plain": [
       "[0.1231737960243495, 0.23337086143509558, 0.356544657459445]"
      ]
     },
     "execution_count": 10,
     "metadata": {},
     "output_type": "execute_result"
    }
   ],
   "source": [
    "alphas[alphas>0].tolist()[0]"
   ]
  },
  {
   "cell_type": "code",
   "execution_count": 11,
   "metadata": {},
   "outputs": [
    {
     "data": {
      "text/plain": [
       "matrix([[-3.74392935]])"
      ]
     },
     "execution_count": 11,
     "metadata": {},
     "output_type": "execute_result"
    }
   ],
   "source": [
    "b"
   ]
  },
  {
   "cell_type": "code",
   "execution_count": 12,
   "metadata": {},
   "outputs": [],
   "source": [
    "def calcWs(alphas,dataArr,classLabels):\n",
    "    X = np.mat(dataArr); \n",
    "    labelMat = np.mat(classLabels).transpose()\n",
    "    m,n = np.shape(X)\n",
    "    w = np.zeros((n,1))\n",
    "    vetctors = []\n",
    "    for i in range(m):\n",
    "        w += np.multiply(alphas[i]*labelMat[i],X[i,:].T)\n",
    "        if(alphas[i]>0.0):\n",
    "            vetctors.append(dataArr[i])\n",
    "    return w, vetctors"
   ]
  },
  {
   "cell_type": "code",
   "execution_count": 13,
   "metadata": {},
   "outputs": [
    {
     "data": {
      "text/plain": [
       "[[4.658191, 3.507396], [3.457096, -0.082216], [6.080573, 0.418886]]"
      ]
     },
     "execution_count": 13,
     "metadata": {},
     "output_type": "execute_result"
    }
   ],
   "source": [
    "w, vetctors = calcWs(alphas,dataMat,labelMat)\n",
    "vetctors"
   ]
  },
  {
   "cell_type": "code",
   "execution_count": 14,
   "metadata": {},
   "outputs": [
    {
     "data": {
      "image/png": "[encoded data removed]",
      "text/plain": [
       "<Figure size 432x288 with 1 Axes>"
      ]
     },
     "metadata": {},
     "output_type": "display_data"
    }
   ],
   "source": [
    "plotSVC(dataMat,labelMat,vetctors,w, b.tolist()[0][0] )"
   ]
  },
  {
   "cell_type": "code",
   "execution_count": 15,
   "metadata": {},
   "outputs": [],
   "source": [
    "# 核函数，通告增加维数 来找到可以分类 的超平面\n",
    "def kernelTrans(X, A, kTup): \n",
    "    #calc the kernel or transform data to a higher dimensional space\n",
    "    m,n = np.shape(X)\n",
    "    K = np.mat(np.zeros((m,1)))\n",
    "    if kTup[0]=='lin': K = X * A.T   #linear kernel\n",
    "    elif kTup[0]=='rbf':\n",
    "        for j in range(m):\n",
    "            deltaRow = X[j,:] - A\n",
    "            K[j] = deltaRow*deltaRow.T\n",
    "        K = np.exp(K/(-1*kTup[1]**2)) #divide in NumPy is element-wise not matrix like Matlab\n",
    "    else: raise NameError('Houston We Have a Problem -- \\\n",
    "    That Kernel is not recognized')\n",
    "    return K"
   ]
  },
  {
   "cell_type": "code",
   "execution_count": 16,
   "metadata": {},
   "outputs": [],
   "source": [
    "class optStruct:\n",
    "    # Initialize the structure with the parameters \n",
    "    def __init__(self,dataMatIn, classLabels, C, toler, kTup):          \n",
    "        self.X = dataMatIn\n",
    "        self.labelMat = classLabels\n",
    "        self.C = C\n",
    "        self.tol = toler\n",
    "        self.m = np.shape(dataMatIn)[0]\n",
    "        self.alphas = np.mat(np.zeros((self.m,1)))\n",
    "        self.b = 0\n",
    "        self.eCache = np.mat(np.zeros((self.m,2))) #first column is valid flag\n",
    "        self.K = np.mat(np.zeros((self.m,self.m)))\n",
    "        for i in range(self.m):\n",
    "            self.K[:,i] = kernelTrans(self.X, self.X[i,:], kTup)"
   ]
  },
  {
   "cell_type": "code",
   "execution_count": 17,
   "metadata": {},
   "outputs": [],
   "source": [
    "def calcEk(oS, k):\n",
    "    fXk = float(np.multiply(oS.alphas,oS.labelMat).T * oS.K[:,k] + oS.b)\n",
    "    # 没有 核函数的 误差计算方式\n",
    "    #fXk = float(np.multiply(oS.alphas, oS.labelMat).T*(oS.X*oS.X[k,:].T) + oS.b)\n",
    "    Ek = fXk - float(oS.labelMat[k])\n",
    "    return Ek"
   ]
  },
  {
   "cell_type": "code",
   "execution_count": 18,
   "metadata": {},
   "outputs": [],
   "source": [
    "def selectJ(i, oS, Ei):         #this is the second choice -heurstic, and calcs Ej\n",
    "    maxK = -1; maxDeltaE = 0; Ej = 0\n",
    "    oS.eCache[i] = [1,Ei]  #set valid #choose the alpha that gives the maximum delta E\n",
    "    validEcacheList = np.nonzero(oS.eCache[:,0].A)[0]\n",
    "    if (len(validEcacheList)) > 1:\n",
    "        for k in validEcacheList:   #loop through valid Ecache values and find the one that maximizes delta E\n",
    "            if k == i: continue #don't calc for i, waste of time\n",
    "            Ek = calcEk(oS, k)\n",
    "            deltaE = abs(Ei - Ek)\n",
    "            if (deltaE > maxDeltaE):\n",
    "                maxK = k; maxDeltaE = deltaE; Ej = Ek\n",
    "        return maxK, Ej\n",
    "    else:   #in this case (first time around) we don't have any valid eCache values\n",
    "        j = selectJrand(i, oS.m)\n",
    "        Ej = calcEk(oS, j)\n",
    "    return j, Ej"
   ]
  },
  {
   "cell_type": "code",
   "execution_count": 19,
   "metadata": {},
   "outputs": [],
   "source": [
    "def updateEk(oS, k):#after any alpha has changed update the new value in the cache\n",
    "    Ek = calcEk(oS, k)\n",
    "    oS.eCache[k] = [1,Ek]"
   ]
  },
  {
   "cell_type": "code",
   "execution_count": 20,
   "metadata": {},
   "outputs": [],
   "source": [
    "def innerL(i, oS):\n",
    "    Ei = calcEk(oS, i)\n",
    "    if ((oS.labelMat[i]*Ei < -oS.tol) and (oS.alphas[i] < oS.C)) \\\n",
    "            or ((oS.labelMat[i]*Ei > oS.tol) and (oS.alphas[i] > 0)):\n",
    "        \n",
    "        j,Ej = selectJ(i, oS, Ei) #this has been changed from selectJrand\n",
    "        alphaIold = oS.alphas[i].copy(); alphaJold = oS.alphas[j].copy();\n",
    "        if (oS.labelMat[i] != oS.labelMat[j]):\n",
    "            L = max(0, oS.alphas[j] - oS.alphas[i])\n",
    "            H = min(oS.C, oS.C + oS.alphas[j] - oS.alphas[i])\n",
    "        else:\n",
    "            L = max(0, oS.alphas[j] + oS.alphas[i] - oS.C)\n",
    "            H = min(oS.C, oS.alphas[j] + oS.alphas[i])\n",
    "        if L==H: \n",
    "            #print(\"L==H\");\n",
    "            return 0\n",
    "        eta = 2.0 * oS.K[i,j] - oS.K[i,i] - oS.K[j,j] #changed for kernel\n",
    "        if eta >= 0: \n",
    "            #print(\"eta>=0\");\n",
    "            return 0\n",
    "        oS.alphas[j] -= oS.labelMat[j]*(Ei - Ej)/eta\n",
    "        oS.alphas[j] = clipAlpha(oS.alphas[j],H,L)\n",
    "        updateEk(oS, j) #added this for the Ecache\n",
    "        if (abs(oS.alphas[j] - alphaJold) < 0.00001): \n",
    "            #print (\"j not moving enough\");\n",
    "            return 0\n",
    "        #update i by the same amount as j\n",
    "        oS.alphas[i] += oS.labelMat[j]*oS.labelMat[i]*(alphaJold - oS.alphas[j])        \n",
    "        updateEk(oS, i) #added this for the Ecache                    \n",
    "        #the update is in the oppostie direction\n",
    "        b1 = oS.b - Ei- oS.labelMat[i]*(oS.alphas[i]-alphaIold)*oS.K[i,i] \\\n",
    "                  - oS.labelMat[j]*(oS.alphas[j]-alphaJold)*oS.K[i,j]\n",
    "        b2 = oS.b - Ej- oS.labelMat[i]*(oS.alphas[i]-alphaIold)*oS.K[i,j] \\\n",
    "                  - oS.labelMat[j]*(oS.alphas[j]-alphaJold)*oS.K[j,j]\n",
    "        if (0 < oS.alphas[i]) and (oS.C > oS.alphas[i]): oS.b = b1\n",
    "        elif (0 < oS.alphas[j]) and (oS.C > oS.alphas[j]): oS.b = b2\n",
    "        else: oS.b = (b1 + b2)/2.0\n",
    "        return 1\n",
    "    else: return 0"
   ]
  },
  {
   "cell_type": "code",
   "execution_count": 21,
   "metadata": {},
   "outputs": [],
   "source": [
    "def smoP(dataMatIn, classLabels, C, toler, maxIter,kTup=('lin', 0)):    #full Platt SMO\n",
    "    oS = optStruct(np.mat(dataMatIn),np.mat(classLabels).transpose(),C,toler, kTup)\n",
    "    iterNum = 0\n",
    "    entireSet = True; alphaPairsChanged = 0\n",
    "    while (iterNum < maxIter) and ((alphaPairsChanged > 0) or (entireSet)):\n",
    "        alphaPairsChanged = 0\n",
    "        if entireSet:   #go over all\n",
    "            for i in range(oS.m):        \n",
    "                alphaPairsChanged += innerL(i,oS)\n",
    "                #print (\"fullSet, iter: %d i:%d, pairs changed %d\" % (iterNum,i,alphaPairsChanged))\n",
    "            iterNum += 1\n",
    "        else:#go over non-bound (railed) alphas\n",
    "            nonBoundIs = np.nonzero((oS.alphas.A > 0) * (oS.alphas.A < C))[0]\n",
    "            for i in nonBoundIs:\n",
    "                alphaPairsChanged += innerL(i,oS)\n",
    "                # print (\"non-bound, iter: %d i:%d, pairs changed %d\" % (iterNum,i,alphaPairsChanged))\n",
    "            iterNum += 1\n",
    "        if entireSet: \n",
    "            entireSet = False #toggle entire set loop\n",
    "        elif (alphaPairsChanged == 0):\n",
    "            entireSet = True  \n",
    "        #print (\"iteration number: %d\" % iterNum)\n",
    "    return oS.b,oS.alphas"
   ]
  },
  {
   "cell_type": "code",
   "execution_count": 22,
   "metadata": {},
   "outputs": [],
   "source": [
    "b, alphas = smoP(dataMat,labelMat,0.6, 0.0001, 50)"
   ]
  },
  {
   "cell_type": "code",
   "execution_count": 23,
   "metadata": {},
   "outputs": [
    {
     "data": {
      "text/plain": [
       "[[3.542485, 1.977398],\n",
       " [2.114999, -0.004466],\n",
       " [8.127113, 1.274372],\n",
       " [4.658191, 3.507396],\n",
       " [8.197181, 1.545132],\n",
       " [7.40786, -0.121961],\n",
       " [6.960661, -0.245353],\n",
       " [6.080573, 0.418886],\n",
       " [3.107511, 0.758367]]"
      ]
     },
     "execution_count": 23,
     "metadata": {},
     "output_type": "execute_result"
    }
   ],
   "source": [
    "w, vetctors = calcWs(alphas,dataMat,labelMat)\n",
    "vetctors"
   ]
  },
  {
   "cell_type": "code",
   "execution_count": 24,
   "metadata": {},
   "outputs": [
    {
     "data": {
      "image/png": "[encoded data removed]",
      "text/plain": [
       "<Figure size 432x288 with 1 Axes>"
      ]
     },
     "metadata": {},
     "output_type": "display_data"
    }
   ],
   "source": [
    "plotSVC(dataMat,labelMat,vetctors,w , b.tolist()[0][0])"
   ]
  },
  {
   "cell_type": "code",
   "execution_count": 25,
   "metadata": {},
   "outputs": [
    {
     "data": {
      "text/plain": [
       "matrix([[2.30436336]])"
      ]
     },
     "execution_count": 25,
     "metadata": {},
     "output_type": "execute_result"
    }
   ],
   "source": [
    "dataMat[2]*np.mat(w) + b"
   ]
  },
  {
   "cell_type": "code",
   "execution_count": 26,
   "metadata": {},
   "outputs": [
    {
     "data": {
      "image/png": "[encoded data removed]",
      "text/plain": [
       "<Figure size 432x288 with 1 Axes>"
      ]
     },
     "metadata": {},
     "output_type": "display_data"
    }
   ],
   "source": [
    "# 生成测试数据\n",
    "fw = open('testSetRBF3.txt', 'w')#generate data\n",
    "fig = plt.figure()\n",
    "ax = fig.add_subplot(111)\n",
    "xcord0 = []; ycord0 = []; xcord1 = []; ycord1 = []\n",
    "for i in range(100):\n",
    "    [x,y] = np.random.uniform(0,1,2)\n",
    "    xpt=x*np.cos(2.0*np.pi*y); ypt = x*np.sin(2.0*np.pi*y)\n",
    "    #xpt = (xpt+1)*7 - 2 \n",
    "    #ypt = (ypt+1)*7 - 8\n",
    "    if (x > 0.5):\n",
    "        xcord0.append(xpt); ycord0.append(ypt)\n",
    "        label = -1.0\n",
    "    else:\n",
    "        xcord1.append(xpt); ycord1.append(ypt)\n",
    "        label = 1.0\n",
    "    fw.write('%f\\t%f\\t%f\\n' % (xpt, ypt, label))\n",
    "ax.scatter(xcord0,ycord0, marker='s', s=90)\n",
    "ax.scatter(xcord1,ycord1, marker='o', s=50, c='red')\n",
    "plt.title('Non-linearly Separable Data for Kernel Method')\n",
    "plt.show()\n",
    "fw.close()\n"
   ]
  },
  {
   "cell_type": "code",
   "execution_count": 27,
   "metadata": {},
   "outputs": [],
   "source": [
    "def testRbf(C, toler, maxIter, kTup =('rbf', 1.3)):\n",
    "    dataArr,labelArr = loadDataSet('testSetRBF.txt')\n",
    "    b,alphas = smoP(dataArr, labelArr,C, toler, maxIter,kTup) #C=200 important\n",
    "    datMat= np.mat(dataArr); labelMat = np.mat(labelArr).transpose()\n",
    "    svInd=np.nonzero(alphas.A>0)[0]\n",
    "    sVs=datMat[svInd] #get matrix of only support vectors\n",
    "    labelSV = labelMat[svInd];\n",
    "    print (\"there are %d Support Vectors\" % np.shape(sVs)[0])\n",
    "    m,n = np.shape(datMat)\n",
    "    errorCount = 0\n",
    "    for i in range(m):\n",
    "        kernelEval = kernelTrans(sVs,datMat[i,:],kTup)\n",
    "        predict=kernelEval.T * np.multiply(labelSV,alphas[svInd]) + b\n",
    "        if np.sign(predict)!= np.sign(labelArr[i]): \n",
    "            errorCount += 1\n",
    "    print (\"the training error rate is: %f\" % (float(errorCount)/m))\n",
    "    dataArr,labelArr = loadDataSet('testSetRBF2.txt')\n",
    "    errorCount = 0\n",
    "    datMat=np.mat(dataArr); labelMat = np.mat(labelArr).transpose()\n",
    "    m,n = np.shape(datMat)\n",
    "    for i in range(m):\n",
    "        kernelEval = kernelTrans(sVs,datMat[i,:],kTup)\n",
    "        predict=kernelEval.T * np.multiply(labelSV,alphas[svInd]) + b\n",
    "        if np.sign(predict)!=np.sign(labelArr[i]): errorCount += 1    \n",
    "    print (\"the test error rate is: %f\" % (float(errorCount)/m))\n",
    "    return dataArr,labelArr, b,alphas "
   ]
  },
  {
   "cell_type": "code",
   "execution_count": 28,
   "metadata": {},
   "outputs": [
    {
     "name": "stdout",
     "output_type": "stream",
     "text": [
      "there are 33 Support Vectors\n",
      "the training error rate is: 0.000000\n",
      "the test error rate is: 0.070000\n"
     ]
    }
   ],
   "source": [
    "dataArr,labelArr , b, alphas = testRbf(200, 0.0001, 10000,('rbf', 1.5))"
   ]
  },
  {
   "cell_type": "code",
   "execution_count": 29,
   "metadata": {},
   "outputs": [],
   "source": [
    "w, vetctors = calcWs(alphas, dataArr, labelArr)"
   ]
  },
  {
   "cell_type": "code",
   "execution_count": 30,
   "metadata": {},
   "outputs": [
    {
     "data": {
      "image/png": "[encoded data removed]",
      "text/plain": [
       "<Figure size 432x288 with 1 Axes>"
      ]
     },
     "metadata": {},
     "output_type": "display_data"
    }
   ],
   "source": [
    "m, n = np.shape(dataArr)\n",
    "for i in range(m):\n",
    "    if (labelArr[i] < 0):\n",
    "        xcord0.append(dataArr[i][0])\n",
    "        ycord0.append(dataArr[i][1])\n",
    "    else:\n",
    "        xcord1.append(dataArr[i][0])\n",
    "        ycord1.append(dataArr[i][1])\n",
    "\n",
    "fig = plt.figure()\n",
    "ax = fig.add_subplot(111)\n",
    "ax.scatter(xcord0,ycord0, marker='s', s=90, label = '-1')\n",
    "ax.scatter(xcord1,ycord1, marker='o', s=50, c='red', label = '+1')\n",
    "plt.title('Support Vectors Circled')\n",
    "for i in range(len(vetctors)):\n",
    "    circle = Circle(vetctors[i],0.1, facecolor='none', edgecolor=(0.2,0.5,0.2), linewidth=3, alpha=0.5)\n",
    "    ax.add_patch(circle)\n",
    "\n",
    "plt.legend(loc = 'upper left')\n",
    "plt.show()"
   ]
  },
  {
   "cell_type": "code",
   "execution_count": 31,
   "metadata": {},
   "outputs": [],
   "source": [
    "def img2vector(filename):\n",
    "    returnVect = np.zeros((1,1024))\n",
    "    fr = open(filename)\n",
    "    for i in range(32):\n",
    "        lineStr = fr.readline()\n",
    "        for j in range(32):\n",
    "            returnVect[0,32*i+j] = int(lineStr[j])\n",
    "    return returnVect"
   ]
  },
  {
   "cell_type": "code",
   "execution_count": 32,
   "metadata": {},
   "outputs": [],
   "source": [
    "# 借用第二章测测试用例\n",
    "def loadImages(dirName):\n",
    "    from os import listdir\n",
    "    hwLabels = []\n",
    "    trainingFileList = listdir(dirName)           #load the training set\n",
    "    m = len(trainingFileList)\n",
    "   \n",
    "    caseCount = 0\n",
    "    for i in range(m):\n",
    "        fileNameStr = trainingFileList[i]\n",
    "        fileStr = fileNameStr.split('.')[0]     #take off .txt\n",
    "        classNumStr = int(fileStr.split('_')[0])\n",
    "        if classNumStr == 9 or classNumStr == 1: \n",
    "            caseCount +=1\n",
    "\n",
    "    trainingMat = np.zeros((caseCount,1024))\n",
    "    caseCount = 0\n",
    "    for i in range(m):\n",
    "        fileNameStr = trainingFileList[i]\n",
    "        fileStr = fileNameStr.split('.')[0]     #take off .txt\n",
    "        classNumStr = int(fileStr.split('_')[0])\n",
    "        if classNumStr == 9: \n",
    "            hwLabels.append(-1)\n",
    "            trainingMat[caseCount,:] = img2vector('%s/%s' % (dirName, fileNameStr))\n",
    "            caseCount +=1\n",
    "        elif classNumStr == 1: \n",
    "            hwLabels.append(1)\n",
    "            trainingMat[caseCount,:] = img2vector('%s/%s' % (dirName, fileNameStr))\n",
    "            caseCount +=1\n",
    "            \n",
    "    return trainingMat, hwLabels    \n"
   ]
  },
  {
   "cell_type": "code",
   "execution_count": 33,
   "metadata": {},
   "outputs": [],
   "source": [
    "def testDigits(kTup=('rbf', 10)):\n",
    "    dataArr,labelArr = loadImages('../ch02/trainingDigits')\n",
    "    b,alphas = smoP(dataArr, labelArr, 200, 0.0001, 10000, kTup)\n",
    "    datMat= np.mat(dataArr); labelMat = np.mat(labelArr).transpose()\n",
    "    svInd= np.nonzero(alphas.A>0)[0]\n",
    "    sVs=datMat[svInd] \n",
    "    labelSV = labelMat[svInd];\n",
    "    print (\"there are %d Support Vectors\" % np.shape(sVs)[0])\n",
    "    m,n = np.shape(datMat)\n",
    "    errorCount = 0\n",
    "    for i in range(m):\n",
    "        kernelEval = kernelTrans(sVs,datMat[i,:],kTup)\n",
    "        predict=kernelEval.T * np.multiply(labelSV,alphas[svInd]) + b\n",
    "        if np.sign(predict)!=np.sign(labelArr[i]): errorCount += 1\n",
    "    print (\"the training error rate is: %f\" % (float(errorCount)/m))\n",
    "    dataArr,labelArr = loadImages('../ch02/testDigits')\n",
    "    errorCount = 0\n",
    "    datMat= np.mat(dataArr); labelMat = np.mat(labelArr).transpose()\n",
    "    m,n = np.shape(datMat)\n",
    "    for i in range(m):\n",
    "        kernelEval = kernelTrans(sVs,datMat[i,:],kTup)\n",
    "        predict=kernelEval.T * np.multiply(labelSV,alphas[svInd]) + b\n",
    "        if np.sign(predict)!=np.sign(labelArr[i]): errorCount += 1    \n",
    "    print (\"the test error rate is: %f\" % (float(errorCount)/m)) "
   ]
  },
  {
   "cell_type": "code",
   "execution_count": 34,
   "metadata": {},
   "outputs": [
    {
     "name": "stdout",
     "output_type": "stream",
     "text": [
      "there are 39 Support Vectors\n",
      "the training error rate is: 0.004975\n",
      "the test error rate is: 0.005376\n"
     ]
    }
   ],
   "source": [
    "testDigits(('lin', 10))"
   ]
  },
  {
   "cell_type": "code",
   "execution_count": 35,
   "metadata": {},
   "outputs": [
    {
     "name": "stdout",
     "output_type": "stream",
     "text": [
      "there are 147 Support Vectors\n",
      "the training error rate is: 0.000000\n",
      "the test error rate is: 0.010753\n"
     ]
    }
   ],
   "source": [
    "testDigits(('rbf', 10))"
   ]
  },
  {
   "cell_type": "code",
   "execution_count": null,
   "metadata": {},
   "outputs": [],
   "source": []
  }
 ],
 "metadata": {
  "kernelspec": {
   "display_name": "Python 3",
   "language": "python",
   "name": "python3"
  },
  "language_info": {
   "codemirror_mode": {
    "name": "ipython",
    "version": 3
   },
   "file_extension": ".py",
   "mimetype": "text/x-python",
   "name": "python",
   "nbconvert_exporter": "python",
   "pygments_lexer": "ipython3",
   "version": "3.6.5"
  }
 },
 "nbformat": 4,
 "nbformat_minor": 2
}
