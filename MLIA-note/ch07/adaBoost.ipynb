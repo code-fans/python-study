{
 "cells": [
  {
   "cell_type": "code",
   "execution_count": 1,
   "metadata": {},
   "outputs": [],
   "source": [
    "import numpy as np\n",
    "import operator\n",
    "import matplotlib\n",
    "import matplotlib.pyplot as plt"
   ]
  },
  {
   "cell_type": "code",
   "execution_count": 2,
   "metadata": {},
   "outputs": [],
   "source": [
    "def loadSimpData():\n",
    "    datMat = np.matrix([[ 1. ,  2.1],\n",
    "        [ 2. ,  1.1],\n",
    "        [ 1.3,  1. ],\n",
    "        [ 1. ,  1. ],\n",
    "        [ 2. ,  1. ]])\n",
    "    classLabels = [1.0, 1.0, -1.0, -1.0, 1.0]\n",
    "    return datMat,classLabels"
   ]
  },
  {
   "cell_type": "code",
   "execution_count": 3,
   "metadata": {},
   "outputs": [],
   "source": [
    "datMat,classLabels = loadSimpData()"
   ]
  },
  {
   "cell_type": "code",
   "execution_count": 4,
   "metadata": {},
   "outputs": [
    {
     "data": {
      "image/png": "[encoded data removed]",
      "text/plain": [
       "<Figure size 432x288 with 1 Axes>"
      ]
     },
     "metadata": {},
     "output_type": "display_data"
    }
   ],
   "source": [
    "xcord0 = []\n",
    "ycord0 = []\n",
    "xcord1 = []\n",
    "ycord1 = []\n",
    "\n",
    "for i in range(len(classLabels)):\n",
    "    if classLabels[i]==1.0:\n",
    "        xcord1.append(datMat[i,0]), ycord1.append(datMat[i,1])\n",
    "    else:\n",
    "        xcord0.append(datMat[i,0]), ycord0.append(datMat[i,1])\n",
    "fig = plt.figure()\n",
    "ax = fig.add_subplot(111)       \n",
    "ax.scatter(xcord0,ycord0, marker='s', s=90)\n",
    "ax.scatter(xcord1,ycord1, marker='o', s=50, c='red')\n",
    "plt.title('decision stump test data')\n",
    "plt.show()"
   ]
  },
  {
   "cell_type": "code",
   "execution_count": 5,
   "metadata": {},
   "outputs": [],
   "source": [
    "def stumpClassify(dataMatrix,dimen,threshVal,threshIneq):#just classify the data\n",
    "    retArray = np.ones((np.shape(dataMatrix)[0],1))\n",
    "    if threshIneq == 'lt':\n",
    "        retArray[dataMatrix[:,dimen] <= threshVal] = -1.0\n",
    "    else:\n",
    "        retArray[dataMatrix[:,dimen] > threshVal] = -1.0\n",
    "    return retArray"
   ]
  },
  {
   "cell_type": "code",
   "execution_count": 6,
   "metadata": {},
   "outputs": [],
   "source": [
    "def buildStump(dataArr,classLabels,D):\n",
    "    dataMatrix =np.mat(dataArr); labelMat = np.mat(classLabels).T\n",
    "    m,n = np.shape(dataMatrix)\n",
    "    numSteps = 10.0; \n",
    "    bestStump = {}; \n",
    "    bestClasEst = np.mat(np.zeros((m,1)))\n",
    "    minError = np.inf #init error sum, to +infinity\n",
    "    for i in range(n):#loop over all dimensions\n",
    "        rangeMin = dataMatrix[:,i].min(); \n",
    "        rangeMax = dataMatrix[:,i].max();\n",
    "        stepSize = (rangeMax-rangeMin)/numSteps\n",
    "        for j in range(-1,int(numSteps)+1):#loop over all range in current dimension\n",
    "            for inequal in ['lt', 'gt']: #go over less than and greater than\n",
    "                threshVal = (rangeMin + float(j) * stepSize)\n",
    "                #call stump classify with i, j, lessThan\n",
    "                predictedVals = stumpClassify(dataMatrix,i,threshVal,inequal)\n",
    "                errArr = np.mat(np.ones((m,1)))\n",
    "                errArr[predictedVals == labelMat] = 0\n",
    "                weightedError = D.T*errArr  #calc total error multiplied by D                \n",
    "                if weightedError < minError:\n",
    "                    #print(\"split: dim %d, thresh %.2f, thresh ineqal: %s, the weighted error is %.3f\" \\\n",
    "                    #   % (i, threshVal, inequal, weightedError))\n",
    "                    minError = weightedError\n",
    "                    bestClasEst = predictedVals.copy()\n",
    "                    bestStump['dim'] = i\n",
    "                    bestStump['thresh'] = threshVal\n",
    "                    bestStump['ineq'] = inequal\n",
    "                    # print(\"errArr:\", errArr.T)\n",
    "                    # print(\"bestClasEst:\", bestClasEst.T)\n",
    "    return bestStump,minError,bestClasEst"
   ]
  },
  {
   "cell_type": "code",
   "execution_count": 7,
   "metadata": {},
   "outputs": [],
   "source": [
    "D = np.mat(np.ones((5,1)) / 5.0) #所有向量之和=1\n",
    "bestStump,minError,bestClasEst = buildStump(datMat,classLabels,D)"
   ]
  },
  {
   "cell_type": "code",
   "execution_count": 8,
   "metadata": {},
   "outputs": [
    {
     "data": {
      "text/plain": [
       "({'dim': 0, 'thresh': 1.3, 'ineq': 'lt'}, matrix([[0.2]]), array([[-1.],\n",
       "        [ 1.],\n",
       "        [-1.],\n",
       "        [-1.],\n",
       "        [ 1.]]))"
      ]
     },
     "execution_count": 8,
     "metadata": {},
     "output_type": "execute_result"
    }
   ],
   "source": [
    "bestStump,minError,bestClasEst"
   ]
  },
  {
   "cell_type": "code",
   "execution_count": 9,
   "metadata": {},
   "outputs": [],
   "source": [
    "def adaBoostTrainDS(dataArr,classLabels,numIt=40):\n",
    "    weakClassArr = []\n",
    "    m = np.shape(dataArr)[0]\n",
    "    D = np.mat(np.ones((m,1))/m)   #init D to all equal\n",
    "    aggClassEst = np.mat(np.zeros((m,1)))\n",
    "    errorRate = 0.0\n",
    "    for i in range(numIt):\n",
    "        bestStump,error,classEst = buildStump(dataArr,classLabels,D)#build Stump\n",
    "        #print \"D:\",D.T\n",
    "        #calc alpha, throw in max(error,eps) to account for error=0\n",
    "        alpha = float(0.5*np.log((1.0-error)/max(error,1e-16)))\n",
    "        bestStump['alpha'] = alpha  \n",
    "        weakClassArr.append(bestStump)                  #store Stump Params in Array\n",
    "        #print \"classEst: \",classEst.T\n",
    "        expon = np.multiply(-1*alpha*np.mat(classLabels).T,classEst) #exponent for D calc, getting messy\n",
    "        D = np.multiply(D,np.exp(expon))                              #Calc New D for next iteration\n",
    "        D = D/D.sum()\n",
    "        # print(\"D:\", D.T)\n",
    "        #calc training error of all classifiers, if this is 0 quit for loop early (use break)\n",
    "        aggClassEst += alpha*classEst\n",
    "        # print(\"aggClassEst:\", aggClassEst.T)\n",
    "        #print \"aggClassEst: \",aggClassEst.T\n",
    "        aggErrors = np.multiply(np.sign(aggClassEst) != np.mat(classLabels).T,np.ones((m,1)))\n",
    "        errorRate = aggErrors.sum()/m\n",
    "        print (\"total error: \",errorRate)\n",
    "        if errorRate == 0.0: break\n",
    "    return weakClassArr, aggClassEst, errorRate "
   ]
  },
  {
   "cell_type": "code",
   "execution_count": 10,
   "metadata": {},
   "outputs": [
    {
     "name": "stdout",
     "output_type": "stream",
     "text": [
      "total error:  0.2\n",
      "total error:  0.2\n",
      "total error:  0.0\n"
     ]
    },
    {
     "data": {
      "text/plain": [
       "([{'dim': 0, 'thresh': 1.3, 'ineq': 'lt', 'alpha': 0.6931471805599453},\n",
       "  {'dim': 1, 'thresh': 1.0, 'ineq': 'lt', 'alpha': 0.9729550745276565},\n",
       "  {'dim': 0, 'thresh': 0.9, 'ineq': 'lt', 'alpha': 0.8958797346140273}],\n",
       " matrix([[ 1.17568763],\n",
       "         [ 2.56198199],\n",
       "         [-0.77022252],\n",
       "         [-0.77022252],\n",
       "         [ 0.61607184]]),\n",
       " 0.0)"
      ]
     },
     "execution_count": 10,
     "metadata": {},
     "output_type": "execute_result"
    }
   ],
   "source": [
    "weakClassArr,aggClassEst,errorRate = adaBoostTrainDS(datMat, classLabels, 4)\n",
    "weakClassArr,aggClassEst,errorRate"
   ]
  },
  {
   "cell_type": "code",
   "execution_count": 11,
   "metadata": {},
   "outputs": [],
   "source": [
    "def adaClassify(datToClass,classifierArr):\n",
    "    dataMatrix = np.mat(datToClass)#do stuff similar to last aggClassEst in adaBoostTrainDS\n",
    "    m = np.shape(dataMatrix)[0]\n",
    "    aggClassEst = np.mat(np.zeros((m,1))) \n",
    "    for i in range(len(classifierArr)):\n",
    "        classEst = stumpClassify(dataMatrix,classifierArr[i]['dim'],\\\n",
    "                                 classifierArr[i]['thresh'],\\\n",
    "                                 classifierArr[i]['ineq'])#call stump classify\n",
    "        aggClassEst += classifierArr[i]['alpha']*classEst #分类估计值的加权累加和\n",
    "        #print aggClassEst\n",
    "    return np.sign(aggClassEst)"
   ]
  },
  {
   "cell_type": "code",
   "execution_count": 12,
   "metadata": {},
   "outputs": [
    {
     "data": {
      "text/plain": [
       "matrix([[ 1.],\n",
       "        [-1.]])"
      ]
     },
     "execution_count": 12,
     "metadata": {},
     "output_type": "execute_result"
    }
   ],
   "source": [
    "pred = adaClassify([[2,1.8],[1.1,1]],weakClassArr)\n",
    "pred"
   ]
  },
  {
   "cell_type": "code",
   "execution_count": 13,
   "metadata": {},
   "outputs": [],
   "source": [
    "def loadDataSet(fileName):      #general function to parse tab -delimited floats\n",
    "    numFeat = len(open(fileName).readline().split('\\t')) #get number of fields \n",
    "    dataMat = []; labelMat = []\n",
    "    fr = open(fileName)\n",
    "    for line in fr.readlines():\n",
    "        lineArr =[]\n",
    "        curLine = line.strip().split('\\t')\n",
    "        for i in range(numFeat-1):\n",
    "            lineArr.append(float(curLine[i]))\n",
    "        dataMat.append(lineArr)\n",
    "        labelMat.append(float(curLine[-1]))\n",
    "    return dataMat,labelMat"
   ]
  },
  {
   "cell_type": "code",
   "execution_count": 14,
   "metadata": {},
   "outputs": [
    {
     "name": "stdout",
     "output_type": "stream",
     "text": [
      "total error:  0.2842809364548495\n",
      "total error:  0.2842809364548495\n",
      "total error:  0.24749163879598662\n",
      "total error:  0.24749163879598662\n",
      "total error:  0.25418060200668896\n",
      "total error:  0.2408026755852843\n",
      "total error:  0.2408026755852843\n",
      "total error:  0.22073578595317725\n",
      "total error:  0.24749163879598662\n",
      "total error:  0.23076923076923078\n",
      "total error:  0.2408026755852843\n",
      "total error:  0.2140468227424749\n",
      "total error:  0.22742474916387959\n",
      "total error:  0.21739130434782608\n",
      "total error:  0.22073578595317725\n",
      "total error:  0.21739130434782608\n",
      "total error:  0.22408026755852842\n",
      "total error:  0.22408026755852842\n",
      "total error:  0.23076923076923078\n",
      "total error:  0.22408026755852842\n",
      "total error:  0.2140468227424749\n",
      "total error:  0.20735785953177258\n",
      "total error:  0.22408026755852842\n",
      "total error:  0.22408026755852842\n",
      "total error:  0.2140468227424749\n",
      "total error:  0.22073578595317725\n",
      "total error:  0.2040133779264214\n",
      "total error:  0.20735785953177258\n",
      "total error:  0.21070234113712374\n",
      "total error:  0.21739130434782608\n",
      "total error:  0.21070234113712374\n",
      "total error:  0.21739130434782608\n",
      "total error:  0.20735785953177258\n",
      "total error:  0.21070234113712374\n",
      "total error:  0.20735785953177258\n",
      "total error:  0.20735785953177258\n",
      "total error:  0.19732441471571907\n",
      "total error:  0.19063545150501673\n",
      "total error:  0.20066889632107024\n",
      "total error:  0.19732441471571907\n",
      "total error:  0.20066889632107024\n",
      "total error:  0.1939799331103679\n",
      "total error:  0.1939799331103679\n",
      "total error:  0.19063545150501673\n",
      "total error:  0.18729096989966554\n",
      "total error:  0.19063545150501673\n",
      "total error:  0.19063545150501673\n",
      "total error:  0.18729096989966554\n",
      "total error:  0.1939799331103679\n",
      "total error:  0.18729096989966554\n"
     ]
    },
    {
     "data": {
      "text/plain": [
       "([{'dim': 9, 'thresh': 3.0, 'ineq': 'gt', 'alpha': 0.4616623792657674},\n",
       "  {'dim': 17, 'thresh': 52.5, 'ineq': 'gt', 'alpha': 0.31248245042467104},\n",
       "  {'dim': 3,\n",
       "   'thresh': 55.199999999999996,\n",
       "   'ineq': 'gt',\n",
       "   'alpha': 0.2868097320169577},\n",
       "  {'dim': 18,\n",
       "   'thresh': 62.300000000000004,\n",
       "   'ineq': 'lt',\n",
       "   'alpha': 0.23297004638939506},\n",
       "  {'dim': 10, 'thresh': 0.0, 'ineq': 'lt', 'alpha': 0.19803846151213741},\n",
       "  {'dim': 5, 'thresh': 2.0, 'ineq': 'gt', 'alpha': 0.18847887349020634},\n",
       "  {'dim': 12, 'thresh': 1.2, 'ineq': 'lt', 'alpha': 0.15227368997476778},\n",
       "  {'dim': 7, 'thresh': 1.2, 'ineq': 'gt', 'alpha': 0.15510870821690512},\n",
       "  {'dim': 5, 'thresh': 0.0, 'ineq': 'lt', 'alpha': 0.13536197353359405},\n",
       "  {'dim': 4,\n",
       "   'thresh': 28.799999999999997,\n",
       "   'ineq': 'lt',\n",
       "   'alpha': 0.12521587326132078},\n",
       "  {'dim': 11, 'thresh': 2.0, 'ineq': 'gt', 'alpha': 0.1334764812820767},\n",
       "  {'dim': 9, 'thresh': 4.0, 'ineq': 'lt', 'alpha': 0.1418224325377107},\n",
       "  {'dim': 14, 'thresh': 0.0, 'ineq': 'gt', 'alpha': 0.10264268449708028},\n",
       "  {'dim': 0, 'thresh': 1.0, 'ineq': 'lt', 'alpha': 0.11883732872109484},\n",
       "  {'dim': 4, 'thresh': 19.2, 'ineq': 'gt', 'alpha': 0.09879216527106625},\n",
       "  {'dim': 2, 'thresh': 36.72, 'ineq': 'lt', 'alpha': 0.12029960885056867},\n",
       "  {'dim': 3, 'thresh': 92.0, 'ineq': 'lt', 'alpha': 0.10846927663989175},\n",
       "  {'dim': 15, 'thresh': 0.0, 'ineq': 'lt', 'alpha': 0.09652967982091411},\n",
       "  {'dim': 3, 'thresh': 73.6, 'ineq': 'gt', 'alpha': 0.08958515309272022},\n",
       "  {'dim': 18, 'thresh': 8.9, 'ineq': 'lt', 'alpha': 0.09210361961272426},\n",
       "  {'dim': 16, 'thresh': 4.0, 'ineq': 'gt', 'alpha': 0.10464142217079622},\n",
       "  {'dim': 11, 'thresh': 3.2, 'ineq': 'lt', 'alpha': 0.09575457291711606},\n",
       "  {'dim': 20, 'thresh': 0.0, 'ineq': 'gt', 'alpha': 0.09624217440331524},\n",
       "  {'dim': 17, 'thresh': 37.5, 'ineq': 'lt', 'alpha': 0.0785966288518967},\n",
       "  {'dim': 9, 'thresh': 2.0, 'ineq': 'lt', 'alpha': 0.0714286363455072},\n",
       "  {'dim': 5, 'thresh': 2.0, 'ineq': 'gt', 'alpha': 0.07830753154662214},\n",
       "  {'dim': 4,\n",
       "   'thresh': 28.799999999999997,\n",
       "   'ineq': 'lt',\n",
       "   'alpha': 0.07606159074712784},\n",
       "  {'dim': 4, 'thresh': 19.2, 'ineq': 'gt', 'alpha': 0.08306752811081955},\n",
       "  {'dim': 7, 'thresh': 4.2, 'ineq': 'gt', 'alpha': 0.0830416741141175},\n",
       "  {'dim': 3, 'thresh': 92.0, 'ineq': 'lt', 'alpha': 0.08893356802801224},\n",
       "  {'dim': 14, 'thresh': 3.0, 'ineq': 'gt', 'alpha': 0.07000509315417908},\n",
       "  {'dim': 7,\n",
       "   'thresh': 5.3999999999999995,\n",
       "   'ineq': 'lt',\n",
       "   'alpha': 0.07697582358565964},\n",
       "  {'dim': 18, 'thresh': 0.0, 'ineq': 'lt', 'alpha': 0.08507457442866707},\n",
       "  {'dim': 5, 'thresh': 3.2, 'ineq': 'lt', 'alpha': 0.0676590387302069},\n",
       "  {'dim': 7, 'thresh': 3.0, 'ineq': 'gt', 'alpha': 0.08045680822237049},\n",
       "  {'dim': 12, 'thresh': 1.2, 'ineq': 'lt', 'alpha': 0.05616862921969557},\n",
       "  {'dim': 11, 'thresh': 2.0, 'ineq': 'gt', 'alpha': 0.06454264376249863},\n",
       "  {'dim': 7,\n",
       "   'thresh': 5.3999999999999995,\n",
       "   'ineq': 'lt',\n",
       "   'alpha': 0.05308888435382875},\n",
       "  {'dim': 11, 'thresh': 0.0, 'ineq': 'lt', 'alpha': 0.0734605861478849},\n",
       "  {'dim': 13, 'thresh': 0.0, 'ineq': 'gt', 'alpha': 0.07872267320907414},\n",
       "  {'dim': 1, 'thresh': 1.0, 'ineq': 'gt', 'alpha': 0.0549987322783269},\n",
       "  {'dim': 4,\n",
       "   'thresh': 86.39999999999999,\n",
       "   'ineq': 'lt',\n",
       "   'alpha': 0.05629427842832903},\n",
       "  {'dim': 3, 'thresh': 36.8, 'ineq': 'lt', 'alpha': 0.05918768113587808},\n",
       "  {'dim': 3,\n",
       "   'thresh': 55.199999999999996,\n",
       "   'ineq': 'gt',\n",
       "   'alpha': 0.056570489276912196},\n",
       "  {'dim': 4,\n",
       "   'thresh': 28.799999999999997,\n",
       "   'ineq': 'lt',\n",
       "   'alpha': 0.04837989711806805},\n",
       "  {'dim': 4, 'thresh': 19.2, 'ineq': 'gt', 'alpha': 0.05218464392995671},\n",
       "  {'dim': 4, 'thresh': 0.0, 'ineq': 'lt', 'alpha': 0.05449217157186812},\n",
       "  {'dim': 15, 'thresh': 2.0, 'ineq': 'lt', 'alpha': 0.05023542588085874},\n",
       "  {'dim': 13, 'thresh': 1.2, 'ineq': 'gt', 'alpha': 0.05092422794490993},\n",
       "  {'dim': 7,\n",
       "   'thresh': 5.3999999999999995,\n",
       "   'ineq': 'lt',\n",
       "   'alpha': 0.053941058098776085}],\n",
       " 0.0)"
      ]
     },
     "execution_count": 14,
     "metadata": {},
     "output_type": "execute_result"
    }
   ],
   "source": [
    "dataArr,dataLabel = loadDataSet('horseColicTraining2.txt')\n",
    "weakClassArr, aggClassEst, errorRate1 = adaBoostTrainDS(dataArr, dataLabel, 50)\n",
    "weakClassArr, errorRate"
   ]
  },
  {
   "cell_type": "code",
   "execution_count": 15,
   "metadata": {},
   "outputs": [
    {
     "data": {
      "text/plain": [
       "(14, 0.208955223880597)"
      ]
     },
     "execution_count": 15,
     "metadata": {},
     "output_type": "execute_result"
    }
   ],
   "source": [
    "testArr,testLabel = loadDataSet('horseColicTest2.txt')\n",
    "pred1 = adaClassify(testArr,weakClassArr)\n",
    "testError = np.sum(pred1.A.ravel() != np.array(testLabel))\n",
    "testError , testError / np.shape(testArr)[0] "
   ]
  },
  {
   "cell_type": "code",
   "execution_count": 16,
   "metadata": {},
   "outputs": [],
   "source": [
    "def plotROC(predStrengths, classLabels):\n",
    "    import matplotlib.pyplot as plt\n",
    "    cur = (1.0,1.0) #cursor\n",
    "    ySum = 0.0 #variable to calculate AUC\n",
    "    numPosClas = sum(np.array(classLabels)==1.0)\n",
    "    yStep = 1/float(numPosClas); xStep = 1/float(len(classLabels)-numPosClas)\n",
    "    sortedIndicies = predStrengths.argsort()#get sorted index, it's reverse\n",
    "    fig = plt.figure()\n",
    "    fig.clf()\n",
    "    ax = plt.subplot(111)\n",
    "    #loop through all the values, drawing a line segment at each point\n",
    "    for index in sortedIndicies.tolist()[0]:\n",
    "        if classLabels[index] == 1.0:\n",
    "            delX = 0; delY = yStep;\n",
    "        else:\n",
    "            delX = xStep; delY = 0;\n",
    "            ySum += cur[1]\n",
    "        #draw line from cur to (cur[0]-delX,cur[1]-delY)\n",
    "        ax.plot([cur[0],cur[0]-delX],[cur[1],cur[1]-delY], c='b')\n",
    "        cur = (cur[0]-delX,cur[1]-delY)\n",
    "    ax.plot([0,1],[0,1],'b--')\n",
    "    plt.xlabel('False positive rate'); plt.ylabel('True positive rate')\n",
    "    plt.title('ROC curve for AdaBoost horse colic detection system')\n",
    "    ax.axis([0,1,0,1])\n",
    "    plt.show()\n",
    "    print (\"the Area Under the Curve is: \",ySum*xStep)\n"
   ]
  },
  {
   "cell_type": "code",
   "execution_count": 17,
   "metadata": {},
   "outputs": [
    {
     "data": {
      "image/png": "[encoded data removed]",
      "text/plain": [
       "<Figure size 432x288 with 1 Axes>"
      ]
     },
     "metadata": {},
     "output_type": "display_data"
    },
    {
     "name": "stdout",
     "output_type": "stream",
     "text": [
      "the Area Under the Curve is:  0.8953941870182941\n"
     ]
    }
   ],
   "source": [
    "plotROC(aggClassEst.T, dataLabel)"
   ]
  },
  {
   "cell_type": "code",
   "execution_count": null,
   "metadata": {},
   "outputs": [],
   "source": []
  }
 ],
 "metadata": {
  "kernelspec": {
   "display_name": "Python 3",
   "language": "python",
   "name": "python3"
  },
  "language_info": {
   "codemirror_mode": {
    "name": "ipython",
    "version": 3
   },
   "file_extension": ".py",
   "mimetype": "text/x-python",
   "name": "python",
   "nbconvert_exporter": "python",
   "pygments_lexer": "ipython3",
   "version": "3.6.5"
  }
 },
 "nbformat": 4,
 "nbformat_minor": 2
}
