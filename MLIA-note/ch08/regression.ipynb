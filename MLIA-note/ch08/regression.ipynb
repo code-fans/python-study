{
 "cells": [
  {
   "cell_type": "code",
   "execution_count": 1,
   "metadata": {},
   "outputs": [],
   "source": [
    "import numpy as np\n",
    "import operator\n",
    "import matplotlib\n",
    "import matplotlib.pyplot as plt"
   ]
  },
  {
   "cell_type": "code",
   "execution_count": 2,
   "metadata": {},
   "outputs": [],
   "source": [
    "def loadDataSet(fileName):      #general function to parse tab -delimited floats\n",
    "    numFeat = len(open(fileName).readline().split('\\t')) - 1 #get number of fields \n",
    "    dataMat = []; \n",
    "    labelMat = []\n",
    "    fr = open(fileName)\n",
    "    for line in fr.readlines():\n",
    "        lineArr =[]\n",
    "        curLine = line.strip().split('\\t')\n",
    "        for i in range(numFeat):\n",
    "            lineArr.append(float(curLine[i]))\n",
    "        dataMat.append(lineArr)\n",
    "        labelMat.append(float(curLine[-1]))\n",
    "    return dataMat,labelMat"
   ]
  },
  {
   "cell_type": "code",
   "execution_count": 3,
   "metadata": {},
   "outputs": [],
   "source": [
    "xArr,yArr = loadDataSet(\"ex0.txt\")"
   ]
  },
  {
   "cell_type": "code",
   "execution_count": 4,
   "metadata": {},
   "outputs": [],
   "source": [
    "def plot_line(xArr, yArr, w):\n",
    "    x = np.array(xArr)\n",
    "    plt.scatter(x[:,1], yArr,marker='.',color = 'r')\n",
    "    if any(w) :\n",
    "        plt.plot(x[:,1],x.dot(w),color = \"blue\",linestyle = \"-\")\n",
    "    plt.xlabel('x')\n",
    "    plt.ylabel('y')\n",
    "    plt.title('Line regression')\n",
    "    plt.show()"
   ]
  },
  {
   "cell_type": "code",
   "execution_count": 5,
   "metadata": {},
   "outputs": [],
   "source": [
    "def plot_line2(xArr, yArr, y):\n",
    "    x = np.array(xArr)\n",
    "    plt.scatter(x[:,1], yArr,marker='.',color = 'r')\n",
    "    if any(y) :\n",
    "        srtIndex = x[:,1].argsort(0)\n",
    "        x_sort = x[srtIndex]\n",
    "        plt.plot(x_sort[:,1],y[srtIndex],color = \"blue\",linestyle = \"-\")\n",
    "    plt.xlabel('x')\n",
    "    plt.ylabel('y')\n",
    "    plt.title('Line regression')\n",
    "    plt.show()"
   ]
  },
  {
   "cell_type": "code",
   "execution_count": 6,
   "metadata": {},
   "outputs": [
    {
     "data": {
      "image/png": "[encoded data removed]",
      "text/plain": [
       "<Figure size 432x288 with 1 Axes>"
      ]
     },
     "metadata": {},
     "output_type": "display_data"
    }
   ],
   "source": [
    "plot_line(xArr,yArr, {})"
   ]
  },
  {
   "cell_type": "code",
   "execution_count": 7,
   "metadata": {},
   "outputs": [],
   "source": [
    "def standRegres(xArr,yArr):\n",
    "    xMat = np.mat(xArr); \n",
    "    yMat = np.mat(yArr).T\n",
    "    xTx = xMat.T*xMat\n",
    "    # det 求矩阵的行列式，如果行列式为0 矩阵就不可逆\n",
    "    if np.linalg.det(xTx) == 0.0:\n",
    "        print (\"This matrix is singular, cannot do inverse\")\n",
    "        return\n",
    "    # 这个公式对应周志华 机器学习中的 公式 3.11 (T(X)X)^-1(T(X)y)\n",
    "    # 这个和 gradAscent 应该式等价的，logic regress中是用梯度法，这个是直接求解\n",
    "    ws = np.linalg.solve(xTx, xMat.T*yMat)\n",
    "    #ws = xTx.I * (xMat.T*yMat)\n",
    "    return ws"
   ]
  },
  {
   "cell_type": "code",
   "execution_count": 8,
   "metadata": {},
   "outputs": [],
   "source": [
    "w = standRegres(xArr,yArr)"
   ]
  },
  {
   "cell_type": "code",
   "execution_count": 9,
   "metadata": {},
   "outputs": [
    {
     "data": {
      "text/plain": [
       "array([[3.00774324],\n",
       "       [1.69532264]])"
      ]
     },
     "execution_count": 9,
     "metadata": {},
     "output_type": "execute_result"
    }
   ],
   "source": [
    "w.A"
   ]
  },
  {
   "cell_type": "code",
   "execution_count": 10,
   "metadata": {},
   "outputs": [
    {
     "data": {
      "image/png": "[encoded data removed]",
      "text/plain": [
       "<Figure size 432x288 with 1 Axes>"
      ]
     },
     "metadata": {},
     "output_type": "display_data"
    }
   ],
   "source": [
    "plot_line(xArr,yArr,w.A)"
   ]
  },
  {
   "cell_type": "code",
   "execution_count": 11,
   "metadata": {},
   "outputs": [
    {
     "data": {
      "text/plain": [
       "array([[1.        , 0.98647356],\n",
       "       [0.98647356, 1.        ]])"
      ]
     },
     "execution_count": 11,
     "metadata": {},
     "output_type": "execute_result"
    }
   ],
   "source": [
    "yHat = np.array(xArr).dot(w.A)\n",
    "#np.corrcoef(yHat.T[0],yArr)\n",
    "np.corrcoef(yHat.ravel(),yArr)"
   ]
  },
  {
   "cell_type": "code",
   "execution_count": 12,
   "metadata": {},
   "outputs": [],
   "source": [
    "# 这个方法是从 第5节中 抄来的，修改了第13行，去掉了 sigmoid 函数调用 \n",
    "def lineRegression(dataMatIn, classLabels):\n",
    "    dataMatrix = np.mat(dataMatIn)             #convert to NumPy matrix\n",
    "    labelMat = np.mat(classLabels).transpose() #convert to NumPy matrix\n",
    "    m,n = np.shape(dataMatrix)\n",
    "    alpha = 0.001\n",
    "    maxCycles = 5000\n",
    "    weights = np.ones((n,1))\n",
    "    minE = m * 0.01 # 如果误差足够小就停止\n",
    "    # 这应该不是一个好的停止条件\n",
    "    # 好的停止条件应该是 weights 的变化小于一定的数值，weights 收敛\n",
    "    for k in range(maxCycles):     #heavy on matrix operations\n",
    "        h = dataMatrix*weights     # sigmoid\n",
    "        # error就是 戴尔塔 f(x,y)\n",
    "        error = (labelMat - h) \n",
    "        totalError = sum(abs(error))        \n",
    "        #vector subtraction\n",
    "        if totalError < minE : \n",
    "            print(k, totalError)\n",
    "            break;\n",
    "        # dataMatrix.transpose()* error \n",
    "        # 这个公式对应周志华 机器学习中的 公式 3.10 T(X)(X*W-y)\n",
    "        weights = weights + alpha * dataMatrix.transpose()* error #matrix mult\n",
    "    return weights"
   ]
  },
  {
   "cell_type": "code",
   "execution_count": 13,
   "metadata": {},
   "outputs": [
    {
     "data": {
      "text/plain": [
       "array([[3.00774324],\n",
       "       [1.69532264]])"
      ]
     },
     "execution_count": 13,
     "metadata": {},
     "output_type": "execute_result"
    }
   ],
   "source": [
    "w2 = lineRegression(xArr,yArr)\n",
    "w2.A"
   ]
  },
  {
   "cell_type": "code",
   "execution_count": 14,
   "metadata": {},
   "outputs": [
    {
     "data": {
      "image/png": "[encoded data removed]",
      "text/plain": [
       "<Figure size 432x288 with 1 Axes>"
      ]
     },
     "metadata": {},
     "output_type": "display_data"
    }
   ],
   "source": [
    "plot_line(xArr,yArr,w2.A)"
   ]
  },
  {
   "cell_type": "code",
   "execution_count": 15,
   "metadata": {},
   "outputs": [],
   "source": [
    "def lwlr(testPoint,xArr,yArr,k=1.0):\n",
    "    xMat = np.mat(xArr); yMat = np.mat(yArr).T\n",
    "    m = np.shape(xMat)[0]\n",
    "    weights = np.mat(np.eye((m)))\n",
    "    for j in range(m):                      #next 2 lines create weights matrix\n",
    "        diffMat = testPoint - xMat[j,:]     #\n",
    "        weights[j,j] = np.exp(diffMat*diffMat.T/(-2.0*k**2))\n",
    "    xTx = xMat.T * (weights * xMat)\n",
    "    if np.linalg.det(xTx) == 0.0:\n",
    "        print (\"This matrix is singular, cannot do inverse\")\n",
    "        return\n",
    "    ws = xTx.I * (xMat.T * (weights * yMat))\n",
    "    return testPoint * ws"
   ]
  },
  {
   "cell_type": "code",
   "execution_count": 16,
   "metadata": {},
   "outputs": [],
   "source": [
    "def lwlrTest(testArr,xArr,yArr,k=1.0):  #loops over all the data points and applies lwlr to each one\n",
    "    m = np.shape(testArr)[0]\n",
    "    yHat = np.zeros(m)\n",
    "    for i in range(m):\n",
    "        yHat[i] = lwlr(testArr[i],xArr,yArr,k)\n",
    "    return yHat"
   ]
  },
  {
   "cell_type": "code",
   "execution_count": 17,
   "metadata": {},
   "outputs": [],
   "source": [
    "# 调整k的值，k越大越光滑，大于1就是一条直线\n",
    "yHat = lwlrTest(xArr,xArr,yArr,0.005)"
   ]
  },
  {
   "cell_type": "code",
   "execution_count": 18,
   "metadata": {},
   "outputs": [
    {
     "data": {
      "image/png": "[encoded data removed]",
      "text/plain": [
       "<Figure size 432x288 with 1 Axes>"
      ]
     },
     "metadata": {},
     "output_type": "display_data"
    }
   ],
   "source": [
    "plot_line2(xArr, yArr, yHat)"
   ]
  },
  {
   "cell_type": "code",
   "execution_count": 19,
   "metadata": {},
   "outputs": [],
   "source": [
    "def rssError(yArr,yHatArr): #yArr and yHatArr both need to be arrays\n",
    "    return ((yArr-yHatArr)**2).sum()"
   ]
  },
  {
   "cell_type": "code",
   "execution_count": 20,
   "metadata": {},
   "outputs": [],
   "source": [
    "abX,abY = loadDataSet(\"abalone.txt\")"
   ]
  },
  {
   "cell_type": "code",
   "execution_count": 21,
   "metadata": {},
   "outputs": [
    {
     "data": {
      "text/plain": [
       "(56.78420911835284, 429.89056187031645, 549.11817088261)"
      ]
     },
     "execution_count": 21,
     "metadata": {},
     "output_type": "execute_result"
    }
   ],
   "source": [
    "yHat01 = lwlrTest(abX[0:99],abX[0:99],abY[0:99],0.1)\n",
    "yHat1 = lwlrTest(abX[0:99],abX[0:99],abY[0:99],1)\n",
    "yHat10 = lwlrTest(abX[0:99],abX[0:99],abY[0:99],10)\n",
    "rssError(abY[0:99],yHat01.T),rssError(abY[0:99],yHat1.T),rssError(abY[0:99],yHat10.T)"
   ]
  },
  {
   "cell_type": "code",
   "execution_count": 22,
   "metadata": {},
   "outputs": [
    {
     "data": {
      "text/plain": [
       "(25119.45911115727, 573.5261441897086, 517.5711905382024)"
      ]
     },
     "execution_count": 22,
     "metadata": {},
     "output_type": "execute_result"
    }
   ],
   "source": [
    "yHat01 = lwlrTest(abX[100:199],abX[0:99],abY[0:99],0.1)\n",
    "yHat1 = lwlrTest(abX[100:199],abX[0:99],abY[0:99],1)\n",
    "yHat10 = lwlrTest(abX[100:199],abX[0:99],abY[0:99],10)\n",
    "rssError(abY[100:199],yHat01.T),rssError(abY[100:199],yHat1.T),rssError(abY[100:199],yHat10.T)"
   ]
  },
  {
   "cell_type": "code",
   "execution_count": 23,
   "metadata": {},
   "outputs": [],
   "source": [
    "def ridgeRegres(xMat,yMat,lam=0.2):\n",
    "    xTx = xMat.T*xMat\n",
    "    denom = xTx + np.eye(np.shape(xMat)[1])*lam\n",
    "    if np.linalg.det(denom) == 0.0:\n",
    "        print (\"This matrix is singular, cannot do inverse\")\n",
    "        return\n",
    "    ws = denom.I * (xMat.T*yMat)\n",
    "    return ws"
   ]
  },
  {
   "cell_type": "code",
   "execution_count": 24,
   "metadata": {},
   "outputs": [],
   "source": [
    "def ridgeTest(xArr,yArr):\n",
    "    xMat = np.mat(xArr);\n",
    "    yMat=np.mat(yArr).T\n",
    "    yMean = np.mean(yMat,0)\n",
    "    yMat = yMat - yMean     #to eliminate X0 take mean off of Y\n",
    "    #regularize X's\n",
    "    xMeans = np.mean(xMat,0)   #calc mean then subtract it off\n",
    "    xVar = np.var(xMat,0)      #calc variance of Xi then divide by it\n",
    "    xMat = (xMat - xMeans)/xVar\n",
    "    numTestPts = 30\n",
    "    wMat = np.zeros((numTestPts,np.shape(xMat)[1]))\n",
    "    for i in range(numTestPts):\n",
    "        ws = ridgeRegres(xMat,yMat,np.exp(i-10))\n",
    "        wMat[i,:]=ws.T\n",
    "    return wMat"
   ]
  },
  {
   "cell_type": "code",
   "execution_count": 25,
   "metadata": {},
   "outputs": [],
   "source": [
    "ridgeWeight = ridgeTest(abX,abY)"
   ]
  },
  {
   "cell_type": "code",
   "execution_count": 26,
   "metadata": {},
   "outputs": [
    {
     "data": {
      "image/png": "[encoded data removed]",
      "text/plain": [
       "<Figure size 432x288 with 1 Axes>"
      ]
     },
     "metadata": {},
     "output_type": "display_data"
    }
   ],
   "source": [
    "fig = plt.figure()\n",
    "ax = fig.add_subplot(111)\n",
    "ax.plot([i-10 for i in range(30)], ridgeWeight)\n",
    "plt.xlabel(\"log(lamda)\")\n",
    "plt.ylabel(\"w1-8\")\n",
    "plt.title(\"Ridge Regres\")\n",
    "plt.show()"
   ]
  },
  {
   "cell_type": "code",
   "execution_count": 27,
   "metadata": {},
   "outputs": [
    {
     "data": {
      "text/plain": [
       "(30, 8)"
      ]
     },
     "execution_count": 27,
     "metadata": {},
     "output_type": "execute_result"
    }
   ],
   "source": [
    "np.shape(ridgeWeight)"
   ]
  },
  {
   "cell_type": "code",
   "execution_count": 28,
   "metadata": {},
   "outputs": [],
   "source": [
    "def regularize(xMat):#regularize by columns\n",
    "    inMat = xMat.copy()\n",
    "    inMeans = np.mean(inMat,0)   #calc mean then subtract it off\n",
    "    inVar = np.var(inMat,0)      #calc variance of Xi then divide by it\n",
    "    # 均值为0 方差为1\n",
    "    inMat = (inMat - inMeans)/inVar\n",
    "    return inMat"
   ]
  },
  {
   "cell_type": "code",
   "execution_count": 29,
   "metadata": {},
   "outputs": [],
   "source": [
    "def stageWise(xArr,yArr,eps=0.01,numIt=100):\n",
    "    xMat = np.mat(xArr); \n",
    "    yMat=np.mat(yArr).T\n",
    "    yMean = np.mean(yMat,0)\n",
    "    #can also regularize ys but will get smaller coef\n",
    "    yMat = yMat - yMean     \n",
    "    xMat = regularize(xMat)\n",
    "    m,n= np.shape(xMat)\n",
    "    returnMat = np.zeros((numIt,n)) #testing code remove\n",
    "    ws = np.zeros((n,1)); \n",
    "    wsTest = ws.copy(); \n",
    "    wsMax = ws.copy()\n",
    "    for i in range(numIt):\n",
    "        #print (ws.T)\n",
    "        lowestError = np.inf; \n",
    "        for j in range(n):\n",
    "            for sign in [-1,1]:\n",
    "                wsTest = ws.copy()\n",
    "                wsTest[j] += eps*sign\n",
    "                yTest = xMat*wsTest\n",
    "                rssE = rssError(yMat.A,yTest.A)\n",
    "                if rssE < lowestError:\n",
    "                    lowestError = rssE\n",
    "                    wsMax = wsTest\n",
    "        ws = wsMax.copy()\n",
    "        returnMat[i,:]=ws.T\n",
    "    return returnMat"
   ]
  },
  {
   "cell_type": "code",
   "execution_count": 30,
   "metadata": {},
   "outputs": [],
   "source": [
    "returnMat = stageWise(abX,abY,0.005,1000)"
   ]
  },
  {
   "cell_type": "code",
   "execution_count": 31,
   "metadata": {},
   "outputs": [
    {
     "data": {
      "image/png": "[encoded data removed]",
      "text/plain": [
       "<Figure size 432x288 with 1 Axes>"
      ]
     },
     "metadata": {},
     "output_type": "display_data"
    }
   ],
   "source": [
    "fig = plt.figure()\n",
    "ax = fig.add_subplot(111)\n",
    "ax.plot(returnMat)\n",
    "plt.xlabel(\"itres\")\n",
    "plt.ylabel(\"w1-8\")\n",
    "plt.title(\"Ridge Regres\")\n",
    "plt.show()"
   ]
  },
  {
   "cell_type": "code",
   "execution_count": 32,
   "metadata": {},
   "outputs": [],
   "source": [
    "xMat = np.mat(abX)\n",
    "yMat = np.mat(abY).T\n",
    "xMat = regularize(xMat)\n",
    "yM = np.mean(yMat,0)\n",
    "yMat = yMat - yM\n",
    "\n",
    "weights = standRegres(xMat, yMat.T)"
   ]
  },
  {
   "cell_type": "code",
   "execution_count": 33,
   "metadata": {},
   "outputs": [
    {
     "data": {
      "text/plain": [
       "(matrix([[ 0.0430442 , -0.02274163,  0.13214087,  0.02075182,  2.22403814,\n",
       "          -0.99895312, -0.11725427,  0.16622915]]),\n",
       " array([ 0.045,  0.   ,  0.105,  0.025,  1.295, -0.83 , -0.06 ,  0.26 ]))"
      ]
     },
     "execution_count": 33,
     "metadata": {},
     "output_type": "execute_result"
    }
   ],
   "source": [
    "weights.T , returnMat[np.shape(returnMat)[0]-1]"
   ]
  },
  {
   "cell_type": "code",
   "execution_count": 34,
   "metadata": {},
   "outputs": [],
   "source": [
    "def scrapePage(inFile,outFile,yr,numPce,origPrc):\n",
    "    from bs4 import BeautifulSoup\n",
    "    fr = open(inFile); fw=open(outFile,'a') #a is append mode writing\n",
    "    soup = BeautifulSoup(fr.read(), \"lxml\")\n",
    "    i=1\n",
    "    currentRow = soup.findAll('table', r=\"%d\" % i)\n",
    "    while(len(currentRow)!=0):\n",
    "        title = currentRow[0].findAll('a')[1].text\n",
    "        lwrTitle = title.lower()\n",
    "        if (lwrTitle.find('new') > -1) or (lwrTitle.find('nisb') > -1):\n",
    "            newFlag = 1.0\n",
    "        else:\n",
    "            newFlag = 0.0\n",
    "        soldUnicde = currentRow[0].findAll('td')[3].findAll('span')\n",
    "        if len(soldUnicde)==0:\n",
    "            print (\"item #%d did not sell\" % i)\n",
    "        else:\n",
    "            soldPrice = currentRow[0].findAll('td')[4]\n",
    "            priceStr = soldPrice.text\n",
    "            priceStr = priceStr.replace('$','') #strips out $\n",
    "            priceStr = priceStr.replace(',','') #strips out ,\n",
    "            if len(soldPrice)>1:\n",
    "                priceStr = priceStr.replace('Free shipping', '') #strips out Free Shipping\n",
    "            #print (\"%s\\t%d\\t%s\" % (priceStr,newFlag,title))\n",
    "            fw.write(\"%d\\t%d\\t%d\\t%f\\t%s\\n\" % (yr,numPce,newFlag,origPrc,priceStr))\n",
    "        i += 1\n",
    "        currentRow = soup.findAll('table', r=\"%d\" % i)\n",
    "    fw.close()\n",
    "    "
   ]
  },
  {
   "cell_type": "code",
   "execution_count": 35,
   "metadata": {},
   "outputs": [],
   "source": [
    "# 准备数据运行一次就可以了\n",
    "#scrapePage('setHtml/lego8288.html','legoPrice.txt',2006, 800, 49.99)\n",
    "#scrapePage('setHtml/lego10030.html','legoPrice.txt',2002, 3096, 269.99)\n",
    "#scrapePage('setHtml/lego10179.html','legoPrice.txt',2007, 5195, 499.99)\n",
    "#scrapePage('setHtml/lego10181.html','legoPrice.txt',2007, 3428, 199.99)\n",
    "#scrapePage('setHtml/lego10189.html','legoPrice.txt',2008, 5922, 299.99)\n",
    "#scrapePage('setHtml/lego10196.html','legoPrice.txt',2009, 3263, 249.99)   "
   ]
  },
  {
   "cell_type": "code",
   "execution_count": 36,
   "metadata": {},
   "outputs": [],
   "source": [
    "retX, retY = loadDataSet('legoPrice.txt')"
   ]
  },
  {
   "cell_type": "code",
   "execution_count": 37,
   "metadata": {},
   "outputs": [],
   "source": [
    "def crossValidation(xArr,yArr,numVal=10):\n",
    "    m = len(yArr)                           \n",
    "    indexList =list(range(m))\n",
    "    errorMat = np.zeros((numVal,30))#create error mat 30columns numVal rows\n",
    "    for i in range(numVal):\n",
    "        trainX=[]; trainY=[]\n",
    "        testX = []; testY = []\n",
    "        np.random.shuffle(indexList)\n",
    "        for j in range(m):#create training set based on first 90% of values in indexList\n",
    "            if j < m*0.9: \n",
    "                trainX.append(xArr[indexList[j]])\n",
    "                trainY.append(yArr[indexList[j]])\n",
    "            else:\n",
    "                testX.append(xArr[indexList[j]])\n",
    "                testY.append(yArr[indexList[j]])\n",
    "        wMat = ridgeTest(trainX,trainY)    #get 30 weight vectors from ridge\n",
    "        for k in range(30):#loop over all of the ridge estimates\n",
    "            matTestX = np.mat(testX); \n",
    "            matTrainX=np.mat(trainX)\n",
    "            meanTrain = np.mean(matTrainX,0)\n",
    "            varTrain = np.var(matTrainX,0)\n",
    "            matTestX = (matTestX-meanTrain)/varTrain #regularize test with training params\n",
    "            yEst = matTestX * np.mat(wMat[k,:]).T + np.mean(trainY)#test ridge results and store\n",
    "            errorMat[i,k]=rssError(yEst.T.A, np.array(testY))\n",
    "            #print errorMat[i,k]\n",
    "    meanErrors =np.mean(errorMat,0)#calc avg performance of the different ridge weight vectors\n",
    "    minMean = float(min(meanErrors))\n",
    "    bestWeights = wMat[np.nonzero(meanErrors==minMean)]\n",
    "    #can unregularize to get model\n",
    "    #when we regularized we wrote Xreg = (x-meanX)/var(x)\n",
    "    #we can now write in terms of x not Xreg:  x*w/var(x) - meanX/var(x) +meanY\n",
    "    xMat = np.mat(xArr); yMat=np.mat(yArr).T\n",
    "    meanX = np.mean(xMat,0); varX = np.var(xMat,0)\n",
    "    unReg = bestWeights/varX\n",
    "    print (\"the best model from Ridge Regression is:\\n\",unReg)\n",
    "    print (\"with constant term: \",-1*sum(np.multiply(meanX,unReg)) + np.mean(yMat))"
   ]
  },
  {
   "cell_type": "code",
   "execution_count": 38,
   "metadata": {},
   "outputs": [
    {
     "name": "stdout",
     "output_type": "stream",
     "text": [
      "the best model from Ridge Regression is:\n",
      " [[-3.05329684e+01  9.89276479e-04 -5.79819176e+00  1.85804211e+00]]\n",
      "with constant term:  [[61952.94887638   681.20567774   688.25069753    70.49274014]]\n"
     ]
    }
   ],
   "source": [
    "crossValidation(retX, retY)"
   ]
  },
  {
   "cell_type": "code",
   "execution_count": null,
   "metadata": {},
   "outputs": [],
   "source": []
  }
 ],
 "metadata": {
  "kernelspec": {
   "display_name": "Python 3",
   "language": "python",
   "name": "python3"
  },
  "language_info": {
   "codemirror_mode": {
    "name": "ipython",
    "version": 3
   },
   "file_extension": ".py",
   "mimetype": "text/x-python",
   "name": "python",
   "nbconvert_exporter": "python",
   "pygments_lexer": "ipython3",
   "version": "3.6.5"
  }
 },
 "nbformat": 4,
 "nbformat_minor": 2
}
